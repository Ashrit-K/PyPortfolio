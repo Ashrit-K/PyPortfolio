{
 "metadata": {
  "language_info": {
   "codemirror_mode": {
    "name": "ipython",
    "version": 3
   },
   "file_extension": ".py",
   "mimetype": "text/x-python",
   "name": "python",
   "nbconvert_exporter": "python",
   "pygments_lexer": "ipython3",
   "version": "3.8.5-final"
  },
  "orig_nbformat": 2,
  "kernelspec": {
   "name": "python3",
   "display_name": "Python 3"
  }
 },
 "nbformat": 4,
 "nbformat_minor": 2,
 "cells": [
  {
   "cell_type": "code",
   "execution_count": 54,
   "metadata": {},
   "outputs": [
    {
     "output_type": "stream",
     "name": "stdout",
     "text": [
      "The autoreload extension is already loaded. To reload it, use:\n  %reload_ext autoreload\n"
     ]
    }
   ],
   "source": [
    "import pandas as pd\n",
    "import pandas_datareader.data as pdr\n",
    "import yfinance as yf\n",
    "import datetime as dt\n",
    "from RiskReturn import *\n",
    "yf.pdr_override()\n",
    "%load_ext autoreload\n",
    "%autoreload 2"
   ]
  },
  {
   "cell_type": "code",
   "execution_count": 62,
   "metadata": {},
   "outputs": [
    {
     "output_type": "stream",
     "name": "stdout",
     "text": [
      "[*********************100%***********************]  2 of 2 completed\n"
     ]
    },
    {
     "output_type": "execute_result",
     "data": {
      "text/plain": [
       "                 GLD       SPY\n",
       "Date                          \n",
       "2004-12-31 -0.029255  0.030121\n",
       "2005-01-31 -0.036073 -0.022421\n",
       "2005-02-28  0.031028  0.020904\n",
       "2005-03-31 -0.016311 -0.018293\n",
       "2005-04-30  0.012377 -0.018735\n",
       "...              ...       ...\n",
       "2020-07-31  0.107905  0.058892\n",
       "2020-08-31 -0.003236  0.069797\n",
       "2020-09-30 -0.041714 -0.037444\n",
       "2020-10-31 -0.005194 -0.024934\n",
       "2020-11-30 -0.002894  0.088167\n",
       "\n",
       "[192 rows x 2 columns]"
      ],
      "text/html": "<div>\n<style scoped>\n    .dataframe tbody tr th:only-of-type {\n        vertical-align: middle;\n    }\n\n    .dataframe tbody tr th {\n        vertical-align: top;\n    }\n\n    .dataframe thead th {\n        text-align: right;\n    }\n</style>\n<table border=\"1\" class=\"dataframe\">\n  <thead>\n    <tr style=\"text-align: right;\">\n      <th></th>\n      <th>GLD</th>\n      <th>SPY</th>\n    </tr>\n    <tr>\n      <th>Date</th>\n      <th></th>\n      <th></th>\n    </tr>\n  </thead>\n  <tbody>\n    <tr>\n      <th>2004-12-31</th>\n      <td>-0.029255</td>\n      <td>0.030121</td>\n    </tr>\n    <tr>\n      <th>2005-01-31</th>\n      <td>-0.036073</td>\n      <td>-0.022421</td>\n    </tr>\n    <tr>\n      <th>2005-02-28</th>\n      <td>0.031028</td>\n      <td>0.020904</td>\n    </tr>\n    <tr>\n      <th>2005-03-31</th>\n      <td>-0.016311</td>\n      <td>-0.018293</td>\n    </tr>\n    <tr>\n      <th>2005-04-30</th>\n      <td>0.012377</td>\n      <td>-0.018735</td>\n    </tr>\n    <tr>\n      <th>...</th>\n      <td>...</td>\n      <td>...</td>\n    </tr>\n    <tr>\n      <th>2020-07-31</th>\n      <td>0.107905</td>\n      <td>0.058892</td>\n    </tr>\n    <tr>\n      <th>2020-08-31</th>\n      <td>-0.003236</td>\n      <td>0.069797</td>\n    </tr>\n    <tr>\n      <th>2020-09-30</th>\n      <td>-0.041714</td>\n      <td>-0.037444</td>\n    </tr>\n    <tr>\n      <th>2020-10-31</th>\n      <td>-0.005194</td>\n      <td>-0.024934</td>\n    </tr>\n    <tr>\n      <th>2020-11-30</th>\n      <td>-0.002894</td>\n      <td>0.088167</td>\n    </tr>\n  </tbody>\n</table>\n<p>192 rows × 2 columns</p>\n</div>"
     },
     "metadata": {},
     "execution_count": 62
    }
   ],
   "source": [
    "\n",
    "start = dt.datetime(2000,1,2)\n",
    "end = dt.datetime.today()\n",
    "SPY_prices_daily = pdr.get_data_yahoo(['SPY', 'GLD'], start=start, end=end)\n",
    "SPY_prices_monthly = SPY_prices_daily['Adj Close'].resample('M').last()\n",
    "SPY_returns_monthly = SPY_prices_monthly.pct_change().dropna()\n",
    "SPY_returns_monthly"
   ]
  },
  {
   "cell_type": "code",
   "execution_count": 74,
   "metadata": {},
   "outputs": [],
   "source": [
    "my_object = RiskReturn(return_series=SPY_returns_monthly, periodicity='M')"
   ]
  },
  {
   "cell_type": "code",
   "execution_count": 69,
   "metadata": {},
   "outputs": [
    {
     "output_type": "execute_result",
     "data": {
      "text/plain": [
       "GLD    0.101517\n",
       "SPY    0.115230\n",
       "dtype: float64"
      ]
     },
     "metadata": {},
     "execution_count": 69
    }
   ],
   "source": [
    "\n",
    "semi_deviation(SPY_returns_monthly, 'M')"
   ]
  },
  {
   "cell_type": "code",
   "execution_count": 33,
   "metadata": {},
   "outputs": [],
   "source": []
  },
  {
   "source": [
    "\n"
   ],
   "cell_type": "code",
   "metadata": {},
   "execution_count": null,
   "outputs": []
  }
 ]
}