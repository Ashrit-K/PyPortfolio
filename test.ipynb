{
 "cells": [
  {
   "cell_type": "code",
   "execution_count": 13,
   "metadata": {
    "ExecuteTime": {
     "end_time": "2020-12-08T15:06:33.060652Z",
     "start_time": "2020-12-08T15:06:33.035027Z"
    }
   },
   "outputs": [
    {
     "output_type": "stream",
     "name": "stdout",
     "text": [
      "The autoreload extension is already loaded. To reload it, use:\n  %reload_ext autoreload\n"
     ]
    }
   ],
   "source": [
    "import pandas as pd\n",
    "import pandas_datareader.data as pdr\n",
    "import yfinance as yf\n",
    "import datetime as dt\n",
    "import time\n",
    "from PyPortfolio import *\n",
    "from tqdm.auto import tqdm\n",
    "yf.pdr_override()\n",
    "%load_ext autoreload\n",
    "%autoreload 2"
   ]
  },
  {
   "cell_type": "code",
   "execution_count": 56,
   "metadata": {
    "ExecuteTime": {
     "end_time": "2020-12-08T14:41:22.146114Z",
     "start_time": "2020-12-08T14:41:20.452237Z"
    }
   },
   "outputs": [
    {
     "output_type": "stream",
     "name": "stdout",
     "text": [
      "[*********************100%***********************]  3 of 3 completed\n"
     ]
    }
   ],
   "source": [
    "\n",
    "start = dt.datetime(2005,1,2)\n",
    "end = dt.datetime.today()\n",
    "prices_daily = pdr.get_data_yahoo(['^GSPC','^NSEI', '^FTSE'], start=start, end=end)\n",
    "prices_monthly = prices_daily['Adj Close'].resample('M').last()\n",
    "returns_monthly = prices_monthly.pct_change().dropna()\n"
   ]
  },
  {
   "cell_type": "code",
   "execution_count": 57,
   "metadata": {
    "ExecuteTime": {
     "end_time": "2020-12-08T14:41:22.233127Z",
     "start_time": "2020-12-08T14:41:22.150917Z"
    }
   },
   "outputs": [],
   "source": [
    "riskreturn_object = RiskReturn(return_series=returns_monthly, periodicity='M')"
   ]
  },
  {
   "cell_type": "code",
   "execution_count": 58,
   "metadata": {
    "ExecuteTime": {
     "end_time": "2020-12-08T14:41:23.152934Z",
     "start_time": "2020-12-08T14:41:22.235967Z"
    }
   },
   "outputs": [],
   "source": [
    "\n",
    "portfolio_object = PyPortfolio(return_series=returns_monthly, periodicity='M')\n"
   ]
  },
  {
   "cell_type": "code",
   "execution_count": 65,
   "metadata": {},
   "outputs": [
    {
     "output_type": "execute_result",
     "data": {
      "text/plain": [
       "[<matplotlib.lines.Line2D at 0x7fc892db2280>]"
      ]
     },
     "metadata": {},
     "execution_count": 65
    },
    {
     "output_type": "display_data",
     "data": {
      "text/plain": "<Figure size 576x396 with 1 Axes>",
      "image/svg+xml": "<?xml version=\"1.0\" encoding=\"utf-8\" standalone=\"no\"?>\n<!DOCTYPE svg PUBLIC \"-//W3C//DTD SVG 1.1//EN\"\n  \"http://www.w3.org/Graphics/SVG/1.1/DTD/svg11.dtd\">\n<!-- Created with matplotlib (https://matplotlib.org/) -->\n<svg height=\"329.525312pt\" version=\"1.1\" viewBox=\"0 0 487.260937 329.525312\" width=\"487.260937pt\" xmlns=\"http://www.w3.org/2000/svg\" xmlns:xlink=\"http://www.w3.org/1999/xlink\">\n <metadata>\n  <rdf:RDF xmlns:cc=\"http://creativecommons.org/ns#\" xmlns:dc=\"http://purl.org/dc/elements/1.1/\" xmlns:rdf=\"http://www.w3.org/1999/02/22-rdf-syntax-ns#\">\n   <cc:Work>\n    <dc:type rdf:resource=\"http://purl.org/dc/dcmitype/StillImage\"/>\n    <dc:date>2020-12-17T15:51:48.638543</dc:date>\n    <dc:format>image/svg+xml</dc:format>\n    <dc:creator>\n     <cc:Agent>\n      <dc:title>Matplotlib v3.3.0, https://matplotlib.org/</dc:title>\n     </cc:Agent>\n    </dc:creator>\n   </cc:Work>\n  </rdf:RDF>\n </metadata>\n <defs>\n  <style type=\"text/css\">*{stroke-linecap:butt;stroke-linejoin:round;}</style>\n </defs>\n <g id=\"figure_1\">\n  <g id=\"patch_1\">\n   <path d=\"M 0 329.525312 \nL 487.260937 329.525312 \nL 487.260937 0 \nL 0 0 \nz\n\" style=\"fill:#ffffff;\"/>\n  </g>\n  <g id=\"axes_1\">\n   <g id=\"patch_2\">\n    <path d=\"M 33.660938 306.18 \nL 480.060937 306.18 \nL 480.060937 7.2 \nL 33.660938 7.2 \nz\n\" style=\"fill:#e5e5e5;\"/>\n   </g>\n   <g id=\"matplotlib.axis_1\">\n    <g id=\"xtick_1\">\n     <g id=\"line2d_1\">\n      <path clip-path=\"url(#p8d223c7807)\" d=\"M 123.683776 306.18 \nL 123.683776 7.2 \n\" style=\"fill:none;stroke:#ffffff;stroke-linecap:round;\"/>\n     </g>\n     <g id=\"line2d_2\"/>\n     <g id=\"text_1\">\n      <!-- 0.15 -->\n      <g style=\"fill:#555555;\" transform=\"translate(113.953307 320.337812)scale(0.1 -0.1)\">\n       <defs>\n        <path d=\"M 4.15625 35.296875 \nQ 4.15625 48 6.765625 55.734375 \nQ 9.375 63.484375 14.515625 67.671875 \nQ 19.671875 71.875 27.484375 71.875 \nQ 33.25 71.875 37.59375 69.546875 \nQ 41.9375 67.234375 44.765625 62.859375 \nQ 47.609375 58.5 49.21875 52.21875 \nQ 50.828125 45.953125 50.828125 35.296875 \nQ 50.828125 22.703125 48.234375 14.96875 \nQ 45.65625 7.234375 40.5 3 \nQ 35.359375 -1.21875 27.484375 -1.21875 \nQ 17.140625 -1.21875 11.234375 6.203125 \nQ 4.15625 15.140625 4.15625 35.296875 \nz\nM 13.1875 35.296875 \nQ 13.1875 17.671875 17.3125 11.828125 \nQ 21.4375 6 27.484375 6 \nQ 33.546875 6 37.671875 11.859375 \nQ 41.796875 17.71875 41.796875 35.296875 \nQ 41.796875 52.984375 37.671875 58.78125 \nQ 33.546875 64.59375 27.390625 64.59375 \nQ 21.34375 64.59375 17.71875 59.46875 \nQ 13.1875 52.9375 13.1875 35.296875 \nz\n\" id=\"ArialMT-48\"/>\n        <path d=\"M 9.078125 0 \nL 9.078125 10.015625 \nL 19.09375 10.015625 \nL 19.09375 0 \nz\n\" id=\"ArialMT-46\"/>\n        <path d=\"M 37.25 0 \nL 28.46875 0 \nL 28.46875 56 \nQ 25.296875 52.984375 20.140625 49.953125 \nQ 14.984375 46.921875 10.890625 45.40625 \nL 10.890625 53.90625 \nQ 18.265625 57.375 23.78125 62.296875 \nQ 29.296875 67.234375 31.59375 71.875 \nL 37.25 71.875 \nz\n\" id=\"ArialMT-49\"/>\n        <path d=\"M 4.15625 18.75 \nL 13.375 19.53125 \nQ 14.40625 12.796875 18.140625 9.390625 \nQ 21.875 6 27.15625 6 \nQ 33.5 6 37.890625 10.78125 \nQ 42.28125 15.578125 42.28125 23.484375 \nQ 42.28125 31 38.0625 35.34375 \nQ 33.84375 39.703125 27 39.703125 \nQ 22.75 39.703125 19.328125 37.765625 \nQ 15.921875 35.84375 13.96875 32.765625 \nL 5.71875 33.84375 \nL 12.640625 70.609375 \nL 48.25 70.609375 \nL 48.25 62.203125 \nL 19.671875 62.203125 \nL 15.828125 42.96875 \nQ 22.265625 47.46875 29.34375 47.46875 \nQ 38.71875 47.46875 45.15625 40.96875 \nQ 51.609375 34.46875 51.609375 24.265625 \nQ 51.609375 14.546875 45.953125 7.46875 \nQ 39.0625 -1.21875 27.15625 -1.21875 \nQ 17.390625 -1.21875 11.203125 4.25 \nQ 5.03125 9.71875 4.15625 18.75 \nz\n\" id=\"ArialMT-53\"/>\n       </defs>\n       <use xlink:href=\"#ArialMT-48\"/>\n       <use x=\"55.615234\" xlink:href=\"#ArialMT-46\"/>\n       <use x=\"83.398438\" xlink:href=\"#ArialMT-49\"/>\n       <use x=\"139.013672\" xlink:href=\"#ArialMT-53\"/>\n      </g>\n     </g>\n    </g>\n    <g id=\"xtick_2\">\n     <g id=\"line2d_3\">\n      <path clip-path=\"url(#p8d223c7807)\" d=\"M 220.057718 306.18 \nL 220.057718 7.2 \n\" style=\"fill:none;stroke:#ffffff;stroke-linecap:round;\"/>\n     </g>\n     <g id=\"line2d_4\"/>\n     <g id=\"text_2\">\n      <!-- 0.16 -->\n      <g style=\"fill:#555555;\" transform=\"translate(210.32725 320.337812)scale(0.1 -0.1)\">\n       <defs>\n        <path d=\"M 49.75 54.046875 \nL 41.015625 53.375 \nQ 39.84375 58.546875 37.703125 60.890625 \nQ 34.125 64.65625 28.90625 64.65625 \nQ 24.703125 64.65625 21.53125 62.3125 \nQ 17.390625 59.28125 14.984375 53.46875 \nQ 12.59375 47.65625 12.5 36.921875 \nQ 15.671875 41.75 20.265625 44.09375 \nQ 24.859375 46.4375 29.890625 46.4375 \nQ 38.671875 46.4375 44.84375 39.96875 \nQ 51.03125 33.5 51.03125 23.25 \nQ 51.03125 16.5 48.125 10.71875 \nQ 45.21875 4.9375 40.140625 1.859375 \nQ 35.0625 -1.21875 28.609375 -1.21875 \nQ 17.625 -1.21875 10.6875 6.859375 \nQ 3.765625 14.9375 3.765625 33.5 \nQ 3.765625 54.25 11.421875 63.671875 \nQ 18.109375 71.875 29.4375 71.875 \nQ 37.890625 71.875 43.28125 67.140625 \nQ 48.6875 62.40625 49.75 54.046875 \nz\nM 13.875 23.1875 \nQ 13.875 18.65625 15.796875 14.5 \nQ 17.71875 10.359375 21.1875 8.171875 \nQ 24.65625 6 28.46875 6 \nQ 34.03125 6 38.03125 10.484375 \nQ 42.046875 14.984375 42.046875 22.703125 \nQ 42.046875 30.125 38.078125 34.390625 \nQ 34.125 38.671875 28.125 38.671875 \nQ 22.171875 38.671875 18.015625 34.390625 \nQ 13.875 30.125 13.875 23.1875 \nz\n\" id=\"ArialMT-54\"/>\n       </defs>\n       <use xlink:href=\"#ArialMT-48\"/>\n       <use x=\"55.615234\" xlink:href=\"#ArialMT-46\"/>\n       <use x=\"83.398438\" xlink:href=\"#ArialMT-49\"/>\n       <use x=\"139.013672\" xlink:href=\"#ArialMT-54\"/>\n      </g>\n     </g>\n    </g>\n    <g id=\"xtick_3\">\n     <g id=\"line2d_5\">\n      <path clip-path=\"url(#p8d223c7807)\" d=\"M 316.431661 306.18 \nL 316.431661 7.2 \n\" style=\"fill:none;stroke:#ffffff;stroke-linecap:round;\"/>\n     </g>\n     <g id=\"line2d_6\"/>\n     <g id=\"text_3\">\n      <!-- 0.17 -->\n      <g style=\"fill:#555555;\" transform=\"translate(306.701192 320.337812)scale(0.1 -0.1)\">\n       <defs>\n        <path d=\"M 4.734375 62.203125 \nL 4.734375 70.65625 \nL 51.078125 70.65625 \nL 51.078125 63.8125 \nQ 44.234375 56.546875 37.515625 44.484375 \nQ 30.8125 32.421875 27.15625 19.671875 \nQ 24.515625 10.6875 23.78125 0 \nL 14.75 0 \nQ 14.890625 8.453125 18.0625 20.40625 \nQ 21.234375 32.375 27.171875 43.484375 \nQ 33.109375 54.59375 39.796875 62.203125 \nz\n\" id=\"ArialMT-55\"/>\n       </defs>\n       <use xlink:href=\"#ArialMT-48\"/>\n       <use x=\"55.615234\" xlink:href=\"#ArialMT-46\"/>\n       <use x=\"83.398438\" xlink:href=\"#ArialMT-49\"/>\n       <use x=\"139.013672\" xlink:href=\"#ArialMT-55\"/>\n      </g>\n     </g>\n    </g>\n    <g id=\"xtick_4\">\n     <g id=\"line2d_7\">\n      <path clip-path=\"url(#p8d223c7807)\" d=\"M 412.805604 306.18 \nL 412.805604 7.2 \n\" style=\"fill:none;stroke:#ffffff;stroke-linecap:round;\"/>\n     </g>\n     <g id=\"line2d_8\"/>\n     <g id=\"text_4\">\n      <!-- 0.18 -->\n      <g style=\"fill:#555555;\" transform=\"translate(403.075135 320.337812)scale(0.1 -0.1)\">\n       <defs>\n        <path d=\"M 17.671875 38.8125 \nQ 12.203125 40.828125 9.5625 44.53125 \nQ 6.9375 48.25 6.9375 53.421875 \nQ 6.9375 61.234375 12.546875 66.546875 \nQ 18.171875 71.875 27.484375 71.875 \nQ 36.859375 71.875 42.578125 66.421875 \nQ 48.296875 60.984375 48.296875 53.171875 \nQ 48.296875 48.1875 45.671875 44.5 \nQ 43.0625 40.828125 37.75 38.8125 \nQ 44.34375 36.671875 47.78125 31.875 \nQ 51.21875 27.09375 51.21875 20.453125 \nQ 51.21875 11.28125 44.71875 5.03125 \nQ 38.234375 -1.21875 27.640625 -1.21875 \nQ 17.046875 -1.21875 10.546875 5.046875 \nQ 4.046875 11.328125 4.046875 20.703125 \nQ 4.046875 27.6875 7.59375 32.390625 \nQ 11.140625 37.109375 17.671875 38.8125 \nz\nM 15.921875 53.71875 \nQ 15.921875 48.640625 19.1875 45.40625 \nQ 22.46875 42.1875 27.6875 42.1875 \nQ 32.765625 42.1875 36.015625 45.375 \nQ 39.265625 48.578125 39.265625 53.21875 \nQ 39.265625 58.0625 35.90625 61.359375 \nQ 32.5625 64.65625 27.59375 64.65625 \nQ 22.5625 64.65625 19.234375 61.421875 \nQ 15.921875 58.203125 15.921875 53.71875 \nz\nM 13.09375 20.65625 \nQ 13.09375 16.890625 14.875 13.375 \nQ 16.65625 9.859375 20.171875 7.921875 \nQ 23.6875 6 27.734375 6 \nQ 34.03125 6 38.125 10.046875 \nQ 42.234375 14.109375 42.234375 20.359375 \nQ 42.234375 26.703125 38.015625 30.859375 \nQ 33.796875 35.015625 27.4375 35.015625 \nQ 21.234375 35.015625 17.15625 30.90625 \nQ 13.09375 26.8125 13.09375 20.65625 \nz\n\" id=\"ArialMT-56\"/>\n       </defs>\n       <use xlink:href=\"#ArialMT-48\"/>\n       <use x=\"55.615234\" xlink:href=\"#ArialMT-46\"/>\n       <use x=\"83.398438\" xlink:href=\"#ArialMT-49\"/>\n       <use x=\"139.013672\" xlink:href=\"#ArialMT-56\"/>\n      </g>\n     </g>\n    </g>\n   </g>\n   <g id=\"matplotlib.axis_2\">\n    <g id=\"ytick_1\">\n     <g id=\"line2d_9\">\n      <path clip-path=\"url(#p8d223c7807)\" d=\"M 33.660938 296.502936 \nL 480.060937 296.502936 \n\" style=\"fill:none;stroke:#ffffff;stroke-linecap:round;\"/>\n     </g>\n     <g id=\"line2d_10\"/>\n     <g id=\"text_5\">\n      <!-- 0.00 -->\n      <g style=\"fill:#555555;\" transform=\"translate(7.2 300.081842)scale(0.1 -0.1)\">\n       <use xlink:href=\"#ArialMT-48\"/>\n       <use x=\"55.615234\" xlink:href=\"#ArialMT-46\"/>\n       <use x=\"83.398438\" xlink:href=\"#ArialMT-48\"/>\n       <use x=\"139.013672\" xlink:href=\"#ArialMT-48\"/>\n      </g>\n     </g>\n    </g>\n    <g id=\"ytick_2\">\n     <g id=\"line2d_11\">\n      <path clip-path=\"url(#p8d223c7807)\" d=\"M 33.660938 261.573898 \nL 480.060937 261.573898 \n\" style=\"fill:none;stroke:#ffffff;stroke-linecap:round;\"/>\n     </g>\n     <g id=\"line2d_12\"/>\n     <g id=\"text_6\">\n      <!-- 0.01 -->\n      <g style=\"fill:#555555;\" transform=\"translate(7.2 265.152804)scale(0.1 -0.1)\">\n       <use xlink:href=\"#ArialMT-48\"/>\n       <use x=\"55.615234\" xlink:href=\"#ArialMT-46\"/>\n       <use x=\"83.398438\" xlink:href=\"#ArialMT-48\"/>\n       <use x=\"139.013672\" xlink:href=\"#ArialMT-49\"/>\n      </g>\n     </g>\n    </g>\n    <g id=\"ytick_3\">\n     <g id=\"line2d_13\">\n      <path clip-path=\"url(#p8d223c7807)\" d=\"M 33.660938 226.64486 \nL 480.060937 226.64486 \n\" style=\"fill:none;stroke:#ffffff;stroke-linecap:round;\"/>\n     </g>\n     <g id=\"line2d_14\"/>\n     <g id=\"text_7\">\n      <!-- 0.02 -->\n      <g style=\"fill:#555555;\" transform=\"translate(7.2 230.223766)scale(0.1 -0.1)\">\n       <defs>\n        <path d=\"M 50.34375 8.453125 \nL 50.34375 0 \nL 3.03125 0 \nQ 2.9375 3.171875 4.046875 6.109375 \nQ 5.859375 10.9375 9.828125 15.625 \nQ 13.8125 20.3125 21.34375 26.46875 \nQ 33.015625 36.03125 37.109375 41.625 \nQ 41.21875 47.21875 41.21875 52.203125 \nQ 41.21875 57.421875 37.46875 61 \nQ 33.734375 64.59375 27.734375 64.59375 \nQ 21.390625 64.59375 17.578125 60.78125 \nQ 13.765625 56.984375 13.71875 50.25 \nL 4.6875 51.171875 \nQ 5.609375 61.28125 11.65625 66.578125 \nQ 17.71875 71.875 27.9375 71.875 \nQ 38.234375 71.875 44.234375 66.15625 \nQ 50.25 60.453125 50.25 52 \nQ 50.25 47.703125 48.484375 43.546875 \nQ 46.734375 39.40625 42.65625 34.8125 \nQ 38.578125 30.21875 29.109375 22.21875 \nQ 21.1875 15.578125 18.9375 13.203125 \nQ 16.703125 10.84375 15.234375 8.453125 \nz\n\" id=\"ArialMT-50\"/>\n       </defs>\n       <use xlink:href=\"#ArialMT-48\"/>\n       <use x=\"55.615234\" xlink:href=\"#ArialMT-46\"/>\n       <use x=\"83.398438\" xlink:href=\"#ArialMT-48\"/>\n       <use x=\"139.013672\" xlink:href=\"#ArialMT-50\"/>\n      </g>\n     </g>\n    </g>\n    <g id=\"ytick_4\">\n     <g id=\"line2d_15\">\n      <path clip-path=\"url(#p8d223c7807)\" d=\"M 33.660938 191.715822 \nL 480.060937 191.715822 \n\" style=\"fill:none;stroke:#ffffff;stroke-linecap:round;\"/>\n     </g>\n     <g id=\"line2d_16\"/>\n     <g id=\"text_8\">\n      <!-- 0.03 -->\n      <g style=\"fill:#555555;\" transform=\"translate(7.2 195.294728)scale(0.1 -0.1)\">\n       <defs>\n        <path d=\"M 4.203125 18.890625 \nL 12.984375 20.0625 \nQ 14.5 12.59375 18.140625 9.296875 \nQ 21.78125 6 27 6 \nQ 33.203125 6 37.46875 10.296875 \nQ 41.75 14.59375 41.75 20.953125 \nQ 41.75 27 37.796875 30.921875 \nQ 33.84375 34.859375 27.734375 34.859375 \nQ 25.25 34.859375 21.53125 33.890625 \nL 22.515625 41.609375 \nQ 23.390625 41.5 23.921875 41.5 \nQ 29.546875 41.5 34.03125 44.421875 \nQ 38.53125 47.359375 38.53125 53.46875 \nQ 38.53125 58.296875 35.25 61.46875 \nQ 31.984375 64.65625 26.8125 64.65625 \nQ 21.6875 64.65625 18.265625 61.421875 \nQ 14.84375 58.203125 13.875 51.765625 \nL 5.078125 53.328125 \nQ 6.6875 62.15625 12.390625 67.015625 \nQ 18.109375 71.875 26.609375 71.875 \nQ 32.46875 71.875 37.390625 69.359375 \nQ 42.328125 66.84375 44.9375 62.5 \nQ 47.5625 58.15625 47.5625 53.265625 \nQ 47.5625 48.640625 45.0625 44.828125 \nQ 42.578125 41.015625 37.703125 38.765625 \nQ 44.046875 37.3125 47.5625 32.6875 \nQ 51.078125 28.078125 51.078125 21.140625 \nQ 51.078125 11.765625 44.234375 5.25 \nQ 37.40625 -1.265625 26.953125 -1.265625 \nQ 17.53125 -1.265625 11.296875 4.34375 \nQ 5.078125 9.96875 4.203125 18.890625 \nz\n\" id=\"ArialMT-51\"/>\n       </defs>\n       <use xlink:href=\"#ArialMT-48\"/>\n       <use x=\"55.615234\" xlink:href=\"#ArialMT-46\"/>\n       <use x=\"83.398438\" xlink:href=\"#ArialMT-48\"/>\n       <use x=\"139.013672\" xlink:href=\"#ArialMT-51\"/>\n      </g>\n     </g>\n    </g>\n    <g id=\"ytick_5\">\n     <g id=\"line2d_17\">\n      <path clip-path=\"url(#p8d223c7807)\" d=\"M 33.660938 156.786784 \nL 480.060937 156.786784 \n\" style=\"fill:none;stroke:#ffffff;stroke-linecap:round;\"/>\n     </g>\n     <g id=\"line2d_18\"/>\n     <g id=\"text_9\">\n      <!-- 0.04 -->\n      <g style=\"fill:#555555;\" transform=\"translate(7.2 160.36569)scale(0.1 -0.1)\">\n       <defs>\n        <path d=\"M 32.328125 0 \nL 32.328125 17.140625 \nL 1.265625 17.140625 \nL 1.265625 25.203125 \nL 33.9375 71.578125 \nL 41.109375 71.578125 \nL 41.109375 25.203125 \nL 50.78125 25.203125 \nL 50.78125 17.140625 \nL 41.109375 17.140625 \nL 41.109375 0 \nz\nM 32.328125 25.203125 \nL 32.328125 57.46875 \nL 9.90625 25.203125 \nz\n\" id=\"ArialMT-52\"/>\n       </defs>\n       <use xlink:href=\"#ArialMT-48\"/>\n       <use x=\"55.615234\" xlink:href=\"#ArialMT-46\"/>\n       <use x=\"83.398438\" xlink:href=\"#ArialMT-48\"/>\n       <use x=\"139.013672\" xlink:href=\"#ArialMT-52\"/>\n      </g>\n     </g>\n    </g>\n    <g id=\"ytick_6\">\n     <g id=\"line2d_19\">\n      <path clip-path=\"url(#p8d223c7807)\" d=\"M 33.660938 121.857746 \nL 480.060937 121.857746 \n\" style=\"fill:none;stroke:#ffffff;stroke-linecap:round;\"/>\n     </g>\n     <g id=\"line2d_20\"/>\n     <g id=\"text_10\">\n      <!-- 0.05 -->\n      <g style=\"fill:#555555;\" transform=\"translate(7.2 125.436652)scale(0.1 -0.1)\">\n       <use xlink:href=\"#ArialMT-48\"/>\n       <use x=\"55.615234\" xlink:href=\"#ArialMT-46\"/>\n       <use x=\"83.398438\" xlink:href=\"#ArialMT-48\"/>\n       <use x=\"139.013672\" xlink:href=\"#ArialMT-53\"/>\n      </g>\n     </g>\n    </g>\n    <g id=\"ytick_7\">\n     <g id=\"line2d_21\">\n      <path clip-path=\"url(#p8d223c7807)\" d=\"M 33.660938 86.928707 \nL 480.060937 86.928707 \n\" style=\"fill:none;stroke:#ffffff;stroke-linecap:round;\"/>\n     </g>\n     <g id=\"line2d_22\"/>\n     <g id=\"text_11\">\n      <!-- 0.06 -->\n      <g style=\"fill:#555555;\" transform=\"translate(7.2 90.507614)scale(0.1 -0.1)\">\n       <use xlink:href=\"#ArialMT-48\"/>\n       <use x=\"55.615234\" xlink:href=\"#ArialMT-46\"/>\n       <use x=\"83.398438\" xlink:href=\"#ArialMT-48\"/>\n       <use x=\"139.013672\" xlink:href=\"#ArialMT-54\"/>\n      </g>\n     </g>\n    </g>\n    <g id=\"ytick_8\">\n     <g id=\"line2d_23\">\n      <path clip-path=\"url(#p8d223c7807)\" d=\"M 33.660938 51.999669 \nL 480.060937 51.999669 \n\" style=\"fill:none;stroke:#ffffff;stroke-linecap:round;\"/>\n     </g>\n     <g id=\"line2d_24\"/>\n     <g id=\"text_12\">\n      <!-- 0.07 -->\n      <g style=\"fill:#555555;\" transform=\"translate(7.2 55.578576)scale(0.1 -0.1)\">\n       <use xlink:href=\"#ArialMT-48\"/>\n       <use x=\"55.615234\" xlink:href=\"#ArialMT-46\"/>\n       <use x=\"83.398438\" xlink:href=\"#ArialMT-48\"/>\n       <use x=\"139.013672\" xlink:href=\"#ArialMT-55\"/>\n      </g>\n     </g>\n    </g>\n    <g id=\"ytick_9\">\n     <g id=\"line2d_25\">\n      <path clip-path=\"url(#p8d223c7807)\" d=\"M 33.660938 17.070631 \nL 480.060937 17.070631 \n\" style=\"fill:none;stroke:#ffffff;stroke-linecap:round;\"/>\n     </g>\n     <g id=\"line2d_26\"/>\n     <g id=\"text_13\">\n      <!-- 0.08 -->\n      <g style=\"fill:#555555;\" transform=\"translate(7.2 20.649538)scale(0.1 -0.1)\">\n       <use xlink:href=\"#ArialMT-48\"/>\n       <use x=\"55.615234\" xlink:href=\"#ArialMT-46\"/>\n       <use x=\"83.398438\" xlink:href=\"#ArialMT-48\"/>\n       <use x=\"139.013672\" xlink:href=\"#ArialMT-56\"/>\n      </g>\n     </g>\n    </g>\n   </g>\n   <g id=\"line2d_27\">\n    <path clip-path=\"url(#p8d223c7807)\" d=\"M 79.379924 292.59 \nL 73.073817 283.217586 \nL 67.632105 273.845172 \nL 63.072224 264.472889 \nL 59.410331 255.100904 \nL 56.6608 245.727931 \nL 54.837455 236.355517 \nL 53.951847 226.98316 \nL 54.014056 217.610689 \nL 55.032463 208.238275 \nL 57.01367 198.865862 \nL 59.939729 189.493474 \nL 63.70477 180.121118 \nL 68.299794 170.749924 \nL 73.707812 161.376334 \nL 79.94088 152.006033 \nL 86.982612 142.631693 \nL 94.835579 133.258978 \nL 103.491231 123.886613 \nL 112.940771 114.514414 \nL 123.175837 105.141991 \nL 134.186819 95.769357 \nL 145.962792 86.396946 \nL 158.492929 77.024535 \nL 171.765515 67.65214 \nL 185.768179 58.279878 \nL 200.487675 48.908156 \nL 220.267392 39.534825 \nL 280.170225 30.162431 \nL 459.770028 20.79 \n\" style=\"fill:none;stroke:#e24a33;stroke-linecap:round;stroke-width:1.75;\"/>\n   </g>\n   <g id=\"patch_3\">\n    <path d=\"M 33.660938 306.18 \nL 33.660938 7.2 \n\" style=\"fill:none;stroke:#ffffff;stroke-linecap:square;stroke-linejoin:miter;\"/>\n   </g>\n   <g id=\"patch_4\">\n    <path d=\"M 480.060937 306.18 \nL 480.060937 7.2 \n\" style=\"fill:none;stroke:#ffffff;stroke-linecap:square;stroke-linejoin:miter;\"/>\n   </g>\n   <g id=\"patch_5\">\n    <path d=\"M 33.660938 306.18 \nL 480.060937 306.18 \n\" style=\"fill:none;stroke:#ffffff;stroke-linecap:square;stroke-linejoin:miter;\"/>\n   </g>\n   <g id=\"patch_6\">\n    <path d=\"M 33.660938 7.2 \nL 480.060937 7.2 \n\" style=\"fill:none;stroke:#ffffff;stroke-linecap:square;stroke-linejoin:miter;\"/>\n   </g>\n  </g>\n </g>\n <defs>\n  <clipPath id=\"p8d223c7807\">\n   <rect height=\"298.98\" width=\"446.4\" x=\"33.660938\" y=\"7.2\"/>\n  </clipPath>\n </defs>\n</svg>\n",
      "image/png": "[encoded data removed]"
     },
     "metadata": {}
    }
   ],
   "source": [
    "z = portfolio_object.EfficientFrontier()[0]\n",
    "plt.plot(z['Portfolio Volatility'] ,z['Portfolio Return'])"
   ]
  },
  {
   "cell_type": "code",
   "execution_count": 62,
   "metadata": {},
   "outputs": [
    {
     "output_type": "execute_result",
     "data": {
      "text/plain": [
       "    Portfolio Return  Portfolio Volatility\n",
       "0           0.001120              0.145403\n",
       "1           0.003804              0.144749\n",
       "2           0.006487              0.144184\n",
       "3           0.009170              0.143711\n",
       "4           0.011853              0.143331\n",
       "5           0.014537              0.143046\n",
       "6           0.017220              0.142856\n",
       "7           0.019903              0.142764\n",
       "8           0.022586              0.142771\n",
       "9           0.025270              0.142877\n",
       "10          0.027953              0.143082\n",
       "11          0.030636              0.143386\n",
       "12          0.033320              0.143776\n",
       "13          0.036002              0.144253\n",
       "14          0.038686              0.144814\n",
       "15          0.041369              0.145461\n",
       "16          0.044053              0.146192\n",
       "17          0.046736              0.147007\n",
       "18          0.049419              0.147905\n",
       "19          0.052102              0.148885\n",
       "20          0.054786              0.149947\n",
       "21          0.057469              0.151090\n",
       "22          0.060152              0.152312\n",
       "23          0.062836              0.153612\n",
       "24          0.065519              0.154989\n",
       "25          0.068202              0.156442\n",
       "26          0.070885              0.157969\n",
       "27          0.073569              0.160022\n",
       "28          0.076252              0.166237\n",
       "29          0.078935              0.184873"
      ],
      "text/html": "<div>\n<style scoped>\n    .dataframe tbody tr th:only-of-type {\n        vertical-align: middle;\n    }\n\n    .dataframe tbody tr th {\n        vertical-align: top;\n    }\n\n    .dataframe thead th {\n        text-align: right;\n    }\n</style>\n<table border=\"1\" class=\"dataframe\">\n  <thead>\n    <tr style=\"text-align: right;\">\n      <th></th>\n      <th>Portfolio Return</th>\n      <th>Portfolio Volatility</th>\n    </tr>\n  </thead>\n  <tbody>\n    <tr>\n      <th>0</th>\n      <td>0.001120</td>\n      <td>0.145403</td>\n    </tr>\n    <tr>\n      <th>1</th>\n      <td>0.003804</td>\n      <td>0.144749</td>\n    </tr>\n    <tr>\n      <th>2</th>\n      <td>0.006487</td>\n      <td>0.144184</td>\n    </tr>\n    <tr>\n      <th>3</th>\n      <td>0.009170</td>\n      <td>0.143711</td>\n    </tr>\n    <tr>\n      <th>4</th>\n      <td>0.011853</td>\n      <td>0.143331</td>\n    </tr>\n    <tr>\n      <th>5</th>\n      <td>0.014537</td>\n      <td>0.143046</td>\n    </tr>\n    <tr>\n      <th>6</th>\n      <td>0.017220</td>\n      <td>0.142856</td>\n    </tr>\n    <tr>\n      <th>7</th>\n      <td>0.019903</td>\n      <td>0.142764</td>\n    </tr>\n    <tr>\n      <th>8</th>\n      <td>0.022586</td>\n      <td>0.142771</td>\n    </tr>\n    <tr>\n      <th>9</th>\n      <td>0.025270</td>\n      <td>0.142877</td>\n    </tr>\n    <tr>\n      <th>10</th>\n      <td>0.027953</td>\n      <td>0.143082</td>\n    </tr>\n    <tr>\n      <th>11</th>\n      <td>0.030636</td>\n      <td>0.143386</td>\n    </tr>\n    <tr>\n      <th>12</th>\n      <td>0.033320</td>\n      <td>0.143776</td>\n    </tr>\n    <tr>\n      <th>13</th>\n      <td>0.036002</td>\n      <td>0.144253</td>\n    </tr>\n    <tr>\n      <th>14</th>\n      <td>0.038686</td>\n      <td>0.144814</td>\n    </tr>\n    <tr>\n      <th>15</th>\n      <td>0.041369</td>\n      <td>0.145461</td>\n    </tr>\n    <tr>\n      <th>16</th>\n      <td>0.044053</td>\n      <td>0.146192</td>\n    </tr>\n    <tr>\n      <th>17</th>\n      <td>0.046736</td>\n      <td>0.147007</td>\n    </tr>\n    <tr>\n      <th>18</th>\n      <td>0.049419</td>\n      <td>0.147905</td>\n    </tr>\n    <tr>\n      <th>19</th>\n      <td>0.052102</td>\n      <td>0.148885</td>\n    </tr>\n    <tr>\n      <th>20</th>\n      <td>0.054786</td>\n      <td>0.149947</td>\n    </tr>\n    <tr>\n      <th>21</th>\n      <td>0.057469</td>\n      <td>0.151090</td>\n    </tr>\n    <tr>\n      <th>22</th>\n      <td>0.060152</td>\n      <td>0.152312</td>\n    </tr>\n    <tr>\n      <th>23</th>\n      <td>0.062836</td>\n      <td>0.153612</td>\n    </tr>\n    <tr>\n      <th>24</th>\n      <td>0.065519</td>\n      <td>0.154989</td>\n    </tr>\n    <tr>\n      <th>25</th>\n      <td>0.068202</td>\n      <td>0.156442</td>\n    </tr>\n    <tr>\n      <th>26</th>\n      <td>0.070885</td>\n      <td>0.157969</td>\n    </tr>\n    <tr>\n      <th>27</th>\n      <td>0.073569</td>\n      <td>0.160022</td>\n    </tr>\n    <tr>\n      <th>28</th>\n      <td>0.076252</td>\n      <td>0.166237</td>\n    </tr>\n    <tr>\n      <th>29</th>\n      <td>0.078935</td>\n      <td>0.184873</td>\n    </tr>\n  </tbody>\n</table>\n</div>"
     },
     "metadata": {},
     "execution_count": 62
    }
   ],
   "source": [
    "z"
   ]
  }
 ],
 "metadata": {
  "kernelspec": {
   "display_name": "Python 3",
   "language": "python",
   "name": "python3"
  },
  "language_info": {
   "codemirror_mode": {
    "name": "ipython",
    "version": 3
   },
   "file_extension": ".py",
   "mimetype": "text/x-python",
   "name": "python",
   "nbconvert_exporter": "python",
   "pygments_lexer": "ipython3",
   "version": "3.8.5-final"
  },
  "varInspector": {
   "cols": {
    "lenName": 16,
    "lenType": 16,
    "lenVar": 40
   },
   "kernels_config": {
    "python": {
     "delete_cmd_postfix": "",
     "delete_cmd_prefix": "del ",
     "library": "var_list.py",
     "varRefreshCmd": "print(var_dic_list())"
    },
    "r": {
     "delete_cmd_postfix": ") ",
     "delete_cmd_prefix": "rm(",
     "library": "var_list.r",
     "varRefreshCmd": "cat(var_dic_list()) "
    }
   },
   "types_to_exclude": [
    "module",
    "function",
    "builtin_function_or_method",
    "instance",
    "_Feature"
   ],
   "window_display": false
  }
 },
 "nbformat": 4,
 "nbformat_minor": 2
}