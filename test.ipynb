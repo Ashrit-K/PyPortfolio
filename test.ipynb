{
 "metadata": {
  "language_info": {
   "codemirror_mode": {
    "name": "ipython",
    "version": 3
   },
   "file_extension": ".py",
   "mimetype": "text/x-python",
   "name": "python",
   "nbconvert_exporter": "python",
   "pygments_lexer": "ipython3",
   "version": "3.8.5-final"
  },
  "orig_nbformat": 2,
  "kernelspec": {
   "name": "python3",
   "display_name": "Python 3"
  }
 },
 "nbformat": 4,
 "nbformat_minor": 2,
 "cells": [
  {
   "cell_type": "code",
   "execution_count": 282,
   "metadata": {},
   "outputs": [
    {
     "output_type": "stream",
     "name": "stdout",
     "text": [
      "The autoreload extension is already loaded. To reload it, use:\n  %reload_ext autoreload\n"
     ]
    }
   ],
   "source": [
    "import pandas as pd\n",
    "import pandas_datareader.data as pdr\n",
    "import yfinance as yf\n",
    "import datetime as dt\n",
    "from CoreFunctions import *\n",
    "from RiskReturn import *\n",
    "from PyPortfolio import *\n",
    "yf.pdr_override()\n",
    "%load_ext autoreload\n",
    "%autoreload 2"
   ]
  },
  {
   "cell_type": "code",
   "execution_count": 263,
   "metadata": {},
   "outputs": [
    {
     "output_type": "stream",
     "name": "stdout",
     "text": [
      "[*********************100%***********************]  2 of 2 completed\n"
     ]
    }
   ],
   "source": [
    "\n",
    "start = dt.datetime(2005,1,2)\n",
    "end = dt.datetime.today()\n",
    "prices_daily = pdr.get_data_yahoo(['^GSPC', '^NSEI'], start=start, end=end)\n",
    "prices_monthly = prices_daily['Adj Close'].resample('M').last()\n",
    "returns_monthly = prices_monthly.pct_change().dropna()\n"
   ]
  },
  {
   "cell_type": "code",
   "execution_count": 264,
   "metadata": {},
   "outputs": [],
   "source": [
    "riskreturn_object = RiskReturn(return_series=returns_monthly, periodicity='M')"
   ]
  },
  {
   "cell_type": "code",
   "execution_count": 285,
   "metadata": {},
   "outputs": [],
   "source": [
    "portfolio_object = PyPortfolio(return_series=returns_monthly, periodicity='M')\n"
   ]
  },
  {
   "cell_type": "code",
   "execution_count": 286,
   "metadata": {},
   "outputs": [
    {
     "output_type": "execute_result",
     "data": {
      "text/plain": [
       "(      Returns  Volatility\n",
       " 0    0.068580    0.158621\n",
       " 1    0.068625    0.158598\n",
       " 2    0.068670    0.158575\n",
       " 3    0.068714    0.158553\n",
       " 4    0.068759    0.158532\n",
       " ..        ...         ...\n",
       " 145  0.075084    0.168624\n",
       " 146  0.075129    0.168898\n",
       " 147  0.075174    0.169180\n",
       " 148  0.075219    0.169469\n",
       " 149  0.075264    0.169766\n",
       " \n",
       " [150 rows x 2 columns],\n",
       "         ^GSPC     ^NSEI    Return\n",
       " 0    1.000000  0.000000  0.068580\n",
       " 1    0.998028  0.001972  0.068625\n",
       " 2    0.996055  0.003945  0.068670\n",
       " 3    0.994083  0.005917  0.068714\n",
       " 4    0.992111  0.007889  0.068759\n",
       " ..        ...       ...       ...\n",
       " 145  0.602605  0.397395  0.075084\n",
       " 146  0.598079  0.401921  0.075129\n",
       " 147  0.593484  0.406516  0.075174\n",
       " 148  0.588819  0.411181  0.075219\n",
       " 149  0.584080  0.415920  0.075264\n",
       " \n",
       " [150 rows x 3 columns])"
      ]
     },
     "metadata": {},
     "execution_count": 286
    }
   ],
   "source": [
    "portfolio_object.MeanVarianceOpt"
   ]
  }
 ]
}