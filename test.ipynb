{
 "cells": [
  {
   "cell_type": "code",
   "execution_count": 47,
   "metadata": {
    "ExecuteTime": {
     "end_time": "2020-12-08T15:06:33.060652Z",
     "start_time": "2020-12-08T15:06:33.035027Z"
    }
   },
   "outputs": [
    {
     "output_type": "stream",
     "name": "stdout",
     "text": [
      "The autoreload extension is already loaded. To reload it, use:\n  %reload_ext autoreload\n"
     ]
    }
   ],
   "source": [
    "import pandas as pd\n",
    "import pandas_datareader.data as pdr\n",
    "import yfinance as yf\n",
    "import datetime as dt\n",
    "import time\n",
    "from PyPortfolio import *\n",
    "from tqdm.auto import tqdm\n",
    "yf.pdr_override()\n",
    "%load_ext autoreload\n",
    "%autoreload 2"
   ]
  },
  {
   "cell_type": "code",
   "execution_count": 2,
   "metadata": {
    "ExecuteTime": {
     "end_time": "2020-12-08T14:41:22.146114Z",
     "start_time": "2020-12-08T14:41:20.452237Z"
    }
   },
   "outputs": [
    {
     "output_type": "stream",
     "name": "stdout",
     "text": [
      "[*********************100%***********************]  2 of 2 completed\n"
     ]
    }
   ],
   "source": [
    "\n",
    "start = dt.datetime(2005,1,2)\n",
    "end = dt.datetime.today()\n",
    "prices_daily = pdr.get_data_yahoo(['^GSPC','TLT'], start=start, end=end)\n",
    "prices_monthly = prices_daily['Adj Close'].resample('M').last()\n",
    "returns_monthly = prices_monthly.pct_change().dropna()\n"
   ]
  },
  {
   "cell_type": "code",
   "execution_count": 43,
   "metadata": {
    "ExecuteTime": {
     "end_time": "2020-12-08T14:41:22.233127Z",
     "start_time": "2020-12-08T14:41:22.150917Z"
    }
   },
   "outputs": [],
   "source": [
    "riskreturn_object = RiskReturn(return_series=returns_monthly, periodicity='M')"
   ]
  },
  {
   "cell_type": "code",
   "execution_count": 71,
   "metadata": {
    "ExecuteTime": {
     "end_time": "2020-12-08T14:41:23.152934Z",
     "start_time": "2020-12-08T14:41:22.235967Z"
    }
   },
   "outputs": [],
   "source": [
    "\n",
    "portfolio_object = PyPortfolio(return_series=returns_monthly, periodicity='M')\n"
   ]
  },
  {
   "cell_type": "code",
   "execution_count": 72,
   "metadata": {
    "ExecuteTime": {
     "end_time": "2020-12-08T14:41:23.185947Z",
     "start_time": "2020-12-08T14:41:23.155046Z"
    }
   },
   "outputs": [],
   "source": [
    "a = global_minimum_variance(return_series=riskreturn_object.get_return_series(), periodicity='M')"
   ]
  },
  {
   "cell_type": "code",
   "execution_count": 73,
   "metadata": {
    "ExecuteTime": {
     "end_time": "2020-12-08T14:41:23.216268Z",
     "start_time": "2020-12-08T14:41:23.187931Z"
    }
   },
   "outputs": [
    {
     "output_type": "execute_result",
     "data": {
      "text/plain": [
       "TLT      1.460839\n",
       "^GSPC    0.723152\n",
       "dtype: float64"
      ]
     },
     "metadata": {},
     "execution_count": 73
    }
   ],
   "source": [
    "semi_deviation_ratio(return_series=riskreturn_object.get_return_series(), periodicity='M')"
   ]
  },
  {
   "cell_type": "code",
   "execution_count": 74,
   "metadata": {
    "ExecuteTime": {
     "end_time": "2020-12-08T14:41:23.262714Z",
     "start_time": "2020-12-08T14:41:23.217931Z"
    }
   },
   "outputs": [
    {
     "output_type": "execute_result",
     "data": {
      "text/plain": [
       "(True, array([1.00000000e+00, 7.04991621e-15]))"
      ]
     },
     "metadata": {},
     "execution_count": 74
    }
   ],
   "source": [
    "maximum_semideviation_ratio(return_series=riskreturn_object.get_return_series(), periodicity='M')"
   ]
  },
  {
   "cell_type": "code",
   "execution_count": 33,
   "metadata": {
    "ExecuteTime": {
     "end_time": "2020-12-08T15:31:55.737862Z",
     "start_time": "2020-12-08T15:31:55.705813Z"
    }
   },
   "outputs": [],
   "source": [
    "def resample_():\n",
    "    arg = [ returns_monthly.sample(24, replace=True) for _ in range(10000)]\n",
    "\n",
    "    def resample_gmv_internal(return_series):\n",
    "        gmv = global_minimum_variance(return_series, 'M')\n",
    "        return (gmv[1])\n",
    "    weights = []\n",
    "    for i in tqdm(arg):\n",
    "        weights.append(resample_gmv_internal(i))\n",
    "    \n",
    "    return weights"
   ]
  },
  {
   "cell_type": "code",
   "execution_count": 34,
   "metadata": {
    "ExecuteTime": {
     "end_time": "2020-12-08T15:31:07.659912Z",
     "start_time": "2020-12-08T15:31:07.555671Z"
    }
   },
   "outputs": [
    {
     "output_type": "stream",
     "name": "stderr",
     "text": [
      "100%|██████████| 10000/10000 [01:36<00:00, 103.76it/s]\n"
     ]
    },
    {
     "output_type": "execute_result",
     "data": {
      "text/plain": [
       "99.15723508799988"
      ]
     },
     "metadata": {},
     "execution_count": 34
    }
   ],
   "source": [
    "t1 = time.perf_counter()\n",
    "weights_normal = resample_()\n",
    "t2 = time.perf_counter()\n",
    "t2-t1"
   ]
  },
  {
   "cell_type": "code",
   "execution_count": 37,
   "metadata": {
    "ExecuteTime": {
     "end_time": "2020-12-08T15:34:50.670250Z",
     "start_time": "2020-12-08T15:34:50.643563Z"
    }
   },
   "outputs": [
    {
     "output_type": "execute_result",
     "data": {
      "text/plain": [
       "array([[<AxesSubplot:title={'center':'TLT'}>,\n",
       "        <AxesSubplot:title={'center':'^GSPC'}>]], dtype=object)"
      ]
     },
     "metadata": {},
     "execution_count": 37
    },
    {
     "output_type": "display_data",
     "data": {
      "text/plain": "<Figure size 576x396 with 2 Axes>",
      "image/svg+xml": "<?xml version=\"1.0\" encoding=\"utf-8\" standalone=\"no\"?>\n<!DOCTYPE svg PUBLIC \"-//W3C//DTD SVG 1.1//EN\"\n  \"http://www.w3.org/Graphics/SVG/1.1/DTD/svg11.dtd\">\n<!-- Created with matplotlib (https://matplotlib.org/) -->\n<svg height=\"344.114687pt\" version=\"1.1\" viewBox=\"0 0 484.482813 344.114687\" width=\"484.482813pt\" xmlns=\"http://www.w3.org/2000/svg\" xmlns:xlink=\"http://www.w3.org/1999/xlink\">\n <metadata>\n  <rdf:RDF xmlns:cc=\"http://creativecommons.org/ns#\" xmlns:dc=\"http://purl.org/dc/elements/1.1/\" xmlns:rdf=\"http://www.w3.org/1999/02/22-rdf-syntax-ns#\">\n   <cc:Work>\n    <dc:type rdf:resource=\"http://purl.org/dc/dcmitype/StillImage\"/>\n    <dc:date>2020-12-12T19:46:41.943954</dc:date>\n    <dc:format>image/svg+xml</dc:format>\n    <dc:creator>\n     <cc:Agent>\n      <dc:title>Matplotlib v3.3.0, https://matplotlib.org/</dc:title>\n     </cc:Agent>\n    </dc:creator>\n   </cc:Work>\n  </rdf:RDF>\n </metadata>\n <defs>\n  <style type=\"text/css\">*{stroke-linecap:butt;stroke-linejoin:round;}</style>\n </defs>\n <g id=\"figure_1\">\n  <g id=\"patch_1\">\n   <path d=\"M 0 344.114687 \nL 484.482813 344.114687 \nL 484.482813 0 \nL 0 0 \nz\n\" style=\"fill:#ffffff;\"/>\n  </g>\n  <g id=\"axes_1\">\n   <g id=\"patch_2\">\n    <path d=\"M 30.882812 320.769375 \nL 224.969769 320.769375 \nL 224.969769 21.789375 \nL 30.882812 21.789375 \nz\n\" style=\"fill:#eaeaf2;\"/>\n   </g>\n   <g id=\"matplotlib.axis_1\">\n    <g id=\"xtick_1\">\n     <g id=\"line2d_1\">\n      <path clip-path=\"url(#pb9df90da9b)\" d=\"M 65.268216 320.769375 \nL 65.268216 21.789375 \n\" style=\"fill:none;stroke:#ffffff;stroke-linecap:round;\"/>\n     </g>\n     <g id=\"line2d_2\"/>\n     <g id=\"text_1\">\n      <!-- 0.2 -->\n      <g style=\"fill:#262626;\" transform=\"translate(58.318216 334.927187)scale(0.1 -0.1)\">\n       <defs>\n        <path d=\"M 4.15625 35.296875 \nQ 4.15625 48 6.765625 55.734375 \nQ 9.375 63.484375 14.515625 67.671875 \nQ 19.671875 71.875 27.484375 71.875 \nQ 33.25 71.875 37.59375 69.546875 \nQ 41.9375 67.234375 44.765625 62.859375 \nQ 47.609375 58.5 49.21875 52.21875 \nQ 50.828125 45.953125 50.828125 35.296875 \nQ 50.828125 22.703125 48.234375 14.96875 \nQ 45.65625 7.234375 40.5 3 \nQ 35.359375 -1.21875 27.484375 -1.21875 \nQ 17.140625 -1.21875 11.234375 6.203125 \nQ 4.15625 15.140625 4.15625 35.296875 \nz\nM 13.1875 35.296875 \nQ 13.1875 17.671875 17.3125 11.828125 \nQ 21.4375 6 27.484375 6 \nQ 33.546875 6 37.671875 11.859375 \nQ 41.796875 17.71875 41.796875 35.296875 \nQ 41.796875 52.984375 37.671875 58.78125 \nQ 33.546875 64.59375 27.390625 64.59375 \nQ 21.34375 64.59375 17.71875 59.46875 \nQ 13.1875 52.9375 13.1875 35.296875 \nz\n\" id=\"ArialMT-48\"/>\n        <path d=\"M 9.078125 0 \nL 9.078125 10.015625 \nL 19.09375 10.015625 \nL 19.09375 0 \nz\n\" id=\"ArialMT-46\"/>\n        <path d=\"M 50.34375 8.453125 \nL 50.34375 0 \nL 3.03125 0 \nQ 2.9375 3.171875 4.046875 6.109375 \nQ 5.859375 10.9375 9.828125 15.625 \nQ 13.8125 20.3125 21.34375 26.46875 \nQ 33.015625 36.03125 37.109375 41.625 \nQ 41.21875 47.21875 41.21875 52.203125 \nQ 41.21875 57.421875 37.46875 61 \nQ 33.734375 64.59375 27.734375 64.59375 \nQ 21.390625 64.59375 17.578125 60.78125 \nQ 13.765625 56.984375 13.71875 50.25 \nL 4.6875 51.171875 \nQ 5.609375 61.28125 11.65625 66.578125 \nQ 17.71875 71.875 27.9375 71.875 \nQ 38.234375 71.875 44.234375 66.15625 \nQ 50.25 60.453125 50.25 52 \nQ 50.25 47.703125 48.484375 43.546875 \nQ 46.734375 39.40625 42.65625 34.8125 \nQ 38.578125 30.21875 29.109375 22.21875 \nQ 21.1875 15.578125 18.9375 13.203125 \nQ 16.703125 10.84375 15.234375 8.453125 \nz\n\" id=\"ArialMT-50\"/>\n       </defs>\n       <use xlink:href=\"#ArialMT-48\"/>\n       <use x=\"55.615234\" xlink:href=\"#ArialMT-46\"/>\n       <use x=\"83.398438\" xlink:href=\"#ArialMT-50\"/>\n      </g>\n     </g>\n    </g>\n    <g id=\"xtick_2\">\n     <g id=\"line2d_3\">\n      <path clip-path=\"url(#pb9df90da9b)\" d=\"M 103.895268 320.769375 \nL 103.895268 21.789375 \n\" style=\"fill:none;stroke:#ffffff;stroke-linecap:round;\"/>\n     </g>\n     <g id=\"line2d_4\"/>\n     <g id=\"text_2\">\n      <!-- 0.4 -->\n      <g style=\"fill:#262626;\" transform=\"translate(96.945268 334.927187)scale(0.1 -0.1)\">\n       <defs>\n        <path d=\"M 32.328125 0 \nL 32.328125 17.140625 \nL 1.265625 17.140625 \nL 1.265625 25.203125 \nL 33.9375 71.578125 \nL 41.109375 71.578125 \nL 41.109375 25.203125 \nL 50.78125 25.203125 \nL 50.78125 17.140625 \nL 41.109375 17.140625 \nL 41.109375 0 \nz\nM 32.328125 25.203125 \nL 32.328125 57.46875 \nL 9.90625 25.203125 \nz\n\" id=\"ArialMT-52\"/>\n       </defs>\n       <use xlink:href=\"#ArialMT-48\"/>\n       <use x=\"55.615234\" xlink:href=\"#ArialMT-46\"/>\n       <use x=\"83.398438\" xlink:href=\"#ArialMT-52\"/>\n      </g>\n     </g>\n    </g>\n    <g id=\"xtick_3\">\n     <g id=\"line2d_5\">\n      <path clip-path=\"url(#pb9df90da9b)\" d=\"M 142.522319 320.769375 \nL 142.522319 21.789375 \n\" style=\"fill:none;stroke:#ffffff;stroke-linecap:round;\"/>\n     </g>\n     <g id=\"line2d_6\"/>\n     <g id=\"text_3\">\n      <!-- 0.6 -->\n      <g style=\"fill:#262626;\" transform=\"translate(135.572319 334.927187)scale(0.1 -0.1)\">\n       <defs>\n        <path d=\"M 49.75 54.046875 \nL 41.015625 53.375 \nQ 39.84375 58.546875 37.703125 60.890625 \nQ 34.125 64.65625 28.90625 64.65625 \nQ 24.703125 64.65625 21.53125 62.3125 \nQ 17.390625 59.28125 14.984375 53.46875 \nQ 12.59375 47.65625 12.5 36.921875 \nQ 15.671875 41.75 20.265625 44.09375 \nQ 24.859375 46.4375 29.890625 46.4375 \nQ 38.671875 46.4375 44.84375 39.96875 \nQ 51.03125 33.5 51.03125 23.25 \nQ 51.03125 16.5 48.125 10.71875 \nQ 45.21875 4.9375 40.140625 1.859375 \nQ 35.0625 -1.21875 28.609375 -1.21875 \nQ 17.625 -1.21875 10.6875 6.859375 \nQ 3.765625 14.9375 3.765625 33.5 \nQ 3.765625 54.25 11.421875 63.671875 \nQ 18.109375 71.875 29.4375 71.875 \nQ 37.890625 71.875 43.28125 67.140625 \nQ 48.6875 62.40625 49.75 54.046875 \nz\nM 13.875 23.1875 \nQ 13.875 18.65625 15.796875 14.5 \nQ 17.71875 10.359375 21.1875 8.171875 \nQ 24.65625 6 28.46875 6 \nQ 34.03125 6 38.03125 10.484375 \nQ 42.046875 14.984375 42.046875 22.703125 \nQ 42.046875 30.125 38.078125 34.390625 \nQ 34.125 38.671875 28.125 38.671875 \nQ 22.171875 38.671875 18.015625 34.390625 \nQ 13.875 30.125 13.875 23.1875 \nz\n\" id=\"ArialMT-54\"/>\n       </defs>\n       <use xlink:href=\"#ArialMT-48\"/>\n       <use x=\"55.615234\" xlink:href=\"#ArialMT-46\"/>\n       <use x=\"83.398438\" xlink:href=\"#ArialMT-54\"/>\n      </g>\n     </g>\n    </g>\n    <g id=\"xtick_4\">\n     <g id=\"line2d_7\">\n      <path clip-path=\"url(#pb9df90da9b)\" d=\"M 181.149371 320.769375 \nL 181.149371 21.789375 \n\" style=\"fill:none;stroke:#ffffff;stroke-linecap:round;\"/>\n     </g>\n     <g id=\"line2d_8\"/>\n     <g id=\"text_4\">\n      <!-- 0.8 -->\n      <g style=\"fill:#262626;\" transform=\"translate(174.199371 334.927187)scale(0.1 -0.1)\">\n       <defs>\n        <path d=\"M 17.671875 38.8125 \nQ 12.203125 40.828125 9.5625 44.53125 \nQ 6.9375 48.25 6.9375 53.421875 \nQ 6.9375 61.234375 12.546875 66.546875 \nQ 18.171875 71.875 27.484375 71.875 \nQ 36.859375 71.875 42.578125 66.421875 \nQ 48.296875 60.984375 48.296875 53.171875 \nQ 48.296875 48.1875 45.671875 44.5 \nQ 43.0625 40.828125 37.75 38.8125 \nQ 44.34375 36.671875 47.78125 31.875 \nQ 51.21875 27.09375 51.21875 20.453125 \nQ 51.21875 11.28125 44.71875 5.03125 \nQ 38.234375 -1.21875 27.640625 -1.21875 \nQ 17.046875 -1.21875 10.546875 5.046875 \nQ 4.046875 11.328125 4.046875 20.703125 \nQ 4.046875 27.6875 7.59375 32.390625 \nQ 11.140625 37.109375 17.671875 38.8125 \nz\nM 15.921875 53.71875 \nQ 15.921875 48.640625 19.1875 45.40625 \nQ 22.46875 42.1875 27.6875 42.1875 \nQ 32.765625 42.1875 36.015625 45.375 \nQ 39.265625 48.578125 39.265625 53.21875 \nQ 39.265625 58.0625 35.90625 61.359375 \nQ 32.5625 64.65625 27.59375 64.65625 \nQ 22.5625 64.65625 19.234375 61.421875 \nQ 15.921875 58.203125 15.921875 53.71875 \nz\nM 13.09375 20.65625 \nQ 13.09375 16.890625 14.875 13.375 \nQ 16.65625 9.859375 20.171875 7.921875 \nQ 23.6875 6 27.734375 6 \nQ 34.03125 6 38.125 10.046875 \nQ 42.234375 14.109375 42.234375 20.359375 \nQ 42.234375 26.703125 38.015625 30.859375 \nQ 33.796875 35.015625 27.4375 35.015625 \nQ 21.234375 35.015625 17.15625 30.90625 \nQ 13.09375 26.8125 13.09375 20.65625 \nz\n\" id=\"ArialMT-56\"/>\n       </defs>\n       <use xlink:href=\"#ArialMT-48\"/>\n       <use x=\"55.615234\" xlink:href=\"#ArialMT-46\"/>\n       <use x=\"83.398438\" xlink:href=\"#ArialMT-56\"/>\n      </g>\n     </g>\n    </g>\n    <g id=\"xtick_5\">\n     <g id=\"line2d_9\">\n      <path clip-path=\"url(#pb9df90da9b)\" d=\"M 219.776422 320.769375 \nL 219.776422 21.789375 \n\" style=\"fill:none;stroke:#ffffff;stroke-linecap:round;\"/>\n     </g>\n     <g id=\"line2d_10\"/>\n     <g id=\"text_5\">\n      <!-- 1.0 -->\n      <g style=\"fill:#262626;\" transform=\"translate(212.826422 334.927187)scale(0.1 -0.1)\">\n       <defs>\n        <path d=\"M 37.25 0 \nL 28.46875 0 \nL 28.46875 56 \nQ 25.296875 52.984375 20.140625 49.953125 \nQ 14.984375 46.921875 10.890625 45.40625 \nL 10.890625 53.90625 \nQ 18.265625 57.375 23.78125 62.296875 \nQ 29.296875 67.234375 31.59375 71.875 \nL 37.25 71.875 \nz\n\" id=\"ArialMT-49\"/>\n       </defs>\n       <use xlink:href=\"#ArialMT-49\"/>\n       <use x=\"55.615234\" xlink:href=\"#ArialMT-46\"/>\n       <use x=\"83.398438\" xlink:href=\"#ArialMT-48\"/>\n      </g>\n     </g>\n    </g>\n   </g>\n   <g id=\"matplotlib.axis_2\">\n    <g id=\"ytick_1\">\n     <g id=\"line2d_11\">\n      <path clip-path=\"url(#pb9df90da9b)\" d=\"M 30.882812 320.769375 \nL 224.969769 320.769375 \n\" style=\"fill:none;stroke:#ffffff;stroke-linecap:round;\"/>\n     </g>\n     <g id=\"line2d_12\"/>\n     <g id=\"text_6\">\n      <!-- 0 -->\n      <g style=\"fill:#262626;\" transform=\"translate(18.321875 324.348281)scale(0.1 -0.1)\">\n       <use xlink:href=\"#ArialMT-48\"/>\n      </g>\n     </g>\n    </g>\n    <g id=\"ytick_2\">\n     <g id=\"line2d_13\">\n      <path clip-path=\"url(#pb9df90da9b)\" d=\"M 30.882812 276.691533 \nL 224.969769 276.691533 \n\" style=\"fill:none;stroke:#ffffff;stroke-linecap:round;\"/>\n     </g>\n     <g id=\"line2d_14\"/>\n     <g id=\"text_7\">\n      <!-- 100 -->\n      <g style=\"fill:#262626;\" transform=\"translate(7.2 280.27044)scale(0.1 -0.1)\">\n       <use xlink:href=\"#ArialMT-49\"/>\n       <use x=\"55.615234\" xlink:href=\"#ArialMT-48\"/>\n       <use x=\"111.230469\" xlink:href=\"#ArialMT-48\"/>\n      </g>\n     </g>\n    </g>\n    <g id=\"ytick_3\">\n     <g id=\"line2d_15\">\n      <path clip-path=\"url(#pb9df90da9b)\" d=\"M 30.882812 232.613692 \nL 224.969769 232.613692 \n\" style=\"fill:none;stroke:#ffffff;stroke-linecap:round;\"/>\n     </g>\n     <g id=\"line2d_16\"/>\n     <g id=\"text_8\">\n      <!-- 200 -->\n      <g style=\"fill:#262626;\" transform=\"translate(7.2 236.192598)scale(0.1 -0.1)\">\n       <use xlink:href=\"#ArialMT-50\"/>\n       <use x=\"55.615234\" xlink:href=\"#ArialMT-48\"/>\n       <use x=\"111.230469\" xlink:href=\"#ArialMT-48\"/>\n      </g>\n     </g>\n    </g>\n    <g id=\"ytick_4\">\n     <g id=\"line2d_17\">\n      <path clip-path=\"url(#pb9df90da9b)\" d=\"M 30.882812 188.53585 \nL 224.969769 188.53585 \n\" style=\"fill:none;stroke:#ffffff;stroke-linecap:round;\"/>\n     </g>\n     <g id=\"line2d_18\"/>\n     <g id=\"text_9\">\n      <!-- 300 -->\n      <g style=\"fill:#262626;\" transform=\"translate(7.2 192.114756)scale(0.1 -0.1)\">\n       <defs>\n        <path d=\"M 4.203125 18.890625 \nL 12.984375 20.0625 \nQ 14.5 12.59375 18.140625 9.296875 \nQ 21.78125 6 27 6 \nQ 33.203125 6 37.46875 10.296875 \nQ 41.75 14.59375 41.75 20.953125 \nQ 41.75 27 37.796875 30.921875 \nQ 33.84375 34.859375 27.734375 34.859375 \nQ 25.25 34.859375 21.53125 33.890625 \nL 22.515625 41.609375 \nQ 23.390625 41.5 23.921875 41.5 \nQ 29.546875 41.5 34.03125 44.421875 \nQ 38.53125 47.359375 38.53125 53.46875 \nQ 38.53125 58.296875 35.25 61.46875 \nQ 31.984375 64.65625 26.8125 64.65625 \nQ 21.6875 64.65625 18.265625 61.421875 \nQ 14.84375 58.203125 13.875 51.765625 \nL 5.078125 53.328125 \nQ 6.6875 62.15625 12.390625 67.015625 \nQ 18.109375 71.875 26.609375 71.875 \nQ 32.46875 71.875 37.390625 69.359375 \nQ 42.328125 66.84375 44.9375 62.5 \nQ 47.5625 58.15625 47.5625 53.265625 \nQ 47.5625 48.640625 45.0625 44.828125 \nQ 42.578125 41.015625 37.703125 38.765625 \nQ 44.046875 37.3125 47.5625 32.6875 \nQ 51.078125 28.078125 51.078125 21.140625 \nQ 51.078125 11.765625 44.234375 5.25 \nQ 37.40625 -1.265625 26.953125 -1.265625 \nQ 17.53125 -1.265625 11.296875 4.34375 \nQ 5.078125 9.96875 4.203125 18.890625 \nz\n\" id=\"ArialMT-51\"/>\n       </defs>\n       <use xlink:href=\"#ArialMT-51\"/>\n       <use x=\"55.615234\" xlink:href=\"#ArialMT-48\"/>\n       <use x=\"111.230469\" xlink:href=\"#ArialMT-48\"/>\n      </g>\n     </g>\n    </g>\n    <g id=\"ytick_5\">\n     <g id=\"line2d_19\">\n      <path clip-path=\"url(#pb9df90da9b)\" d=\"M 30.882812 144.458008 \nL 224.969769 144.458008 \n\" style=\"fill:none;stroke:#ffffff;stroke-linecap:round;\"/>\n     </g>\n     <g id=\"line2d_20\"/>\n     <g id=\"text_10\">\n      <!-- 400 -->\n      <g style=\"fill:#262626;\" transform=\"translate(7.2 148.036915)scale(0.1 -0.1)\">\n       <use xlink:href=\"#ArialMT-52\"/>\n       <use x=\"55.615234\" xlink:href=\"#ArialMT-48\"/>\n       <use x=\"111.230469\" xlink:href=\"#ArialMT-48\"/>\n      </g>\n     </g>\n    </g>\n    <g id=\"ytick_6\">\n     <g id=\"line2d_21\">\n      <path clip-path=\"url(#pb9df90da9b)\" d=\"M 30.882812 100.380167 \nL 224.969769 100.380167 \n\" style=\"fill:none;stroke:#ffffff;stroke-linecap:round;\"/>\n     </g>\n     <g id=\"line2d_22\"/>\n     <g id=\"text_11\">\n      <!-- 500 -->\n      <g style=\"fill:#262626;\" transform=\"translate(7.2 103.959073)scale(0.1 -0.1)\">\n       <defs>\n        <path d=\"M 4.15625 18.75 \nL 13.375 19.53125 \nQ 14.40625 12.796875 18.140625 9.390625 \nQ 21.875 6 27.15625 6 \nQ 33.5 6 37.890625 10.78125 \nQ 42.28125 15.578125 42.28125 23.484375 \nQ 42.28125 31 38.0625 35.34375 \nQ 33.84375 39.703125 27 39.703125 \nQ 22.75 39.703125 19.328125 37.765625 \nQ 15.921875 35.84375 13.96875 32.765625 \nL 5.71875 33.84375 \nL 12.640625 70.609375 \nL 48.25 70.609375 \nL 48.25 62.203125 \nL 19.671875 62.203125 \nL 15.828125 42.96875 \nQ 22.265625 47.46875 29.34375 47.46875 \nQ 38.71875 47.46875 45.15625 40.96875 \nQ 51.609375 34.46875 51.609375 24.265625 \nQ 51.609375 14.546875 45.953125 7.46875 \nQ 39.0625 -1.21875 27.15625 -1.21875 \nQ 17.390625 -1.21875 11.203125 4.25 \nQ 5.03125 9.71875 4.15625 18.75 \nz\n\" id=\"ArialMT-53\"/>\n       </defs>\n       <use xlink:href=\"#ArialMT-53\"/>\n       <use x=\"55.615234\" xlink:href=\"#ArialMT-48\"/>\n       <use x=\"111.230469\" xlink:href=\"#ArialMT-48\"/>\n      </g>\n     </g>\n    </g>\n    <g id=\"ytick_7\">\n     <g id=\"line2d_23\">\n      <path clip-path=\"url(#pb9df90da9b)\" d=\"M 30.882812 56.302325 \nL 224.969769 56.302325 \n\" style=\"fill:none;stroke:#ffffff;stroke-linecap:round;\"/>\n     </g>\n     <g id=\"line2d_24\"/>\n     <g id=\"text_12\">\n      <!-- 600 -->\n      <g style=\"fill:#262626;\" transform=\"translate(7.2 59.881231)scale(0.1 -0.1)\">\n       <use xlink:href=\"#ArialMT-54\"/>\n       <use x=\"55.615234\" xlink:href=\"#ArialMT-48\"/>\n       <use x=\"111.230469\" xlink:href=\"#ArialMT-48\"/>\n      </g>\n     </g>\n    </g>\n   </g>\n   <g id=\"patch_3\">\n    <path clip-path=\"url(#pb9df90da9b)\" d=\"M 39.704947 320.769375 \nL 42.645658 320.769375 \nL 42.645658 320.328597 \nL 39.704947 320.328597 \nz\n\" style=\"fill:#4c72b0;\"/>\n   </g>\n   <g id=\"patch_4\">\n    <path clip-path=\"url(#pb9df90da9b)\" d=\"M 42.645658 320.769375 \nL 45.58637 320.769375 \nL 45.58637 320.769375 \nL 42.645658 320.769375 \nz\n\" style=\"fill:#4c72b0;\"/>\n   </g>\n   <g id=\"patch_5\">\n    <path clip-path=\"url(#pb9df90da9b)\" d=\"M 45.58637 320.769375 \nL 48.527081 320.769375 \nL 48.527081 320.769375 \nL 45.58637 320.769375 \nz\n\" style=\"fill:#4c72b0;\"/>\n   </g>\n   <g id=\"patch_6\">\n    <path clip-path=\"url(#pb9df90da9b)\" d=\"M 48.527081 320.769375 \nL 51.467793 320.769375 \nL 51.467793 319.44704 \nL 48.527081 319.44704 \nz\n\" style=\"fill:#4c72b0;\"/>\n   </g>\n   <g id=\"patch_7\">\n    <path clip-path=\"url(#pb9df90da9b)\" d=\"M 51.467793 320.769375 \nL 54.408504 320.769375 \nL 54.408504 319.887818 \nL 51.467793 319.887818 \nz\n\" style=\"fill:#4c72b0;\"/>\n   </g>\n   <g id=\"patch_8\">\n    <path clip-path=\"url(#pb9df90da9b)\" d=\"M 54.408504 320.769375 \nL 57.349216 320.769375 \nL 57.349216 320.769375 \nL 54.408504 320.769375 \nz\n\" style=\"fill:#4c72b0;\"/>\n   </g>\n   <g id=\"patch_9\">\n    <path clip-path=\"url(#pb9df90da9b)\" d=\"M 57.349216 320.769375 \nL 60.289927 320.769375 \nL 60.289927 319.887818 \nL 57.349216 319.887818 \nz\n\" style=\"fill:#4c72b0;\"/>\n   </g>\n   <g id=\"patch_10\">\n    <path clip-path=\"url(#pb9df90da9b)\" d=\"M 60.289927 320.769375 \nL 63.230639 320.769375 \nL 63.230639 319.887818 \nL 60.289927 319.887818 \nz\n\" style=\"fill:#4c72b0;\"/>\n   </g>\n   <g id=\"patch_11\">\n    <path clip-path=\"url(#pb9df90da9b)\" d=\"M 63.230639 320.769375 \nL 66.17135 320.769375 \nL 66.17135 319.887818 \nL 63.230639 319.887818 \nz\n\" style=\"fill:#4c72b0;\"/>\n   </g>\n   <g id=\"patch_12\">\n    <path clip-path=\"url(#pb9df90da9b)\" d=\"M 66.17135 320.769375 \nL 69.112062 320.769375 \nL 69.112062 318.124705 \nL 66.17135 318.124705 \nz\n\" style=\"fill:#4c72b0;\"/>\n   </g>\n   <g id=\"patch_13\">\n    <path clip-path=\"url(#pb9df90da9b)\" d=\"M 69.112062 320.769375 \nL 72.052773 320.769375 \nL 72.052773 317.243148 \nL 69.112062 317.243148 \nz\n\" style=\"fill:#4c72b0;\"/>\n   </g>\n   <g id=\"patch_14\">\n    <path clip-path=\"url(#pb9df90da9b)\" d=\"M 72.052773 320.769375 \nL 74.993484 320.769375 \nL 74.993484 317.683926 \nL 72.052773 317.683926 \nz\n\" style=\"fill:#4c72b0;\"/>\n   </g>\n   <g id=\"patch_15\">\n    <path clip-path=\"url(#pb9df90da9b)\" d=\"M 74.993484 320.769375 \nL 77.934196 320.769375 \nL 77.934196 315.920812 \nL 74.993484 315.920812 \nz\n\" style=\"fill:#4c72b0;\"/>\n   </g>\n   <g id=\"patch_16\">\n    <path clip-path=\"url(#pb9df90da9b)\" d=\"M 77.934196 320.769375 \nL 80.874907 320.769375 \nL 80.874907 315.039256 \nL 77.934196 315.039256 \nz\n\" style=\"fill:#4c72b0;\"/>\n   </g>\n   <g id=\"patch_17\">\n    <path clip-path=\"url(#pb9df90da9b)\" d=\"M 80.874907 320.769375 \nL 83.815619 320.769375 \nL 83.815619 309.309136 \nL 80.874907 309.309136 \nz\n\" style=\"fill:#4c72b0;\"/>\n   </g>\n   <g id=\"patch_18\">\n    <path clip-path=\"url(#pb9df90da9b)\" d=\"M 83.815619 320.769375 \nL 86.75633 320.769375 \nL 86.75633 308.868358 \nL 83.815619 308.868358 \nz\n\" style=\"fill:#4c72b0;\"/>\n   </g>\n   <g id=\"patch_19\">\n    <path clip-path=\"url(#pb9df90da9b)\" d=\"M 86.75633 320.769375 \nL 89.697042 320.769375 \nL 89.697042 304.019795 \nL 86.75633 304.019795 \nz\n\" style=\"fill:#4c72b0;\"/>\n   </g>\n   <g id=\"patch_20\">\n    <path clip-path=\"url(#pb9df90da9b)\" d=\"M 89.697042 320.769375 \nL 92.637753 320.769375 \nL 92.637753 302.69746 \nL 89.697042 302.69746 \nz\n\" style=\"fill:#4c72b0;\"/>\n   </g>\n   <g id=\"patch_21\">\n    <path clip-path=\"url(#pb9df90da9b)\" d=\"M 92.637753 320.769375 \nL 95.578465 320.769375 \nL 95.578465 290.796443 \nL 92.637753 290.796443 \nz\n\" style=\"fill:#4c72b0;\"/>\n   </g>\n   <g id=\"patch_22\">\n    <path clip-path=\"url(#pb9df90da9b)\" d=\"M 95.578465 320.769375 \nL 98.519176 320.769375 \nL 98.519176 281.099318 \nL 95.578465 281.099318 \nz\n\" style=\"fill:#4c72b0;\"/>\n   </g>\n   <g id=\"patch_23\">\n    <path clip-path=\"url(#pb9df90da9b)\" d=\"M 98.519176 320.769375 \nL 101.459888 320.769375 \nL 101.459888 255.534169 \nL 98.519176 255.534169 \nz\n\" style=\"fill:#4c72b0;\"/>\n   </g>\n   <g id=\"patch_24\">\n    <path clip-path=\"url(#pb9df90da9b)\" d=\"M 101.459888 320.769375 \nL 104.400599 320.769375 \nL 104.400599 232.613692 \nL 101.459888 232.613692 \nz\n\" style=\"fill:#4c72b0;\"/>\n   </g>\n   <g id=\"patch_25\">\n    <path clip-path=\"url(#pb9df90da9b)\" d=\"M 104.400599 320.769375 \nL 107.341311 320.769375 \nL 107.341311 214.100998 \nL 104.400599 214.100998 \nz\n\" style=\"fill:#4c72b0;\"/>\n   </g>\n   <g id=\"patch_26\">\n    <path clip-path=\"url(#pb9df90da9b)\" d=\"M 107.341311 320.769375 \nL 110.282022 320.769375 \nL 110.282022 160.76681 \nL 107.341311 160.76681 \nz\n\" style=\"fill:#4c72b0;\"/>\n   </g>\n   <g id=\"patch_27\">\n    <path clip-path=\"url(#pb9df90da9b)\" d=\"M 110.282022 320.769375 \nL 113.222733 320.769375 \nL 113.222733 148.865793 \nL 110.282022 148.865793 \nz\n\" style=\"fill:#4c72b0;\"/>\n   </g>\n   <g id=\"patch_28\">\n    <path clip-path=\"url(#pb9df90da9b)\" d=\"M 113.222733 320.769375 \nL 116.163445 320.769375 \nL 116.163445 125.504536 \nL 113.222733 125.504536 \nz\n\" style=\"fill:#4c72b0;\"/>\n   </g>\n   <g id=\"patch_29\">\n    <path clip-path=\"url(#pb9df90da9b)\" d=\"M 116.163445 320.769375 \nL 119.104156 320.769375 \nL 119.104156 92.886934 \nL 116.163445 92.886934 \nz\n\" style=\"fill:#4c72b0;\"/>\n   </g>\n   <g id=\"patch_30\">\n    <path clip-path=\"url(#pb9df90da9b)\" d=\"M 119.104156 320.769375 \nL 122.044868 320.769375 \nL 122.044868 85.834479 \nL 119.104156 85.834479 \nz\n\" style=\"fill:#4c72b0;\"/>\n   </g>\n   <g id=\"patch_31\">\n    <path clip-path=\"url(#pb9df90da9b)\" d=\"M 122.044868 320.769375 \nL 124.985579 320.769375 \nL 124.985579 58.946996 \nL 122.044868 58.946996 \nz\n\" style=\"fill:#4c72b0;\"/>\n   </g>\n   <g id=\"patch_32\">\n    <path clip-path=\"url(#pb9df90da9b)\" d=\"M 124.985579 320.769375 \nL 127.926291 320.769375 \nL 127.926291 47.486757 \nL 124.985579 47.486757 \nz\n\" style=\"fill:#4c72b0;\"/>\n   </g>\n   <g id=\"patch_33\">\n    <path clip-path=\"url(#pb9df90da9b)\" d=\"M 127.926291 320.769375 \nL 130.867002 320.769375 \nL 130.867002 36.026518 \nL 127.926291 36.026518 \nz\n\" style=\"fill:#4c72b0;\"/>\n   </g>\n   <g id=\"patch_34\">\n    <path clip-path=\"url(#pb9df90da9b)\" d=\"M 130.867002 320.769375 \nL 133.807714 320.769375 \nL 133.807714 60.710109 \nL 130.867002 60.710109 \nz\n\" style=\"fill:#4c72b0;\"/>\n   </g>\n   <g id=\"patch_35\">\n    <path clip-path=\"url(#pb9df90da9b)\" d=\"M 133.807714 320.769375 \nL 136.748425 320.769375 \nL 136.748425 75.255797 \nL 133.807714 75.255797 \nz\n\" style=\"fill:#4c72b0;\"/>\n   </g>\n   <g id=\"patch_36\">\n    <path clip-path=\"url(#pb9df90da9b)\" d=\"M 136.748425 320.769375 \nL 139.689137 320.769375 \nL 139.689137 58.506217 \nL 136.748425 58.506217 \nz\n\" style=\"fill:#4c72b0;\"/>\n   </g>\n   <g id=\"patch_37\">\n    <path clip-path=\"url(#pb9df90da9b)\" d=\"M 139.689137 320.769375 \nL 142.629848 320.769375 \nL 142.629848 103.024837 \nL 139.689137 103.024837 \nz\n\" style=\"fill:#4c72b0;\"/>\n   </g>\n   <g id=\"patch_38\">\n    <path clip-path=\"url(#pb9df90da9b)\" d=\"M 142.629848 320.769375 \nL 145.57056 320.769375 \nL 145.57056 116.24819 \nL 142.629848 116.24819 \nz\n\" style=\"fill:#4c72b0;\"/>\n   </g>\n   <g id=\"patch_39\">\n    <path clip-path=\"url(#pb9df90da9b)\" d=\"M 145.57056 320.769375 \nL 148.511271 320.769375 \nL 148.511271 158.122139 \nL 145.57056 158.122139 \nz\n\" style=\"fill:#4c72b0;\"/>\n   </g>\n   <g id=\"patch_40\">\n    <path clip-path=\"url(#pb9df90da9b)\" d=\"M 148.511271 320.769375 \nL 151.451982 320.769375 \nL 151.451982 165.615372 \nL 148.511271 165.615372 \nz\n\" style=\"fill:#4c72b0;\"/>\n   </g>\n   <g id=\"patch_41\">\n    <path clip-path=\"url(#pb9df90da9b)\" d=\"M 151.451982 320.769375 \nL 154.392694 320.769375 \nL 154.392694 200.877646 \nL 151.451982 200.877646 \nz\n\" style=\"fill:#4c72b0;\"/>\n   </g>\n   <g id=\"patch_42\">\n    <path clip-path=\"url(#pb9df90da9b)\" d=\"M 154.392694 320.769375 \nL 157.333405 320.769375 \nL 157.333405 218.949561 \nL 154.392694 218.949561 \nz\n\" style=\"fill:#4c72b0;\"/>\n   </g>\n   <g id=\"patch_43\">\n    <path clip-path=\"url(#pb9df90da9b)\" d=\"M 157.333405 320.769375 \nL 160.274117 320.769375 \nL 160.274117 231.732135 \nL 157.333405 231.732135 \nz\n\" style=\"fill:#4c72b0;\"/>\n   </g>\n   <g id=\"patch_44\">\n    <path clip-path=\"url(#pb9df90da9b)\" d=\"M 160.274117 320.769375 \nL 163.214828 320.769375 \nL 163.214828 246.718601 \nL 160.274117 246.718601 \nz\n\" style=\"fill:#4c72b0;\"/>\n   </g>\n   <g id=\"patch_45\">\n    <path clip-path=\"url(#pb9df90da9b)\" d=\"M 163.214828 320.769375 \nL 166.15554 320.769375 \nL 166.15554 262.586624 \nL 163.214828 262.586624 \nz\n\" style=\"fill:#4c72b0;\"/>\n   </g>\n   <g id=\"patch_46\">\n    <path clip-path=\"url(#pb9df90da9b)\" d=\"M 166.15554 320.769375 \nL 169.096251 320.769375 \nL 169.096251 266.994408 \nL 166.15554 266.994408 \nz\n\" style=\"fill:#4c72b0;\"/>\n   </g>\n   <g id=\"patch_47\">\n    <path clip-path=\"url(#pb9df90da9b)\" d=\"M 169.096251 320.769375 \nL 172.036963 320.769375 \nL 172.036963 280.217761 \nL 169.096251 280.217761 \nz\n\" style=\"fill:#4c72b0;\"/>\n   </g>\n   <g id=\"patch_48\">\n    <path clip-path=\"url(#pb9df90da9b)\" d=\"M 172.036963 320.769375 \nL 174.977674 320.769375 \nL 174.977674 286.388659 \nL 172.036963 286.388659 \nz\n\" style=\"fill:#4c72b0;\"/>\n   </g>\n   <g id=\"patch_49\">\n    <path clip-path=\"url(#pb9df90da9b)\" d=\"M 174.977674 320.769375 \nL 177.918386 320.769375 \nL 177.918386 293.441113 \nL 174.977674 293.441113 \nz\n\" style=\"fill:#4c72b0;\"/>\n   </g>\n   <g id=\"patch_50\">\n    <path clip-path=\"url(#pb9df90da9b)\" d=\"M 177.918386 320.769375 \nL 180.859097 320.769375 \nL 180.859097 298.289676 \nL 177.918386 298.289676 \nz\n\" style=\"fill:#4c72b0;\"/>\n   </g>\n   <g id=\"patch_51\">\n    <path clip-path=\"url(#pb9df90da9b)\" d=\"M 180.859097 320.769375 \nL 183.799809 320.769375 \nL 183.799809 309.309136 \nL 180.859097 309.309136 \nz\n\" style=\"fill:#4c72b0;\"/>\n   </g>\n   <g id=\"patch_52\">\n    <path clip-path=\"url(#pb9df90da9b)\" d=\"M 183.799809 320.769375 \nL 186.74052 320.769375 \nL 186.74052 311.513028 \nL 183.799809 311.513028 \nz\n\" style=\"fill:#4c72b0;\"/>\n   </g>\n   <g id=\"patch_53\">\n    <path clip-path=\"url(#pb9df90da9b)\" d=\"M 186.74052 320.769375 \nL 189.681231 320.769375 \nL 189.681231 314.598477 \nL 186.74052 314.598477 \nz\n\" style=\"fill:#4c72b0;\"/>\n   </g>\n   <g id=\"patch_54\">\n    <path clip-path=\"url(#pb9df90da9b)\" d=\"M 189.681231 320.769375 \nL 192.621943 320.769375 \nL 192.621943 311.07225 \nL 189.681231 311.07225 \nz\n\" style=\"fill:#4c72b0;\"/>\n   </g>\n   <g id=\"patch_55\">\n    <path clip-path=\"url(#pb9df90da9b)\" d=\"M 192.621943 320.769375 \nL 195.562654 320.769375 \nL 195.562654 315.039256 \nL 192.621943 315.039256 \nz\n\" style=\"fill:#4c72b0;\"/>\n   </g>\n   <g id=\"patch_56\">\n    <path clip-path=\"url(#pb9df90da9b)\" d=\"M 195.562654 320.769375 \nL 198.503366 320.769375 \nL 198.503366 317.243148 \nL 195.562654 317.243148 \nz\n\" style=\"fill:#4c72b0;\"/>\n   </g>\n   <g id=\"patch_57\">\n    <path clip-path=\"url(#pb9df90da9b)\" d=\"M 198.503366 320.769375 \nL 201.444077 320.769375 \nL 201.444077 318.565483 \nL 198.503366 318.565483 \nz\n\" style=\"fill:#4c72b0;\"/>\n   </g>\n   <g id=\"patch_58\">\n    <path clip-path=\"url(#pb9df90da9b)\" d=\"M 201.444077 320.769375 \nL 204.384789 320.769375 \nL 204.384789 319.006261 \nL 201.444077 319.006261 \nz\n\" style=\"fill:#4c72b0;\"/>\n   </g>\n   <g id=\"patch_59\">\n    <path clip-path=\"url(#pb9df90da9b)\" d=\"M 204.384789 320.769375 \nL 207.3255 320.769375 \nL 207.3255 318.565483 \nL 204.384789 318.565483 \nz\n\" style=\"fill:#4c72b0;\"/>\n   </g>\n   <g id=\"patch_60\">\n    <path clip-path=\"url(#pb9df90da9b)\" d=\"M 207.3255 320.769375 \nL 210.266212 320.769375 \nL 210.266212 319.006261 \nL 207.3255 319.006261 \nz\n\" style=\"fill:#4c72b0;\"/>\n   </g>\n   <g id=\"patch_61\">\n    <path clip-path=\"url(#pb9df90da9b)\" d=\"M 210.266212 320.769375 \nL 213.206923 320.769375 \nL 213.206923 319.44704 \nL 210.266212 319.44704 \nz\n\" style=\"fill:#4c72b0;\"/>\n   </g>\n   <g id=\"patch_62\">\n    <path clip-path=\"url(#pb9df90da9b)\" d=\"M 213.206923 320.769375 \nL 216.147635 320.769375 \nL 216.147635 320.328597 \nL 213.206923 320.328597 \nz\n\" style=\"fill:#4c72b0;\"/>\n   </g>\n   <g id=\"patch_63\">\n    <path d=\"M 30.882812 320.769375 \nL 30.882812 21.789375 \n\" style=\"fill:none;\"/>\n   </g>\n   <g id=\"patch_64\">\n    <path d=\"M 224.969769 320.769375 \nL 224.969769 21.789375 \n\" style=\"fill:none;\"/>\n   </g>\n   <g id=\"patch_65\">\n    <path d=\"M 30.882812 320.769375 \nL 224.969769 320.769375 \n\" style=\"fill:none;\"/>\n   </g>\n   <g id=\"patch_66\">\n    <path d=\"M 30.882812 21.789375 \nL 224.969769 21.789375 \n\" style=\"fill:none;\"/>\n   </g>\n   <g id=\"text_13\">\n    <!-- TLT -->\n    <g style=\"fill:#262626;\" transform=\"translate(117.702853 15.789375)scale(0.12 -0.12)\">\n     <defs>\n      <path d=\"M 25.921875 0 \nL 25.921875 63.140625 \nL 2.34375 63.140625 \nL 2.34375 71.578125 \nL 59.078125 71.578125 \nL 59.078125 63.140625 \nL 35.40625 63.140625 \nL 35.40625 0 \nz\n\" id=\"ArialMT-84\"/>\n      <path d=\"M 7.328125 0 \nL 7.328125 71.578125 \nL 16.796875 71.578125 \nL 16.796875 8.453125 \nL 52.046875 8.453125 \nL 52.046875 0 \nz\n\" id=\"ArialMT-76\"/>\n     </defs>\n     <use xlink:href=\"#ArialMT-84\"/>\n     <use x=\"61.083984\" xlink:href=\"#ArialMT-76\"/>\n     <use x=\"109.324219\" xlink:href=\"#ArialMT-84\"/>\n    </g>\n   </g>\n  </g>\n  <g id=\"axes_2\">\n   <g id=\"patch_67\">\n    <path d=\"M 283.195856 320.769375 \nL 477.282813 320.769375 \nL 477.282813 21.789375 \nL 283.195856 21.789375 \nz\n\" style=\"fill:#eaeaf2;\"/>\n   </g>\n   <g id=\"matplotlib.axis_3\">\n    <g id=\"xtick_6\">\n     <g id=\"line2d_25\">\n      <path clip-path=\"url(#p5d5db902f9)\" d=\"M 288.389203 320.769375 \nL 288.389203 21.789375 \n\" style=\"fill:none;stroke:#ffffff;stroke-linecap:round;\"/>\n     </g>\n     <g id=\"line2d_26\"/>\n     <g id=\"text_14\">\n      <!-- 0.0 -->\n      <g style=\"fill:#262626;\" transform=\"translate(281.439203 334.927187)scale(0.1 -0.1)\">\n       <use xlink:href=\"#ArialMT-48\"/>\n       <use x=\"55.615234\" xlink:href=\"#ArialMT-46\"/>\n       <use x=\"83.398438\" xlink:href=\"#ArialMT-48\"/>\n      </g>\n     </g>\n    </g>\n    <g id=\"xtick_7\">\n     <g id=\"line2d_27\">\n      <path clip-path=\"url(#p5d5db902f9)\" d=\"M 327.016254 320.769375 \nL 327.016254 21.789375 \n\" style=\"fill:none;stroke:#ffffff;stroke-linecap:round;\"/>\n     </g>\n     <g id=\"line2d_28\"/>\n     <g id=\"text_15\">\n      <!-- 0.2 -->\n      <g style=\"fill:#262626;\" transform=\"translate(320.066254 334.927187)scale(0.1 -0.1)\">\n       <use xlink:href=\"#ArialMT-48\"/>\n       <use x=\"55.615234\" xlink:href=\"#ArialMT-46\"/>\n       <use x=\"83.398438\" xlink:href=\"#ArialMT-50\"/>\n      </g>\n     </g>\n    </g>\n    <g id=\"xtick_8\">\n     <g id=\"line2d_29\">\n      <path clip-path=\"url(#p5d5db902f9)\" d=\"M 365.643306 320.769375 \nL 365.643306 21.789375 \n\" style=\"fill:none;stroke:#ffffff;stroke-linecap:round;\"/>\n     </g>\n     <g id=\"line2d_30\"/>\n     <g id=\"text_16\">\n      <!-- 0.4 -->\n      <g style=\"fill:#262626;\" transform=\"translate(358.693306 334.927187)scale(0.1 -0.1)\">\n       <use xlink:href=\"#ArialMT-48\"/>\n       <use x=\"55.615234\" xlink:href=\"#ArialMT-46\"/>\n       <use x=\"83.398438\" xlink:href=\"#ArialMT-52\"/>\n      </g>\n     </g>\n    </g>\n    <g id=\"xtick_9\">\n     <g id=\"line2d_31\">\n      <path clip-path=\"url(#p5d5db902f9)\" d=\"M 404.270357 320.769375 \nL 404.270357 21.789375 \n\" style=\"fill:none;stroke:#ffffff;stroke-linecap:round;\"/>\n     </g>\n     <g id=\"line2d_32\"/>\n     <g id=\"text_17\">\n      <!-- 0.6 -->\n      <g style=\"fill:#262626;\" transform=\"translate(397.320357 334.927187)scale(0.1 -0.1)\">\n       <use xlink:href=\"#ArialMT-48\"/>\n       <use x=\"55.615234\" xlink:href=\"#ArialMT-46\"/>\n       <use x=\"83.398438\" xlink:href=\"#ArialMT-54\"/>\n      </g>\n     </g>\n    </g>\n    <g id=\"xtick_10\">\n     <g id=\"line2d_33\">\n      <path clip-path=\"url(#p5d5db902f9)\" d=\"M 442.897409 320.769375 \nL 442.897409 21.789375 \n\" style=\"fill:none;stroke:#ffffff;stroke-linecap:round;\"/>\n     </g>\n     <g id=\"line2d_34\"/>\n     <g id=\"text_18\">\n      <!-- 0.8 -->\n      <g style=\"fill:#262626;\" transform=\"translate(435.947409 334.927187)scale(0.1 -0.1)\">\n       <use xlink:href=\"#ArialMT-48\"/>\n       <use x=\"55.615234\" xlink:href=\"#ArialMT-46\"/>\n       <use x=\"83.398438\" xlink:href=\"#ArialMT-56\"/>\n      </g>\n     </g>\n    </g>\n   </g>\n   <g id=\"matplotlib.axis_4\">\n    <g id=\"ytick_8\">\n     <g id=\"line2d_35\">\n      <path clip-path=\"url(#p5d5db902f9)\" d=\"M 283.195856 320.769375 \nL 477.282813 320.769375 \n\" style=\"fill:none;stroke:#ffffff;stroke-linecap:round;\"/>\n     </g>\n     <g id=\"line2d_36\"/>\n     <g id=\"text_19\">\n      <!-- 0 -->\n      <g style=\"fill:#262626;\" transform=\"translate(270.634918 324.348281)scale(0.1 -0.1)\">\n       <use xlink:href=\"#ArialMT-48\"/>\n      </g>\n     </g>\n    </g>\n    <g id=\"ytick_9\">\n     <g id=\"line2d_37\">\n      <path clip-path=\"url(#p5d5db902f9)\" d=\"M 283.195856 276.691533 \nL 477.282813 276.691533 \n\" style=\"fill:none;stroke:#ffffff;stroke-linecap:round;\"/>\n     </g>\n     <g id=\"line2d_38\"/>\n     <g id=\"text_20\">\n      <!-- 100 -->\n      <g style=\"fill:#262626;\" transform=\"translate(259.513043 280.27044)scale(0.1 -0.1)\">\n       <use xlink:href=\"#ArialMT-49\"/>\n       <use x=\"55.615234\" xlink:href=\"#ArialMT-48\"/>\n       <use x=\"111.230469\" xlink:href=\"#ArialMT-48\"/>\n      </g>\n     </g>\n    </g>\n    <g id=\"ytick_10\">\n     <g id=\"line2d_39\">\n      <path clip-path=\"url(#p5d5db902f9)\" d=\"M 283.195856 232.613692 \nL 477.282813 232.613692 \n\" style=\"fill:none;stroke:#ffffff;stroke-linecap:round;\"/>\n     </g>\n     <g id=\"line2d_40\"/>\n     <g id=\"text_21\">\n      <!-- 200 -->\n      <g style=\"fill:#262626;\" transform=\"translate(259.513043 236.192598)scale(0.1 -0.1)\">\n       <use xlink:href=\"#ArialMT-50\"/>\n       <use x=\"55.615234\" xlink:href=\"#ArialMT-48\"/>\n       <use x=\"111.230469\" xlink:href=\"#ArialMT-48\"/>\n      </g>\n     </g>\n    </g>\n    <g id=\"ytick_11\">\n     <g id=\"line2d_41\">\n      <path clip-path=\"url(#p5d5db902f9)\" d=\"M 283.195856 188.53585 \nL 477.282813 188.53585 \n\" style=\"fill:none;stroke:#ffffff;stroke-linecap:round;\"/>\n     </g>\n     <g id=\"line2d_42\"/>\n     <g id=\"text_22\">\n      <!-- 300 -->\n      <g style=\"fill:#262626;\" transform=\"translate(259.513043 192.114756)scale(0.1 -0.1)\">\n       <use xlink:href=\"#ArialMT-51\"/>\n       <use x=\"55.615234\" xlink:href=\"#ArialMT-48\"/>\n       <use x=\"111.230469\" xlink:href=\"#ArialMT-48\"/>\n      </g>\n     </g>\n    </g>\n    <g id=\"ytick_12\">\n     <g id=\"line2d_43\">\n      <path clip-path=\"url(#p5d5db902f9)\" d=\"M 283.195856 144.458008 \nL 477.282813 144.458008 \n\" style=\"fill:none;stroke:#ffffff;stroke-linecap:round;\"/>\n     </g>\n     <g id=\"line2d_44\"/>\n     <g id=\"text_23\">\n      <!-- 400 -->\n      <g style=\"fill:#262626;\" transform=\"translate(259.513043 148.036915)scale(0.1 -0.1)\">\n       <use xlink:href=\"#ArialMT-52\"/>\n       <use x=\"55.615234\" xlink:href=\"#ArialMT-48\"/>\n       <use x=\"111.230469\" xlink:href=\"#ArialMT-48\"/>\n      </g>\n     </g>\n    </g>\n    <g id=\"ytick_13\">\n     <g id=\"line2d_45\">\n      <path clip-path=\"url(#p5d5db902f9)\" d=\"M 283.195856 100.380167 \nL 477.282813 100.380167 \n\" style=\"fill:none;stroke:#ffffff;stroke-linecap:round;\"/>\n     </g>\n     <g id=\"line2d_46\"/>\n     <g id=\"text_24\">\n      <!-- 500 -->\n      <g style=\"fill:#262626;\" transform=\"translate(259.513043 103.959073)scale(0.1 -0.1)\">\n       <use xlink:href=\"#ArialMT-53\"/>\n       <use x=\"55.615234\" xlink:href=\"#ArialMT-48\"/>\n       <use x=\"111.230469\" xlink:href=\"#ArialMT-48\"/>\n      </g>\n     </g>\n    </g>\n    <g id=\"ytick_14\">\n     <g id=\"line2d_47\">\n      <path clip-path=\"url(#p5d5db902f9)\" d=\"M 283.195856 56.302325 \nL 477.282813 56.302325 \n\" style=\"fill:none;stroke:#ffffff;stroke-linecap:round;\"/>\n     </g>\n     <g id=\"line2d_48\"/>\n     <g id=\"text_25\">\n      <!-- 600 -->\n      <g style=\"fill:#262626;\" transform=\"translate(259.513043 59.881231)scale(0.1 -0.1)\">\n       <use xlink:href=\"#ArialMT-54\"/>\n       <use x=\"55.615234\" xlink:href=\"#ArialMT-48\"/>\n       <use x=\"111.230469\" xlink:href=\"#ArialMT-48\"/>\n      </g>\n     </g>\n    </g>\n   </g>\n   <g id=\"patch_68\">\n    <path clip-path=\"url(#p5d5db902f9)\" d=\"M 292.01799 320.769375 \nL 294.958702 320.769375 \nL 294.958702 320.328597 \nL 292.01799 320.328597 \nz\n\" style=\"fill:#4c72b0;\"/>\n   </g>\n   <g id=\"patch_69\">\n    <path clip-path=\"url(#p5d5db902f9)\" d=\"M 294.958702 320.769375 \nL 297.899413 320.769375 \nL 297.899413 319.44704 \nL 294.958702 319.44704 \nz\n\" style=\"fill:#4c72b0;\"/>\n   </g>\n   <g id=\"patch_70\">\n    <path clip-path=\"url(#p5d5db902f9)\" d=\"M 297.899413 320.769375 \nL 300.840125 320.769375 \nL 300.840125 319.006261 \nL 297.899413 319.006261 \nz\n\" style=\"fill:#4c72b0;\"/>\n   </g>\n   <g id=\"patch_71\">\n    <path clip-path=\"url(#p5d5db902f9)\" d=\"M 300.840125 320.769375 \nL 303.780836 320.769375 \nL 303.780836 318.565483 \nL 300.840125 318.565483 \nz\n\" style=\"fill:#4c72b0;\"/>\n   </g>\n   <g id=\"patch_72\">\n    <path clip-path=\"url(#p5d5db902f9)\" d=\"M 303.780836 320.769375 \nL 306.721548 320.769375 \nL 306.721548 319.006261 \nL 303.780836 319.006261 \nz\n\" style=\"fill:#4c72b0;\"/>\n   </g>\n   <g id=\"patch_73\">\n    <path clip-path=\"url(#p5d5db902f9)\" d=\"M 306.721548 320.769375 \nL 309.662259 320.769375 \nL 309.662259 318.565483 \nL 306.721548 318.565483 \nz\n\" style=\"fill:#4c72b0;\"/>\n   </g>\n   <g id=\"patch_74\">\n    <path clip-path=\"url(#p5d5db902f9)\" d=\"M 309.662259 320.769375 \nL 312.602971 320.769375 \nL 312.602971 317.243148 \nL 309.662259 317.243148 \nz\n\" style=\"fill:#4c72b0;\"/>\n   </g>\n   <g id=\"patch_75\">\n    <path clip-path=\"url(#p5d5db902f9)\" d=\"M 312.602971 320.769375 \nL 315.543682 320.769375 \nL 315.543682 315.039256 \nL 312.602971 315.039256 \nz\n\" style=\"fill:#4c72b0;\"/>\n   </g>\n   <g id=\"patch_76\">\n    <path clip-path=\"url(#p5d5db902f9)\" d=\"M 315.543682 320.769375 \nL 318.484394 320.769375 \nL 318.484394 311.07225 \nL 315.543682 311.07225 \nz\n\" style=\"fill:#4c72b0;\"/>\n   </g>\n   <g id=\"patch_77\">\n    <path clip-path=\"url(#p5d5db902f9)\" d=\"M 318.484394 320.769375 \nL 321.425105 320.769375 \nL 321.425105 314.598477 \nL 318.484394 314.598477 \nz\n\" style=\"fill:#4c72b0;\"/>\n   </g>\n   <g id=\"patch_78\">\n    <path clip-path=\"url(#p5d5db902f9)\" d=\"M 321.425105 320.769375 \nL 324.365816 320.769375 \nL 324.365816 311.513028 \nL 321.425105 311.513028 \nz\n\" style=\"fill:#4c72b0;\"/>\n   </g>\n   <g id=\"patch_79\">\n    <path clip-path=\"url(#p5d5db902f9)\" d=\"M 324.365816 320.769375 \nL 327.306528 320.769375 \nL 327.306528 309.309136 \nL 324.365816 309.309136 \nz\n\" style=\"fill:#4c72b0;\"/>\n   </g>\n   <g id=\"patch_80\">\n    <path clip-path=\"url(#p5d5db902f9)\" d=\"M 327.306528 320.769375 \nL 330.247239 320.769375 \nL 330.247239 298.289676 \nL 327.306528 298.289676 \nz\n\" style=\"fill:#4c72b0;\"/>\n   </g>\n   <g id=\"patch_81\">\n    <path clip-path=\"url(#p5d5db902f9)\" d=\"M 330.247239 320.769375 \nL 333.187951 320.769375 \nL 333.187951 293.441113 \nL 330.247239 293.441113 \nz\n\" style=\"fill:#4c72b0;\"/>\n   </g>\n   <g id=\"patch_82\">\n    <path clip-path=\"url(#p5d5db902f9)\" d=\"M 333.187951 320.769375 \nL 336.128662 320.769375 \nL 336.128662 286.388659 \nL 333.187951 286.388659 \nz\n\" style=\"fill:#4c72b0;\"/>\n   </g>\n   <g id=\"patch_83\">\n    <path clip-path=\"url(#p5d5db902f9)\" d=\"M 336.128662 320.769375 \nL 339.069374 320.769375 \nL 339.069374 280.217761 \nL 336.128662 280.217761 \nz\n\" style=\"fill:#4c72b0;\"/>\n   </g>\n   <g id=\"patch_84\">\n    <path clip-path=\"url(#p5d5db902f9)\" d=\"M 339.069374 320.769375 \nL 342.010085 320.769375 \nL 342.010085 266.994408 \nL 339.069374 266.994408 \nz\n\" style=\"fill:#4c72b0;\"/>\n   </g>\n   <g id=\"patch_85\">\n    <path clip-path=\"url(#p5d5db902f9)\" d=\"M 342.010085 320.769375 \nL 344.950797 320.769375 \nL 344.950797 262.586624 \nL 342.010085 262.586624 \nz\n\" style=\"fill:#4c72b0;\"/>\n   </g>\n   <g id=\"patch_86\">\n    <path clip-path=\"url(#p5d5db902f9)\" d=\"M 344.950797 320.769375 \nL 347.891508 320.769375 \nL 347.891508 246.718601 \nL 344.950797 246.718601 \nz\n\" style=\"fill:#4c72b0;\"/>\n   </g>\n   <g id=\"patch_87\">\n    <path clip-path=\"url(#p5d5db902f9)\" d=\"M 347.891508 320.769375 \nL 350.83222 320.769375 \nL 350.83222 231.732135 \nL 347.891508 231.732135 \nz\n\" style=\"fill:#4c72b0;\"/>\n   </g>\n   <g id=\"patch_88\">\n    <path clip-path=\"url(#p5d5db902f9)\" d=\"M 350.83222 320.769375 \nL 353.772931 320.769375 \nL 353.772931 218.949561 \nL 350.83222 218.949561 \nz\n\" style=\"fill:#4c72b0;\"/>\n   </g>\n   <g id=\"patch_89\">\n    <path clip-path=\"url(#p5d5db902f9)\" d=\"M 353.772931 320.769375 \nL 356.713643 320.769375 \nL 356.713643 200.877646 \nL 353.772931 200.877646 \nz\n\" style=\"fill:#4c72b0;\"/>\n   </g>\n   <g id=\"patch_90\">\n    <path clip-path=\"url(#p5d5db902f9)\" d=\"M 356.713643 320.769375 \nL 359.654354 320.769375 \nL 359.654354 165.615372 \nL 356.713643 165.615372 \nz\n\" style=\"fill:#4c72b0;\"/>\n   </g>\n   <g id=\"patch_91\">\n    <path clip-path=\"url(#p5d5db902f9)\" d=\"M 359.654354 320.769375 \nL 362.595065 320.769375 \nL 362.595065 158.122139 \nL 359.654354 158.122139 \nz\n\" style=\"fill:#4c72b0;\"/>\n   </g>\n   <g id=\"patch_92\">\n    <path clip-path=\"url(#p5d5db902f9)\" d=\"M 362.595065 320.769375 \nL 365.535777 320.769375 \nL 365.535777 116.24819 \nL 362.595065 116.24819 \nz\n\" style=\"fill:#4c72b0;\"/>\n   </g>\n   <g id=\"patch_93\">\n    <path clip-path=\"url(#p5d5db902f9)\" d=\"M 365.535777 320.769375 \nL 368.476488 320.769375 \nL 368.476488 103.024837 \nL 365.535777 103.024837 \nz\n\" style=\"fill:#4c72b0;\"/>\n   </g>\n   <g id=\"patch_94\">\n    <path clip-path=\"url(#p5d5db902f9)\" d=\"M 368.476488 320.769375 \nL 371.4172 320.769375 \nL 371.4172 58.506217 \nL 368.476488 58.506217 \nz\n\" style=\"fill:#4c72b0;\"/>\n   </g>\n   <g id=\"patch_95\">\n    <path clip-path=\"url(#p5d5db902f9)\" d=\"M 371.4172 320.769375 \nL 374.357911 320.769375 \nL 374.357911 75.255797 \nL 371.4172 75.255797 \nz\n\" style=\"fill:#4c72b0;\"/>\n   </g>\n   <g id=\"patch_96\">\n    <path clip-path=\"url(#p5d5db902f9)\" d=\"M 374.357911 320.769375 \nL 377.298623 320.769375 \nL 377.298623 60.710109 \nL 374.357911 60.710109 \nz\n\" style=\"fill:#4c72b0;\"/>\n   </g>\n   <g id=\"patch_97\">\n    <path clip-path=\"url(#p5d5db902f9)\" d=\"M 377.298623 320.769375 \nL 380.239334 320.769375 \nL 380.239334 36.026518 \nL 377.298623 36.026518 \nz\n\" style=\"fill:#4c72b0;\"/>\n   </g>\n   <g id=\"patch_98\">\n    <path clip-path=\"url(#p5d5db902f9)\" d=\"M 380.239334 320.769375 \nL 383.180046 320.769375 \nL 383.180046 47.486757 \nL 380.239334 47.486757 \nz\n\" style=\"fill:#4c72b0;\"/>\n   </g>\n   <g id=\"patch_99\">\n    <path clip-path=\"url(#p5d5db902f9)\" d=\"M 383.180046 320.769375 \nL 386.120757 320.769375 \nL 386.120757 58.946996 \nL 383.180046 58.946996 \nz\n\" style=\"fill:#4c72b0;\"/>\n   </g>\n   <g id=\"patch_100\">\n    <path clip-path=\"url(#p5d5db902f9)\" d=\"M 386.120757 320.769375 \nL 389.061469 320.769375 \nL 389.061469 85.834479 \nL 386.120757 85.834479 \nz\n\" style=\"fill:#4c72b0;\"/>\n   </g>\n   <g id=\"patch_101\">\n    <path clip-path=\"url(#p5d5db902f9)\" d=\"M 389.061469 320.769375 \nL 392.00218 320.769375 \nL 392.00218 92.886934 \nL 389.061469 92.886934 \nz\n\" style=\"fill:#4c72b0;\"/>\n   </g>\n   <g id=\"patch_102\">\n    <path clip-path=\"url(#p5d5db902f9)\" d=\"M 392.00218 320.769375 \nL 394.942892 320.769375 \nL 394.942892 125.504536 \nL 392.00218 125.504536 \nz\n\" style=\"fill:#4c72b0;\"/>\n   </g>\n   <g id=\"patch_103\">\n    <path clip-path=\"url(#p5d5db902f9)\" d=\"M 394.942892 320.769375 \nL 397.883603 320.769375 \nL 397.883603 148.865793 \nL 394.942892 148.865793 \nz\n\" style=\"fill:#4c72b0;\"/>\n   </g>\n   <g id=\"patch_104\">\n    <path clip-path=\"url(#p5d5db902f9)\" d=\"M 397.883603 320.769375 \nL 400.824314 320.769375 \nL 400.824314 160.76681 \nL 397.883603 160.76681 \nz\n\" style=\"fill:#4c72b0;\"/>\n   </g>\n   <g id=\"patch_105\">\n    <path clip-path=\"url(#p5d5db902f9)\" d=\"M 400.824314 320.769375 \nL 403.765026 320.769375 \nL 403.765026 214.100998 \nL 400.824314 214.100998 \nz\n\" style=\"fill:#4c72b0;\"/>\n   </g>\n   <g id=\"patch_106\">\n    <path clip-path=\"url(#p5d5db902f9)\" d=\"M 403.765026 320.769375 \nL 406.705737 320.769375 \nL 406.705737 232.613692 \nL 403.765026 232.613692 \nz\n\" style=\"fill:#4c72b0;\"/>\n   </g>\n   <g id=\"patch_107\">\n    <path clip-path=\"url(#p5d5db902f9)\" d=\"M 406.705737 320.769375 \nL 409.646449 320.769375 \nL 409.646449 255.534169 \nL 406.705737 255.534169 \nz\n\" style=\"fill:#4c72b0;\"/>\n   </g>\n   <g id=\"patch_108\">\n    <path clip-path=\"url(#p5d5db902f9)\" d=\"M 409.646449 320.769375 \nL 412.58716 320.769375 \nL 412.58716 281.099318 \nL 409.646449 281.099318 \nz\n\" style=\"fill:#4c72b0;\"/>\n   </g>\n   <g id=\"patch_109\">\n    <path clip-path=\"url(#p5d5db902f9)\" d=\"M 412.58716 320.769375 \nL 415.527872 320.769375 \nL 415.527872 290.796443 \nL 412.58716 290.796443 \nz\n\" style=\"fill:#4c72b0;\"/>\n   </g>\n   <g id=\"patch_110\">\n    <path clip-path=\"url(#p5d5db902f9)\" d=\"M 415.527872 320.769375 \nL 418.468583 320.769375 \nL 418.468583 302.69746 \nL 415.527872 302.69746 \nz\n\" style=\"fill:#4c72b0;\"/>\n   </g>\n   <g id=\"patch_111\">\n    <path clip-path=\"url(#p5d5db902f9)\" d=\"M 418.468583 320.769375 \nL 421.409295 320.769375 \nL 421.409295 304.019795 \nL 418.468583 304.019795 \nz\n\" style=\"fill:#4c72b0;\"/>\n   </g>\n   <g id=\"patch_112\">\n    <path clip-path=\"url(#p5d5db902f9)\" d=\"M 421.409295 320.769375 \nL 424.350006 320.769375 \nL 424.350006 308.868358 \nL 421.409295 308.868358 \nz\n\" style=\"fill:#4c72b0;\"/>\n   </g>\n   <g id=\"patch_113\">\n    <path clip-path=\"url(#p5d5db902f9)\" d=\"M 424.350006 320.769375 \nL 427.290718 320.769375 \nL 427.290718 309.309136 \nL 424.350006 309.309136 \nz\n\" style=\"fill:#4c72b0;\"/>\n   </g>\n   <g id=\"patch_114\">\n    <path clip-path=\"url(#p5d5db902f9)\" d=\"M 427.290718 320.769375 \nL 430.231429 320.769375 \nL 430.231429 315.039256 \nL 427.290718 315.039256 \nz\n\" style=\"fill:#4c72b0;\"/>\n   </g>\n   <g id=\"patch_115\">\n    <path clip-path=\"url(#p5d5db902f9)\" d=\"M 430.231429 320.769375 \nL 433.172141 320.769375 \nL 433.172141 315.920812 \nL 430.231429 315.920812 \nz\n\" style=\"fill:#4c72b0;\"/>\n   </g>\n   <g id=\"patch_116\">\n    <path clip-path=\"url(#p5d5db902f9)\" d=\"M 433.172141 320.769375 \nL 436.112852 320.769375 \nL 436.112852 317.683926 \nL 433.172141 317.683926 \nz\n\" style=\"fill:#4c72b0;\"/>\n   </g>\n   <g id=\"patch_117\">\n    <path clip-path=\"url(#p5d5db902f9)\" d=\"M 436.112852 320.769375 \nL 439.053563 320.769375 \nL 439.053563 317.243148 \nL 436.112852 317.243148 \nz\n\" style=\"fill:#4c72b0;\"/>\n   </g>\n   <g id=\"patch_118\">\n    <path clip-path=\"url(#p5d5db902f9)\" d=\"M 439.053563 320.769375 \nL 441.994275 320.769375 \nL 441.994275 318.124705 \nL 439.053563 318.124705 \nz\n\" style=\"fill:#4c72b0;\"/>\n   </g>\n   <g id=\"patch_119\">\n    <path clip-path=\"url(#p5d5db902f9)\" d=\"M 441.994275 320.769375 \nL 444.934986 320.769375 \nL 444.934986 319.887818 \nL 441.994275 319.887818 \nz\n\" style=\"fill:#4c72b0;\"/>\n   </g>\n   <g id=\"patch_120\">\n    <path clip-path=\"url(#p5d5db902f9)\" d=\"M 444.934986 320.769375 \nL 447.875698 320.769375 \nL 447.875698 319.887818 \nL 444.934986 319.887818 \nz\n\" style=\"fill:#4c72b0;\"/>\n   </g>\n   <g id=\"patch_121\">\n    <path clip-path=\"url(#p5d5db902f9)\" d=\"M 447.875698 320.769375 \nL 450.816409 320.769375 \nL 450.816409 319.887818 \nL 447.875698 319.887818 \nz\n\" style=\"fill:#4c72b0;\"/>\n   </g>\n   <g id=\"patch_122\">\n    <path clip-path=\"url(#p5d5db902f9)\" d=\"M 450.816409 320.769375 \nL 453.757121 320.769375 \nL 453.757121 320.769375 \nL 450.816409 320.769375 \nz\n\" style=\"fill:#4c72b0;\"/>\n   </g>\n   <g id=\"patch_123\">\n    <path clip-path=\"url(#p5d5db902f9)\" d=\"M 453.757121 320.769375 \nL 456.697832 320.769375 \nL 456.697832 319.887818 \nL 453.757121 319.887818 \nz\n\" style=\"fill:#4c72b0;\"/>\n   </g>\n   <g id=\"patch_124\">\n    <path clip-path=\"url(#p5d5db902f9)\" d=\"M 456.697832 320.769375 \nL 459.638544 320.769375 \nL 459.638544 319.44704 \nL 456.697832 319.44704 \nz\n\" style=\"fill:#4c72b0;\"/>\n   </g>\n   <g id=\"patch_125\">\n    <path clip-path=\"url(#p5d5db902f9)\" d=\"M 459.638544 320.769375 \nL 462.579255 320.769375 \nL 462.579255 320.769375 \nL 459.638544 320.769375 \nz\n\" style=\"fill:#4c72b0;\"/>\n   </g>\n   <g id=\"patch_126\">\n    <path clip-path=\"url(#p5d5db902f9)\" d=\"M 462.579255 320.769375 \nL 465.519967 320.769375 \nL 465.519967 320.769375 \nL 462.579255 320.769375 \nz\n\" style=\"fill:#4c72b0;\"/>\n   </g>\n   <g id=\"patch_127\">\n    <path clip-path=\"url(#p5d5db902f9)\" d=\"M 465.519967 320.769375 \nL 468.460678 320.769375 \nL 468.460678 320.328597 \nL 465.519967 320.328597 \nz\n\" style=\"fill:#4c72b0;\"/>\n   </g>\n   <g id=\"patch_128\">\n    <path d=\"M 283.195856 320.769375 \nL 283.195856 21.789375 \n\" style=\"fill:none;\"/>\n   </g>\n   <g id=\"patch_129\">\n    <path d=\"M 477.282813 320.769375 \nL 477.282813 21.789375 \n\" style=\"fill:none;\"/>\n   </g>\n   <g id=\"patch_130\">\n    <path d=\"M 283.195856 320.769375 \nL 477.282813 320.769375 \n\" style=\"fill:none;\"/>\n   </g>\n   <g id=\"patch_131\">\n    <path d=\"M 283.195856 21.789375 \nL 477.282813 21.789375 \n\" style=\"fill:none;\"/>\n   </g>\n   <g id=\"text_26\">\n    <!-- ^GSPC -->\n    <g style=\"fill:#262626;\" transform=\"translate(360.419647 15.789375)scale(0.12 -0.12)\">\n     <defs>\n      <path d=\"M 11.671875 33.6875 \nL 2.640625 33.6875 \nL 19.875 72.796875 \nL 26.953125 72.796875 \nL 44.28125 33.6875 \nL 35.453125 33.6875 \nL 23.390625 62.84375 \nz\n\" id=\"ArialMT-94\"/>\n      <path d=\"M 41.21875 28.078125 \nL 41.21875 36.46875 \nL 71.53125 36.53125 \nL 71.53125 9.96875 \nQ 64.546875 4.390625 57.125 1.578125 \nQ 49.703125 -1.21875 41.890625 -1.21875 \nQ 31.34375 -1.21875 22.71875 3.296875 \nQ 14.109375 7.8125 9.71875 16.359375 \nQ 5.328125 24.90625 5.328125 35.453125 \nQ 5.328125 45.90625 9.6875 54.953125 \nQ 14.0625 64.015625 22.265625 68.40625 \nQ 30.46875 72.796875 41.15625 72.796875 \nQ 48.921875 72.796875 55.1875 70.28125 \nQ 61.46875 67.78125 65.03125 63.28125 \nQ 68.609375 58.796875 70.453125 51.5625 \nL 61.921875 49.21875 \nQ 60.296875 54.6875 57.90625 57.8125 \nQ 55.515625 60.9375 51.0625 62.8125 \nQ 46.625 64.703125 41.21875 64.703125 \nQ 34.71875 64.703125 29.984375 62.71875 \nQ 25.25 60.75 22.34375 57.515625 \nQ 19.4375 54.296875 17.828125 50.4375 \nQ 15.09375 43.796875 15.09375 36.03125 \nQ 15.09375 26.46875 18.390625 20.015625 \nQ 21.6875 13.578125 27.984375 10.453125 \nQ 34.28125 7.328125 41.359375 7.328125 \nQ 47.515625 7.328125 53.375 9.6875 \nQ 59.234375 12.0625 62.25 14.75 \nL 62.25 28.078125 \nz\n\" id=\"ArialMT-71\"/>\n      <path d=\"M 4.5 23 \nL 13.421875 23.78125 \nQ 14.0625 18.40625 16.375 14.96875 \nQ 18.703125 11.53125 23.578125 9.40625 \nQ 28.46875 7.28125 34.578125 7.28125 \nQ 39.984375 7.28125 44.140625 8.890625 \nQ 48.296875 10.5 50.3125 13.296875 \nQ 52.34375 16.109375 52.34375 19.4375 \nQ 52.34375 22.796875 50.390625 25.3125 \nQ 48.4375 27.828125 43.953125 29.546875 \nQ 41.0625 30.671875 31.203125 33.03125 \nQ 21.34375 35.40625 17.390625 37.5 \nQ 12.25 40.1875 9.734375 44.15625 \nQ 7.234375 48.140625 7.234375 53.078125 \nQ 7.234375 58.5 10.296875 63.203125 \nQ 13.375 67.921875 19.28125 70.359375 \nQ 25.203125 72.796875 32.421875 72.796875 \nQ 40.375 72.796875 46.453125 70.234375 \nQ 52.546875 67.671875 55.8125 62.6875 \nQ 59.078125 57.71875 59.328125 51.421875 \nL 50.25 50.734375 \nQ 49.515625 57.515625 45.28125 60.984375 \nQ 41.0625 64.453125 32.8125 64.453125 \nQ 24.21875 64.453125 20.28125 61.296875 \nQ 16.359375 58.15625 16.359375 53.71875 \nQ 16.359375 49.859375 19.140625 47.359375 \nQ 21.875 44.875 33.421875 42.265625 \nQ 44.96875 39.65625 49.265625 37.703125 \nQ 55.515625 34.8125 58.484375 30.390625 \nQ 61.46875 25.984375 61.46875 20.21875 \nQ 61.46875 14.5 58.203125 9.4375 \nQ 54.9375 4.390625 48.796875 1.578125 \nQ 42.671875 -1.21875 35.015625 -1.21875 \nQ 25.296875 -1.21875 18.71875 1.609375 \nQ 12.15625 4.4375 8.421875 10.125 \nQ 4.6875 15.828125 4.5 23 \nz\n\" id=\"ArialMT-83\"/>\n      <path d=\"M 7.71875 0 \nL 7.71875 71.578125 \nL 34.71875 71.578125 \nQ 41.84375 71.578125 45.609375 70.90625 \nQ 50.875 70.015625 54.4375 67.546875 \nQ 58.015625 65.09375 60.1875 60.640625 \nQ 62.359375 56.203125 62.359375 50.875 \nQ 62.359375 41.75 56.546875 35.421875 \nQ 50.734375 29.109375 35.546875 29.109375 \nL 17.1875 29.109375 \nL 17.1875 0 \nz\nM 17.1875 37.546875 \nL 35.6875 37.546875 \nQ 44.875 37.546875 48.734375 40.96875 \nQ 52.59375 44.390625 52.59375 50.59375 \nQ 52.59375 55.078125 50.3125 58.265625 \nQ 48.046875 61.46875 44.34375 62.5 \nQ 41.9375 63.140625 35.5 63.140625 \nL 17.1875 63.140625 \nz\n\" id=\"ArialMT-80\"/>\n      <path d=\"M 58.796875 25.09375 \nL 68.265625 22.703125 \nQ 65.28125 11.03125 57.546875 4.90625 \nQ 49.8125 -1.21875 38.625 -1.21875 \nQ 27.046875 -1.21875 19.796875 3.484375 \nQ 12.546875 8.203125 8.765625 17.140625 \nQ 4.984375 26.078125 4.984375 36.328125 \nQ 4.984375 47.515625 9.25 55.828125 \nQ 13.53125 64.15625 21.40625 68.46875 \nQ 29.296875 72.796875 38.765625 72.796875 \nQ 49.515625 72.796875 56.828125 67.328125 \nQ 64.15625 61.859375 67.046875 51.953125 \nL 57.71875 49.75 \nQ 55.21875 57.5625 50.484375 61.125 \nQ 45.75 64.703125 38.578125 64.703125 \nQ 30.328125 64.703125 24.78125 60.734375 \nQ 19.234375 56.78125 16.984375 50.109375 \nQ 14.75 43.453125 14.75 36.375 \nQ 14.75 27.25 17.40625 20.4375 \nQ 20.0625 13.625 25.671875 10.25 \nQ 31.296875 6.890625 37.84375 6.890625 \nQ 45.796875 6.890625 51.3125 11.46875 \nQ 56.84375 16.0625 58.796875 25.09375 \nz\n\" id=\"ArialMT-67\"/>\n     </defs>\n     <use xlink:href=\"#ArialMT-94\"/>\n     <use x=\"46.923828\" xlink:href=\"#ArialMT-71\"/>\n     <use x=\"124.707031\" xlink:href=\"#ArialMT-83\"/>\n     <use x=\"191.40625\" xlink:href=\"#ArialMT-80\"/>\n     <use x=\"258.105469\" xlink:href=\"#ArialMT-67\"/>\n    </g>\n   </g>\n  </g>\n </g>\n <defs>\n  <clipPath id=\"pb9df90da9b\">\n   <rect height=\"298.98\" width=\"194.086957\" x=\"30.882812\" y=\"21.789375\"/>\n  </clipPath>\n  <clipPath id=\"p5d5db902f9\">\n   <rect height=\"298.98\" width=\"194.086957\" x=\"283.195856\" y=\"21.789375\"/>\n  </clipPath>\n </defs>\n</svg>\n",
      "image/png": "[encoded data removed]"
     },
     "metadata": {}
    }
   ],
   "source": [
    "df = pd.DataFrame(data=weights_normal, columns=returns_monthly.columns)\n",
    "df.hist(bins=60)"
   ]
  },
  {
   "cell_type": "code",
   "execution_count": 57,
   "metadata": {},
   "outputs": [
    {
     "output_type": "execute_result",
     "data": {
      "text/plain": [
       "Date\n",
       "2005-02-28    0.000785\n",
       "2005-03-31   -0.011266\n",
       "2005-04-30    0.011554\n",
       "2005-05-31    0.030719\n",
       "2005-06-30    0.011598\n",
       "                ...   \n",
       "2020-08-31    0.005118\n",
       "2020-09-30   -0.013923\n",
       "2020-10-31   -0.030999\n",
       "2020-11-30    0.058561\n",
       "2020-12-31    0.001662\n",
       "Freq: M, Name: Portfolio Return, Length: 191, dtype: float64"
      ]
     },
     "metadata": {},
     "execution_count": 57
    }
   ],
   "source": [
    "pr = portfolio_returns(df.median().to_numpy(),returns_monthly)\n",
    "\n",
    "pr_obj = RiskReturn(return_series=pr, periodicity=\"M\")"
   ]
  },
  {
   "cell_type": "code",
   "execution_count": 54,
   "metadata": {},
   "outputs": [
    {
     "output_type": "execute_result",
     "data": {
      "text/plain": [
       "Date\n",
       "2005-02-28    0.000785\n",
       "2005-03-31   -0.011266\n",
       "2005-04-30    0.011554\n",
       "2005-05-31    0.030719\n",
       "2005-06-30    0.011598\n",
       "                ...   \n",
       "2020-08-31    0.005118\n",
       "2020-09-30   -0.013923\n",
       "2020-10-31   -0.030999\n",
       "2020-11-30    0.058561\n",
       "2020-12-31    0.001662\n",
       "Freq: M, Name: Portfolio Return, Length: 191, dtype: float64"
      ]
     },
     "metadata": {},
     "execution_count": 54
    }
   ],
   "source": [
    "portfolio_returns(df.median().to_numpy(),returns_monthly)"
   ]
  },
  {
   "cell_type": "code",
   "execution_count": null,
   "metadata": {},
   "outputs": [],
   "source": []
  }
 ],
 "metadata": {
  "kernelspec": {
   "display_name": "Python 3",
   "language": "python",
   "name": "python3"
  },
  "language_info": {
   "codemirror_mode": {
    "name": "ipython",
    "version": 3
   },
   "file_extension": ".py",
   "mimetype": "text/x-python",
   "name": "python",
   "nbconvert_exporter": "python",
   "pygments_lexer": "ipython3",
   "version": "3.8.5-final"
  },
  "varInspector": {
   "cols": {
    "lenName": 16,
    "lenType": 16,
    "lenVar": 40
   },
   "kernels_config": {
    "python": {
     "delete_cmd_postfix": "",
     "delete_cmd_prefix": "del ",
     "library": "var_list.py",
     "varRefreshCmd": "print(var_dic_list())"
    },
    "r": {
     "delete_cmd_postfix": ") ",
     "delete_cmd_prefix": "rm(",
     "library": "var_list.r",
     "varRefreshCmd": "cat(var_dic_list()) "
    }
   },
   "types_to_exclude": [
    "module",
    "function",
    "builtin_function_or_method",
    "instance",
    "_Feature"
   ],
   "window_display": false
  }
 },
 "nbformat": 4,
 "nbformat_minor": 2
}