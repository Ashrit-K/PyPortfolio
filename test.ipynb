{
 "metadata": {
  "language_info": {
   "codemirror_mode": {
    "name": "ipython",
    "version": 3
   },
   "file_extension": ".py",
   "mimetype": "text/x-python",
   "name": "python",
   "nbconvert_exporter": "python",
   "pygments_lexer": "ipython3",
   "version": "3.8.5-final"
  },
  "orig_nbformat": 2,
  "kernelspec": {
   "name": "python3",
   "display_name": "Python 3"
  }
 },
 "nbformat": 4,
 "nbformat_minor": 2,
 "cells": [
  {
   "cell_type": "code",
   "execution_count": 139,
   "metadata": {},
   "outputs": [
    {
     "output_type": "stream",
     "name": "stdout",
     "text": [
      "The autoreload extension is already loaded. To reload it, use:\n  %reload_ext autoreload\n"
     ]
    }
   ],
   "source": [
    "import pandas as pd\n",
    "import pandas_datareader.data as pdr\n",
    "import yfinance as yf\n",
    "import datetime as dt\n",
    "from CoreFunctions import *\n",
    "from RiskReturn import *\n",
    "from PyPortfolio import *\n",
    "yf.pdr_override()\n",
    "%load_ext autoreload\n",
    "%autoreload 2"
   ]
  },
  {
   "cell_type": "code",
   "execution_count": 140,
   "metadata": {},
   "outputs": [
    {
     "output_type": "stream",
     "name": "stdout",
     "text": [
      "[*********************100%***********************]  3 of 3 completed\n"
     ]
    }
   ],
   "source": [
    "\n",
    "start = dt.datetime(2005,1,2)\n",
    "end = dt.datetime.today()\n",
    "prices_daily = pdr.get_data_yahoo(['^GSPC','^FTSE','^NSEI'], start=start, end=end)\n",
    "prices_monthly = prices_daily['Adj Close'].resample('M').last()\n",
    "returns_monthly = prices_monthly.pct_change().dropna()\n"
   ]
  },
  {
   "cell_type": "code",
   "execution_count": 141,
   "metadata": {},
   "outputs": [],
   "source": [
    "riskreturn_object = RiskReturn(return_series=returns_monthly, periodicity='M')"
   ]
  },
  {
   "cell_type": "code",
   "execution_count": 153,
   "metadata": {},
   "outputs": [],
   "source": [
    "portfolio_object = PyPortfolio(return_series=returns_monthly, periodicity='M')\n"
   ]
  },
  {
   "cell_type": "code",
   "execution_count": 181,
   "metadata": {},
   "outputs": [],
   "source": [
    "z =EfficientFrontier(riskreturn_object.get_return_series(),riskreturn_object.get_return_periodicity() )"
   ]
  },
  {
   "cell_type": "code",
   "execution_count": 182,
   "metadata": {},
   "outputs": [
    {
     "output_type": "execute_result",
     "data": {
      "text/plain": [
       "<matplotlib.collections.PathCollection at 0x7fe7c7012e80>"
      ]
     },
     "metadata": {},
     "execution_count": 182
    },
    {
     "output_type": "display_data",
     "data": {
      "text/plain": "<Figure size 576x396 with 1 Axes>",
      "image/svg+xml": "<?xml version=\"1.0\" encoding=\"utf-8\" standalone=\"no\"?>\n<!DOCTYPE svg PUBLIC \"-//W3C//DTD SVG 1.1//EN\"\n  \"http://www.w3.org/Graphics/SVG/1.1/DTD/svg11.dtd\">\n<!-- Created with matplotlib (https://matplotlib.org/) -->\n<svg height=\"329.525312pt\" version=\"1.1\" viewBox=\"0 0 487.260938 329.525312\" width=\"487.260938pt\" xmlns=\"http://www.w3.org/2000/svg\" xmlns:xlink=\"http://www.w3.org/1999/xlink\">\n <metadata>\n  <rdf:RDF xmlns:cc=\"http://creativecommons.org/ns#\" xmlns:dc=\"http://purl.org/dc/elements/1.1/\" xmlns:rdf=\"http://www.w3.org/1999/02/22-rdf-syntax-ns#\">\n   <cc:Work>\n    <dc:type rdf:resource=\"http://purl.org/dc/dcmitype/StillImage\"/>\n    <dc:date>2020-12-03T19:46:01.314373</dc:date>\n    <dc:format>image/svg+xml</dc:format>\n    <dc:creator>\n     <cc:Agent>\n      <dc:title>Matplotlib v3.3.0, https://matplotlib.org/</dc:title>\n     </cc:Agent>\n    </dc:creator>\n   </cc:Work>\n  </rdf:RDF>\n </metadata>\n <defs>\n  <style type=\"text/css\">*{stroke-linecap:butt;stroke-linejoin:round;}</style>\n </defs>\n <g id=\"figure_1\">\n  <g id=\"patch_1\">\n   <path d=\"M 0 329.525312 \nL 487.260938 329.525312 \nL 487.260938 0 \nL 0 0 \nz\n\" style=\"fill:#ffffff;\"/>\n  </g>\n  <g id=\"axes_1\">\n   <g id=\"patch_2\">\n    <path d=\"M 33.660938 306.18 \nL 480.060937 306.18 \nL 480.060937 7.2 \nL 33.660938 7.2 \nz\n\" style=\"fill:#eaeaf2;\"/>\n   </g>\n   <g id=\"matplotlib.axis_1\">\n    <g id=\"xtick_1\">\n     <g id=\"line2d_1\">\n      <path clip-path=\"url(#p6d4d2c94f3)\" d=\"M 89.479992 306.18 \nL 89.479992 7.2 \n\" style=\"fill:none;stroke:#ffffff;stroke-linecap:round;\"/>\n     </g>\n     <g id=\"line2d_2\"/>\n     <g id=\"text_1\">\n      <!-- 0.145 -->\n      <g style=\"fill:#262626;\" transform=\"translate(76.969055 320.337812)scale(0.1 -0.1)\">\n       <defs>\n        <path d=\"M 4.15625 35.296875 \nQ 4.15625 48 6.765625 55.734375 \nQ 9.375 63.484375 14.515625 67.671875 \nQ 19.671875 71.875 27.484375 71.875 \nQ 33.25 71.875 37.59375 69.546875 \nQ 41.9375 67.234375 44.765625 62.859375 \nQ 47.609375 58.5 49.21875 52.21875 \nQ 50.828125 45.953125 50.828125 35.296875 \nQ 50.828125 22.703125 48.234375 14.96875 \nQ 45.65625 7.234375 40.5 3 \nQ 35.359375 -1.21875 27.484375 -1.21875 \nQ 17.140625 -1.21875 11.234375 6.203125 \nQ 4.15625 15.140625 4.15625 35.296875 \nz\nM 13.1875 35.296875 \nQ 13.1875 17.671875 17.3125 11.828125 \nQ 21.4375 6 27.484375 6 \nQ 33.546875 6 37.671875 11.859375 \nQ 41.796875 17.71875 41.796875 35.296875 \nQ 41.796875 52.984375 37.671875 58.78125 \nQ 33.546875 64.59375 27.390625 64.59375 \nQ 21.34375 64.59375 17.71875 59.46875 \nQ 13.1875 52.9375 13.1875 35.296875 \nz\n\" id=\"ArialMT-48\"/>\n        <path d=\"M 9.078125 0 \nL 9.078125 10.015625 \nL 19.09375 10.015625 \nL 19.09375 0 \nz\n\" id=\"ArialMT-46\"/>\n        <path d=\"M 37.25 0 \nL 28.46875 0 \nL 28.46875 56 \nQ 25.296875 52.984375 20.140625 49.953125 \nQ 14.984375 46.921875 10.890625 45.40625 \nL 10.890625 53.90625 \nQ 18.265625 57.375 23.78125 62.296875 \nQ 29.296875 67.234375 31.59375 71.875 \nL 37.25 71.875 \nz\n\" id=\"ArialMT-49\"/>\n        <path d=\"M 32.328125 0 \nL 32.328125 17.140625 \nL 1.265625 17.140625 \nL 1.265625 25.203125 \nL 33.9375 71.578125 \nL 41.109375 71.578125 \nL 41.109375 25.203125 \nL 50.78125 25.203125 \nL 50.78125 17.140625 \nL 41.109375 17.140625 \nL 41.109375 0 \nz\nM 32.328125 25.203125 \nL 32.328125 57.46875 \nL 9.90625 25.203125 \nz\n\" id=\"ArialMT-52\"/>\n        <path d=\"M 4.15625 18.75 \nL 13.375 19.53125 \nQ 14.40625 12.796875 18.140625 9.390625 \nQ 21.875 6 27.15625 6 \nQ 33.5 6 37.890625 10.78125 \nQ 42.28125 15.578125 42.28125 23.484375 \nQ 42.28125 31 38.0625 35.34375 \nQ 33.84375 39.703125 27 39.703125 \nQ 22.75 39.703125 19.328125 37.765625 \nQ 15.921875 35.84375 13.96875 32.765625 \nL 5.71875 33.84375 \nL 12.640625 70.609375 \nL 48.25 70.609375 \nL 48.25 62.203125 \nL 19.671875 62.203125 \nL 15.828125 42.96875 \nQ 22.265625 47.46875 29.34375 47.46875 \nQ 38.71875 47.46875 45.15625 40.96875 \nQ 51.609375 34.46875 51.609375 24.265625 \nQ 51.609375 14.546875 45.953125 7.46875 \nQ 39.0625 -1.21875 27.15625 -1.21875 \nQ 17.390625 -1.21875 11.203125 4.25 \nQ 5.03125 9.71875 4.15625 18.75 \nz\n\" id=\"ArialMT-53\"/>\n       </defs>\n       <use xlink:href=\"#ArialMT-48\"/>\n       <use x=\"55.615234\" xlink:href=\"#ArialMT-46\"/>\n       <use x=\"83.398438\" xlink:href=\"#ArialMT-49\"/>\n       <use x=\"139.013672\" xlink:href=\"#ArialMT-52\"/>\n       <use x=\"194.628906\" xlink:href=\"#ArialMT-53\"/>\n      </g>\n     </g>\n    </g>\n    <g id=\"xtick_2\">\n     <g id=\"line2d_3\">\n      <path clip-path=\"url(#p6d4d2c94f3)\" d=\"M 162.250567 306.18 \nL 162.250567 7.2 \n\" style=\"fill:none;stroke:#ffffff;stroke-linecap:round;\"/>\n     </g>\n     <g id=\"line2d_4\"/>\n     <g id=\"text_2\">\n      <!-- 0.150 -->\n      <g style=\"fill:#262626;\" transform=\"translate(149.739629 320.337812)scale(0.1 -0.1)\">\n       <use xlink:href=\"#ArialMT-48\"/>\n       <use x=\"55.615234\" xlink:href=\"#ArialMT-46\"/>\n       <use x=\"83.398438\" xlink:href=\"#ArialMT-49\"/>\n       <use x=\"139.013672\" xlink:href=\"#ArialMT-53\"/>\n       <use x=\"194.628906\" xlink:href=\"#ArialMT-48\"/>\n      </g>\n     </g>\n    </g>\n    <g id=\"xtick_3\">\n     <g id=\"line2d_5\">\n      <path clip-path=\"url(#p6d4d2c94f3)\" d=\"M 235.021142 306.18 \nL 235.021142 7.2 \n\" style=\"fill:none;stroke:#ffffff;stroke-linecap:round;\"/>\n     </g>\n     <g id=\"line2d_6\"/>\n     <g id=\"text_3\">\n      <!-- 0.155 -->\n      <g style=\"fill:#262626;\" transform=\"translate(222.510204 320.337812)scale(0.1 -0.1)\">\n       <use xlink:href=\"#ArialMT-48\"/>\n       <use x=\"55.615234\" xlink:href=\"#ArialMT-46\"/>\n       <use x=\"83.398438\" xlink:href=\"#ArialMT-49\"/>\n       <use x=\"139.013672\" xlink:href=\"#ArialMT-53\"/>\n       <use x=\"194.628906\" xlink:href=\"#ArialMT-53\"/>\n      </g>\n     </g>\n    </g>\n    <g id=\"xtick_4\">\n     <g id=\"line2d_7\">\n      <path clip-path=\"url(#p6d4d2c94f3)\" d=\"M 307.791717 306.18 \nL 307.791717 7.2 \n\" style=\"fill:none;stroke:#ffffff;stroke-linecap:round;\"/>\n     </g>\n     <g id=\"line2d_8\"/>\n     <g id=\"text_4\">\n      <!-- 0.160 -->\n      <g style=\"fill:#262626;\" transform=\"translate(295.280779 320.337812)scale(0.1 -0.1)\">\n       <defs>\n        <path d=\"M 49.75 54.046875 \nL 41.015625 53.375 \nQ 39.84375 58.546875 37.703125 60.890625 \nQ 34.125 64.65625 28.90625 64.65625 \nQ 24.703125 64.65625 21.53125 62.3125 \nQ 17.390625 59.28125 14.984375 53.46875 \nQ 12.59375 47.65625 12.5 36.921875 \nQ 15.671875 41.75 20.265625 44.09375 \nQ 24.859375 46.4375 29.890625 46.4375 \nQ 38.671875 46.4375 44.84375 39.96875 \nQ 51.03125 33.5 51.03125 23.25 \nQ 51.03125 16.5 48.125 10.71875 \nQ 45.21875 4.9375 40.140625 1.859375 \nQ 35.0625 -1.21875 28.609375 -1.21875 \nQ 17.625 -1.21875 10.6875 6.859375 \nQ 3.765625 14.9375 3.765625 33.5 \nQ 3.765625 54.25 11.421875 63.671875 \nQ 18.109375 71.875 29.4375 71.875 \nQ 37.890625 71.875 43.28125 67.140625 \nQ 48.6875 62.40625 49.75 54.046875 \nz\nM 13.875 23.1875 \nQ 13.875 18.65625 15.796875 14.5 \nQ 17.71875 10.359375 21.1875 8.171875 \nQ 24.65625 6 28.46875 6 \nQ 34.03125 6 38.03125 10.484375 \nQ 42.046875 14.984375 42.046875 22.703125 \nQ 42.046875 30.125 38.078125 34.390625 \nQ 34.125 38.671875 28.125 38.671875 \nQ 22.171875 38.671875 18.015625 34.390625 \nQ 13.875 30.125 13.875 23.1875 \nz\n\" id=\"ArialMT-54\"/>\n       </defs>\n       <use xlink:href=\"#ArialMT-48\"/>\n       <use x=\"55.615234\" xlink:href=\"#ArialMT-46\"/>\n       <use x=\"83.398438\" xlink:href=\"#ArialMT-49\"/>\n       <use x=\"139.013672\" xlink:href=\"#ArialMT-54\"/>\n       <use x=\"194.628906\" xlink:href=\"#ArialMT-48\"/>\n      </g>\n     </g>\n    </g>\n    <g id=\"xtick_5\">\n     <g id=\"line2d_9\">\n      <path clip-path=\"url(#p6d4d2c94f3)\" d=\"M 380.562292 306.18 \nL 380.562292 7.2 \n\" style=\"fill:none;stroke:#ffffff;stroke-linecap:round;\"/>\n     </g>\n     <g id=\"line2d_10\"/>\n     <g id=\"text_5\">\n      <!-- 0.165 -->\n      <g style=\"fill:#262626;\" transform=\"translate(368.051354 320.337812)scale(0.1 -0.1)\">\n       <use xlink:href=\"#ArialMT-48\"/>\n       <use x=\"55.615234\" xlink:href=\"#ArialMT-46\"/>\n       <use x=\"83.398438\" xlink:href=\"#ArialMT-49\"/>\n       <use x=\"139.013672\" xlink:href=\"#ArialMT-54\"/>\n       <use x=\"194.628906\" xlink:href=\"#ArialMT-53\"/>\n      </g>\n     </g>\n    </g>\n    <g id=\"xtick_6\">\n     <g id=\"line2d_11\">\n      <path clip-path=\"url(#p6d4d2c94f3)\" d=\"M 453.332866 306.18 \nL 453.332866 7.2 \n\" style=\"fill:none;stroke:#ffffff;stroke-linecap:round;\"/>\n     </g>\n     <g id=\"line2d_12\"/>\n     <g id=\"text_6\">\n      <!-- 0.170 -->\n      <g style=\"fill:#262626;\" transform=\"translate(440.821929 320.337812)scale(0.1 -0.1)\">\n       <defs>\n        <path d=\"M 4.734375 62.203125 \nL 4.734375 70.65625 \nL 51.078125 70.65625 \nL 51.078125 63.8125 \nQ 44.234375 56.546875 37.515625 44.484375 \nQ 30.8125 32.421875 27.15625 19.671875 \nQ 24.515625 10.6875 23.78125 0 \nL 14.75 0 \nQ 14.890625 8.453125 18.0625 20.40625 \nQ 21.234375 32.375 27.171875 43.484375 \nQ 33.109375 54.59375 39.796875 62.203125 \nz\n\" id=\"ArialMT-55\"/>\n       </defs>\n       <use xlink:href=\"#ArialMT-48\"/>\n       <use x=\"55.615234\" xlink:href=\"#ArialMT-46\"/>\n       <use x=\"83.398438\" xlink:href=\"#ArialMT-49\"/>\n       <use x=\"139.013672\" xlink:href=\"#ArialMT-55\"/>\n       <use x=\"194.628906\" xlink:href=\"#ArialMT-48\"/>\n      </g>\n     </g>\n    </g>\n   </g>\n   <g id=\"matplotlib.axis_2\">\n    <g id=\"ytick_1\">\n     <g id=\"line2d_13\">\n      <path clip-path=\"url(#p6d4d2c94f3)\" d=\"M 33.660938 293.328227 \nL 480.060937 293.328227 \n\" style=\"fill:none;stroke:#ffffff;stroke-linecap:round;\"/>\n     </g>\n     <g id=\"line2d_14\"/>\n     <g id=\"text_7\">\n      <!-- 0.00 -->\n      <g style=\"fill:#262626;\" transform=\"translate(7.2 296.907134)scale(0.1 -0.1)\">\n       <use xlink:href=\"#ArialMT-48\"/>\n       <use x=\"55.615234\" xlink:href=\"#ArialMT-46\"/>\n       <use x=\"83.398438\" xlink:href=\"#ArialMT-48\"/>\n       <use x=\"139.013672\" xlink:href=\"#ArialMT-48\"/>\n      </g>\n     </g>\n    </g>\n    <g id=\"ytick_2\">\n     <g id=\"line2d_15\">\n      <path clip-path=\"url(#p6d4d2c94f3)\" d=\"M 33.660938 257.117086 \nL 480.060937 257.117086 \n\" style=\"fill:none;stroke:#ffffff;stroke-linecap:round;\"/>\n     </g>\n     <g id=\"line2d_16\"/>\n     <g id=\"text_8\">\n      <!-- 0.01 -->\n      <g style=\"fill:#262626;\" transform=\"translate(7.2 260.695992)scale(0.1 -0.1)\">\n       <use xlink:href=\"#ArialMT-48\"/>\n       <use x=\"55.615234\" xlink:href=\"#ArialMT-46\"/>\n       <use x=\"83.398438\" xlink:href=\"#ArialMT-48\"/>\n       <use x=\"139.013672\" xlink:href=\"#ArialMT-49\"/>\n      </g>\n     </g>\n    </g>\n    <g id=\"ytick_3\">\n     <g id=\"line2d_17\">\n      <path clip-path=\"url(#p6d4d2c94f3)\" d=\"M 33.660938 220.905944 \nL 480.060937 220.905944 \n\" style=\"fill:none;stroke:#ffffff;stroke-linecap:round;\"/>\n     </g>\n     <g id=\"line2d_18\"/>\n     <g id=\"text_9\">\n      <!-- 0.02 -->\n      <g style=\"fill:#262626;\" transform=\"translate(7.2 224.48485)scale(0.1 -0.1)\">\n       <defs>\n        <path d=\"M 50.34375 8.453125 \nL 50.34375 0 \nL 3.03125 0 \nQ 2.9375 3.171875 4.046875 6.109375 \nQ 5.859375 10.9375 9.828125 15.625 \nQ 13.8125 20.3125 21.34375 26.46875 \nQ 33.015625 36.03125 37.109375 41.625 \nQ 41.21875 47.21875 41.21875 52.203125 \nQ 41.21875 57.421875 37.46875 61 \nQ 33.734375 64.59375 27.734375 64.59375 \nQ 21.390625 64.59375 17.578125 60.78125 \nQ 13.765625 56.984375 13.71875 50.25 \nL 4.6875 51.171875 \nQ 5.609375 61.28125 11.65625 66.578125 \nQ 17.71875 71.875 27.9375 71.875 \nQ 38.234375 71.875 44.234375 66.15625 \nQ 50.25 60.453125 50.25 52 \nQ 50.25 47.703125 48.484375 43.546875 \nQ 46.734375 39.40625 42.65625 34.8125 \nQ 38.578125 30.21875 29.109375 22.21875 \nQ 21.1875 15.578125 18.9375 13.203125 \nQ 16.703125 10.84375 15.234375 8.453125 \nz\n\" id=\"ArialMT-50\"/>\n       </defs>\n       <use xlink:href=\"#ArialMT-48\"/>\n       <use x=\"55.615234\" xlink:href=\"#ArialMT-46\"/>\n       <use x=\"83.398438\" xlink:href=\"#ArialMT-48\"/>\n       <use x=\"139.013672\" xlink:href=\"#ArialMT-50\"/>\n      </g>\n     </g>\n    </g>\n    <g id=\"ytick_4\">\n     <g id=\"line2d_19\">\n      <path clip-path=\"url(#p6d4d2c94f3)\" d=\"M 33.660938 184.694802 \nL 480.060937 184.694802 \n\" style=\"fill:none;stroke:#ffffff;stroke-linecap:round;\"/>\n     </g>\n     <g id=\"line2d_20\"/>\n     <g id=\"text_10\">\n      <!-- 0.03 -->\n      <g style=\"fill:#262626;\" transform=\"translate(7.2 188.273708)scale(0.1 -0.1)\">\n       <defs>\n        <path d=\"M 4.203125 18.890625 \nL 12.984375 20.0625 \nQ 14.5 12.59375 18.140625 9.296875 \nQ 21.78125 6 27 6 \nQ 33.203125 6 37.46875 10.296875 \nQ 41.75 14.59375 41.75 20.953125 \nQ 41.75 27 37.796875 30.921875 \nQ 33.84375 34.859375 27.734375 34.859375 \nQ 25.25 34.859375 21.53125 33.890625 \nL 22.515625 41.609375 \nQ 23.390625 41.5 23.921875 41.5 \nQ 29.546875 41.5 34.03125 44.421875 \nQ 38.53125 47.359375 38.53125 53.46875 \nQ 38.53125 58.296875 35.25 61.46875 \nQ 31.984375 64.65625 26.8125 64.65625 \nQ 21.6875 64.65625 18.265625 61.421875 \nQ 14.84375 58.203125 13.875 51.765625 \nL 5.078125 53.328125 \nQ 6.6875 62.15625 12.390625 67.015625 \nQ 18.109375 71.875 26.609375 71.875 \nQ 32.46875 71.875 37.390625 69.359375 \nQ 42.328125 66.84375 44.9375 62.5 \nQ 47.5625 58.15625 47.5625 53.265625 \nQ 47.5625 48.640625 45.0625 44.828125 \nQ 42.578125 41.015625 37.703125 38.765625 \nQ 44.046875 37.3125 47.5625 32.6875 \nQ 51.078125 28.078125 51.078125 21.140625 \nQ 51.078125 11.765625 44.234375 5.25 \nQ 37.40625 -1.265625 26.953125 -1.265625 \nQ 17.53125 -1.265625 11.296875 4.34375 \nQ 5.078125 9.96875 4.203125 18.890625 \nz\n\" id=\"ArialMT-51\"/>\n       </defs>\n       <use xlink:href=\"#ArialMT-48\"/>\n       <use x=\"55.615234\" xlink:href=\"#ArialMT-46\"/>\n       <use x=\"83.398438\" xlink:href=\"#ArialMT-48\"/>\n       <use x=\"139.013672\" xlink:href=\"#ArialMT-51\"/>\n      </g>\n     </g>\n    </g>\n    <g id=\"ytick_5\">\n     <g id=\"line2d_21\">\n      <path clip-path=\"url(#p6d4d2c94f3)\" d=\"M 33.660938 148.48366 \nL 480.060937 148.48366 \n\" style=\"fill:none;stroke:#ffffff;stroke-linecap:round;\"/>\n     </g>\n     <g id=\"line2d_22\"/>\n     <g id=\"text_11\">\n      <!-- 0.04 -->\n      <g style=\"fill:#262626;\" transform=\"translate(7.2 152.062567)scale(0.1 -0.1)\">\n       <use xlink:href=\"#ArialMT-48\"/>\n       <use x=\"55.615234\" xlink:href=\"#ArialMT-46\"/>\n       <use x=\"83.398438\" xlink:href=\"#ArialMT-48\"/>\n       <use x=\"139.013672\" xlink:href=\"#ArialMT-52\"/>\n      </g>\n     </g>\n    </g>\n    <g id=\"ytick_6\">\n     <g id=\"line2d_23\">\n      <path clip-path=\"url(#p6d4d2c94f3)\" d=\"M 33.660938 112.272519 \nL 480.060937 112.272519 \n\" style=\"fill:none;stroke:#ffffff;stroke-linecap:round;\"/>\n     </g>\n     <g id=\"line2d_24\"/>\n     <g id=\"text_12\">\n      <!-- 0.05 -->\n      <g style=\"fill:#262626;\" transform=\"translate(7.2 115.851425)scale(0.1 -0.1)\">\n       <use xlink:href=\"#ArialMT-48\"/>\n       <use x=\"55.615234\" xlink:href=\"#ArialMT-46\"/>\n       <use x=\"83.398438\" xlink:href=\"#ArialMT-48\"/>\n       <use x=\"139.013672\" xlink:href=\"#ArialMT-53\"/>\n      </g>\n     </g>\n    </g>\n    <g id=\"ytick_7\">\n     <g id=\"line2d_25\">\n      <path clip-path=\"url(#p6d4d2c94f3)\" d=\"M 33.660938 76.061377 \nL 480.060937 76.061377 \n\" style=\"fill:none;stroke:#ffffff;stroke-linecap:round;\"/>\n     </g>\n     <g id=\"line2d_26\"/>\n     <g id=\"text_13\">\n      <!-- 0.06 -->\n      <g style=\"fill:#262626;\" transform=\"translate(7.2 79.640283)scale(0.1 -0.1)\">\n       <use xlink:href=\"#ArialMT-48\"/>\n       <use x=\"55.615234\" xlink:href=\"#ArialMT-46\"/>\n       <use x=\"83.398438\" xlink:href=\"#ArialMT-48\"/>\n       <use x=\"139.013672\" xlink:href=\"#ArialMT-54\"/>\n      </g>\n     </g>\n    </g>\n    <g id=\"ytick_8\">\n     <g id=\"line2d_27\">\n      <path clip-path=\"url(#p6d4d2c94f3)\" d=\"M 33.660938 39.850235 \nL 480.060937 39.850235 \n\" style=\"fill:none;stroke:#ffffff;stroke-linecap:round;\"/>\n     </g>\n     <g id=\"line2d_28\"/>\n     <g id=\"text_14\">\n      <!-- 0.07 -->\n      <g style=\"fill:#262626;\" transform=\"translate(7.2 43.429141)scale(0.1 -0.1)\">\n       <use xlink:href=\"#ArialMT-48\"/>\n       <use x=\"55.615234\" xlink:href=\"#ArialMT-46\"/>\n       <use x=\"83.398438\" xlink:href=\"#ArialMT-48\"/>\n       <use x=\"139.013672\" xlink:href=\"#ArialMT-55\"/>\n      </g>\n     </g>\n    </g>\n   </g>\n   <g id=\"PathCollection_1\">\n    <defs>\n     <path d=\"M 0 3.5 \nC 0.928211 3.5 1.81853 3.131218 2.474874 2.474874 \nC 3.131218 1.81853 3.5 0.928211 3.5 0 \nC 3.5 -0.928211 3.131218 -1.81853 2.474874 -2.474874 \nC 1.81853 -3.131218 0.928211 -3.5 0 -3.5 \nC -0.928211 -3.5 -1.81853 -3.131218 -2.474874 -2.474874 \nC -3.131218 -1.81853 -3.5 -0.928211 -3.5 0 \nC -3.5 0.928211 -3.131218 1.81853 -2.474874 2.474874 \nC -1.81853 3.131218 -0.928211 3.5 0 3.5 \nz\n\" id=\"md93a8536c8\" style=\"stroke:#4c72b0;stroke-width:0.3;\"/>\n    </defs>\n    <g clip-path=\"url(#p6d4d2c94f3)\">\n     <use style=\"fill:#4c72b0;stroke:#4c72b0;stroke-width:0.3;\" x=\"91.481919\" xlink:href=\"#md93a8536c8\" y=\"292.59\"/>\n     <use style=\"fill:#4c72b0;stroke:#4c72b0;stroke-width:0.3;\" x=\"85.976546\" xlink:href=\"#md93a8536c8\" y=\"287.043061\"/>\n     <use style=\"fill:#4c72b0;stroke:#4c72b0;stroke-width:0.3;\" x=\"80.89113\" xlink:href=\"#md93a8536c8\" y=\"281.496122\"/>\n     <use style=\"fill:#4c72b0;stroke:#4c72b0;stroke-width:0.3;\" x=\"76.230683\" xlink:href=\"#md93a8536c8\" y=\"275.949211\"/>\n     <use style=\"fill:#4c72b0;stroke:#4c72b0;stroke-width:0.3;\" x=\"72.000048\" xlink:href=\"#md93a8536c8\" y=\"270.402379\"/>\n     <use style=\"fill:#4c72b0;stroke:#4c72b0;stroke-width:0.3;\" x=\"68.203826\" xlink:href=\"#md93a8536c8\" y=\"264.855634\"/>\n     <use style=\"fill:#4c72b0;stroke:#4c72b0;stroke-width:0.3;\" x=\"64.846408\" xlink:href=\"#md93a8536c8\" y=\"259.308982\"/>\n     <use style=\"fill:#4c72b0;stroke:#4c72b0;stroke-width:0.3;\" x=\"61.931969\" xlink:href=\"#md93a8536c8\" y=\"253.762427\"/>\n     <use style=\"fill:#4c72b0;stroke:#4c72b0;stroke-width:0.3;\" x=\"59.463855\" xlink:href=\"#md93a8536c8\" y=\"248.21449\"/>\n     <use style=\"fill:#4c72b0;stroke:#4c72b0;stroke-width:0.3;\" x=\"57.446905\" xlink:href=\"#md93a8536c8\" y=\"242.667551\"/>\n     <use style=\"fill:#4c72b0;stroke:#4c72b0;stroke-width:0.3;\" x=\"55.884124\" xlink:href=\"#md93a8536c8\" y=\"237.120613\"/>\n     <use style=\"fill:#4c72b0;stroke:#4c72b0;stroke-width:0.3;\" x=\"54.778747\" xlink:href=\"#md93a8536c8\" y=\"231.573675\"/>\n     <use style=\"fill:#4c72b0;stroke:#4c72b0;stroke-width:0.3;\" x=\"54.13379\" xlink:href=\"#md93a8536c8\" y=\"226.027247\"/>\n     <use style=\"fill:#4c72b0;stroke:#4c72b0;stroke-width:0.3;\" x=\"53.951847\" xlink:href=\"#md93a8536c8\" y=\"220.479796\"/>\n     <use style=\"fill:#4c72b0;stroke:#4c72b0;stroke-width:0.3;\" x=\"54.23547\" xlink:href=\"#md93a8536c8\" y=\"214.932857\"/>\n     <use style=\"fill:#4c72b0;stroke:#4c72b0;stroke-width:0.3;\" x=\"54.986781\" xlink:href=\"#md93a8536c8\" y=\"209.385918\"/>\n     <use style=\"fill:#4c72b0;stroke:#4c72b0;stroke-width:0.3;\" x=\"56.207659\" xlink:href=\"#md93a8536c8\" y=\"203.83898\"/>\n     <use style=\"fill:#4c72b0;stroke:#4c72b0;stroke-width:0.3;\" x=\"57.899699\" xlink:href=\"#md93a8536c8\" y=\"198.292041\"/>\n     <use style=\"fill:#4c72b0;stroke:#4c72b0;stroke-width:0.3;\" x=\"60.064038\" xlink:href=\"#md93a8536c8\" y=\"192.745127\"/>\n     <use style=\"fill:#4c72b0;stroke:#4c72b0;stroke-width:0.3;\" x=\"62.666481\" xlink:href=\"#md93a8536c8\" y=\"187.19821\"/>\n     <use style=\"fill:#4c72b0;stroke:#4c72b0;stroke-width:0.3;\" x=\"65.680645\" xlink:href=\"#md93a8536c8\" y=\"181.651308\"/>\n     <use style=\"fill:#4c72b0;stroke:#4c72b0;stroke-width:0.3;\" x=\"110.700915\" xlink:href=\"#md93a8536c8\" y=\"176.104744\"/>\n     <use style=\"fill:#4c72b0;stroke:#4c72b0;stroke-width:0.3;\" x=\"72.952658\" xlink:href=\"#md93a8536c8\" y=\"170.558601\"/>\n     <use style=\"fill:#4c72b0;stroke:#4c72b0;stroke-width:0.3;\" x=\"77.194588\" xlink:href=\"#md93a8536c8\" y=\"165.010541\"/>\n     <use style=\"fill:#4c72b0;stroke:#4c72b0;stroke-width:0.3;\" x=\"81.853225\" xlink:href=\"#md93a8536c8\" y=\"159.463609\"/>\n     <use style=\"fill:#4c72b0;stroke:#4c72b0;stroke-width:0.3;\" x=\"86.920534\" xlink:href=\"#md93a8536c8\" y=\"153.916645\"/>\n     <use style=\"fill:#4c72b0;stroke:#4c72b0;stroke-width:0.3;\" x=\"92.399228\" xlink:href=\"#md93a8536c8\" y=\"148.37099\"/>\n     <use style=\"fill:#4c72b0;stroke:#4c72b0;stroke-width:0.3;\" x=\"98.278641\" xlink:href=\"#md93a8536c8\" y=\"142.822704\"/>\n     <use style=\"fill:#4c72b0;stroke:#4c72b0;stroke-width:0.3;\" x=\"104.562307\" xlink:href=\"#md93a8536c8\" y=\"137.277805\"/>\n     <use style=\"fill:#4c72b0;stroke:#4c72b0;stroke-width:0.3;\" x=\"111.255635\" xlink:href=\"#md93a8536c8\" y=\"131.728794\"/>\n     <use style=\"fill:#4c72b0;stroke:#4c72b0;stroke-width:0.3;\" x=\"118.348865\" xlink:href=\"#md93a8536c8\" y=\"126.181901\"/>\n     <use style=\"fill:#4c72b0;stroke:#4c72b0;stroke-width:0.3;\" x=\"125.841743\" xlink:href=\"#md93a8536c8\" y=\"120.635046\"/>\n     <use style=\"fill:#4c72b0;stroke:#4c72b0;stroke-width:0.3;\" x=\"133.732054\" xlink:href=\"#md93a8536c8\" y=\"115.088218\"/>\n     <use style=\"fill:#4c72b0;stroke:#4c72b0;stroke-width:0.3;\" x=\"142.015984\" xlink:href=\"#md93a8536c8\" y=\"109.542377\"/>\n     <use style=\"fill:#4c72b0;stroke:#4c72b0;stroke-width:0.3;\" x=\"150.705532\" xlink:href=\"#md93a8536c8\" y=\"103.99474\"/>\n     <use style=\"fill:#4c72b0;stroke:#4c72b0;stroke-width:0.3;\" x=\"159.764032\" xlink:href=\"#md93a8536c8\" y=\"98.447314\"/>\n     <use style=\"fill:#4c72b0;stroke:#4c72b0;stroke-width:0.3;\" x=\"169.219309\" xlink:href=\"#md93a8536c8\" y=\"92.900311\"/>\n     <use style=\"fill:#4c72b0;stroke:#4c72b0;stroke-width:0.3;\" x=\"179.058647\" xlink:href=\"#md93a8536c8\" y=\"87.35337\"/>\n     <use style=\"fill:#4c72b0;stroke:#4c72b0;stroke-width:0.3;\" x=\"189.279088\" xlink:href=\"#md93a8536c8\" y=\"81.806436\"/>\n     <use style=\"fill:#4c72b0;stroke:#4c72b0;stroke-width:0.3;\" x=\"199.877484\" xlink:href=\"#md93a8536c8\" y=\"76.259498\"/>\n     <use style=\"fill:#4c72b0;stroke:#4c72b0;stroke-width:0.3;\" x=\"210.850575\" xlink:href=\"#md93a8536c8\" y=\"70.712552\"/>\n     <use style=\"fill:#4c72b0;stroke:#4c72b0;stroke-width:0.3;\" x=\"222.195005\" xlink:href=\"#md93a8536c8\" y=\"65.165599\"/>\n     <use style=\"fill:#4c72b0;stroke:#4c72b0;stroke-width:0.3;\" x=\"233.907306\" xlink:href=\"#md93a8536c8\" y=\"59.618647\"/>\n     <use style=\"fill:#4c72b0;stroke:#4c72b0;stroke-width:0.3;\" x=\"245.983894\" xlink:href=\"#md93a8536c8\" y=\"54.071727\"/>\n     <use style=\"fill:#4c72b0;stroke:#4c72b0;stroke-width:0.3;\" x=\"258.421024\" xlink:href=\"#md93a8536c8\" y=\"48.524907\"/>\n     <use style=\"fill:#4c72b0;stroke:#4c72b0;stroke-width:0.3;\" x=\"271.21475\" xlink:href=\"#md93a8536c8\" y=\"42.978317\"/>\n     <use style=\"fill:#4c72b0;stroke:#4c72b0;stroke-width:0.3;\" x=\"284.36085\" xlink:href=\"#md93a8536c8\" y=\"37.432181\"/>\n     <use style=\"fill:#4c72b0;stroke:#4c72b0;stroke-width:0.3;\" x=\"304.857541\" xlink:href=\"#md93a8536c8\" y=\"31.883878\"/>\n     <use style=\"fill:#4c72b0;stroke:#4c72b0;stroke-width:0.3;\" x=\"354.16431\" xlink:href=\"#md93a8536c8\" y=\"26.337415\"/>\n     <use style=\"fill:#4c72b0;stroke:#4c72b0;stroke-width:0.3;\" x=\"459.770028\" xlink:href=\"#md93a8536c8\" y=\"20.79\"/>\n    </g>\n   </g>\n   <g id=\"patch_3\">\n    <path d=\"M 33.660938 306.18 \nL 33.660938 7.2 \n\" style=\"fill:none;\"/>\n   </g>\n   <g id=\"patch_4\">\n    <path d=\"M 480.060937 306.18 \nL 480.060937 7.2 \n\" style=\"fill:none;\"/>\n   </g>\n   <g id=\"patch_5\">\n    <path d=\"M 33.660938 306.18 \nL 480.060938 306.18 \n\" style=\"fill:none;\"/>\n   </g>\n   <g id=\"patch_6\">\n    <path d=\"M 33.660938 7.2 \nL 480.060938 7.2 \n\" style=\"fill:none;\"/>\n   </g>\n  </g>\n </g>\n <defs>\n  <clipPath id=\"p6d4d2c94f3\">\n   <rect height=\"298.98\" width=\"446.4\" x=\"33.660938\" y=\"7.2\"/>\n  </clipPath>\n </defs>\n</svg>\n",
      "image/png": "[encoded data removed]"
     },
     "metadata": {}
    }
   ],
   "source": [
    "plt.plot(z[0]['Volatility'], z[0]['Returns'])"
   ]
  },
  {
   "cell_type": "code",
   "execution_count": 169,
   "metadata": {},
   "outputs": [
    {
     "output_type": "execute_result",
     "data": {
      "text/plain": [
       "(     Returns  Volatility\n",
       " 0   0.000204    0.145138\n",
       " 1   0.001735    0.144759\n",
       " 2   0.003268    0.144410\n",
       " 3   0.004799    0.144090\n",
       " 4   0.006330    0.143799\n",
       " 5   0.007863    0.143538\n",
       " 6   0.009394    0.143308\n",
       " 7   0.010927    0.143107\n",
       " 8   0.012459    0.142938\n",
       " 9   0.013990    0.142799\n",
       " 10  0.015522    0.142692\n",
       " 11  0.017054    0.142616\n",
       " 12  0.018586    0.142571\n",
       " 13  0.020118    0.142565\n",
       " 14  0.021650    0.142578\n",
       " 15  0.023181    0.142630\n",
       " 16  0.024713    0.142714\n",
       " 17  0.026245    0.142830\n",
       " 18  0.027776    0.142986\n",
       " 19  0.029309    0.143158\n",
       " 20  0.030840    0.143366\n",
       " 21  0.032372    0.143600\n",
       " 22  0.033904    0.143864\n",
       " 23  0.035436    0.144156\n",
       " 24  0.036968    0.144476\n",
       " 25  0.038500    0.144860\n",
       " 26  0.040031    0.145200\n",
       " 27  0.041563    0.145604\n",
       " 28  0.043095    0.146036\n",
       " 29  0.044627    0.146496\n",
       " 30  0.046159    0.146984\n",
       " 31  0.047690    0.147498\n",
       " 32  0.049222    0.148041\n",
       " 33  0.050754    0.148610\n",
       " 34  0.052286    0.149206\n",
       " 35  0.053818    0.149829\n",
       " 36  0.055350    0.150479\n",
       " 37  0.056881    0.151155\n",
       " 38  0.058413    0.151857\n",
       " 39  0.059945    0.152585\n",
       " 40  0.061477    0.153339\n",
       " 41  0.063009    0.154119\n",
       " 42  0.064541    0.154924\n",
       " 43  0.066073    0.155753\n",
       " 44  0.067604    0.156608\n",
       " 45  0.069136    0.157487\n",
       " 46  0.070668    0.158390\n",
       " 47  0.072200    0.159798\n",
       " 48  0.073732    0.163187\n",
       " 49  0.075264    0.170442,\n",
       "                  ^FTSE         ^GSPC         ^NSEI\n",
       " 0.000204  1.000000e+00  8.594776e-08  1.073551e-09\n",
       " 0.001735  9.783739e-01  2.162609e-02  0.000000e+00\n",
       " 0.003268  9.567038e-01  4.329623e-02  1.200415e-17\n",
       " 0.004799  9.350064e-01  6.499359e-02  0.000000e+00\n",
       " 0.006330  9.132891e-01  8.671087e-02  0.000000e+00\n",
       " 0.007863  8.915115e-01  1.084885e-01  0.000000e+00\n",
       " 0.009394  8.697220e-01  1.302780e-01  0.000000e+00\n",
       " 0.010927  8.478809e-01  1.521191e-01  8.565197e-18\n",
       " 0.012459  8.260136e-01  1.739864e-01  0.000000e+00\n",
       " 0.013990  8.041114e-01  1.958886e-01  0.000000e+00\n",
       " 0.015522  7.821738e-01  2.178262e-01  3.835365e-18\n",
       " 0.017054  7.602079e-01  2.397921e-01  2.602085e-18\n",
       " 0.018586  7.381911e-01  2.618089e-01  0.000000e+00\n",
       " 0.020118  7.164976e-01  2.822342e-01  1.268193e-03\n",
       " 0.021650  6.940625e-01  3.059375e-01  4.035265e-18\n",
       " 0.023181  6.719425e-01  3.280575e-01  4.675622e-18\n",
       " 0.024713  6.497848e-01  3.502152e-01  3.069647e-18\n",
       " 0.026245  6.275892e-01  3.724108e-01  1.219727e-18\n",
       " 0.027776  6.077094e-01  3.841109e-01  8.179642e-03\n",
       " 0.029309  5.843898e-01  4.110881e-01  4.522123e-03\n",
       " 0.030840  5.644181e-01  4.229771e-01  1.260476e-02\n",
       " 0.032372  5.422561e-01  4.445655e-01  1.317846e-02\n",
       " 0.033904  5.210684e-01  4.616845e-01  1.724714e-02\n",
       " 0.035436  4.999296e-01  4.784769e-01  2.159353e-02\n",
       " 0.036968  4.787113e-01  4.955160e-01  2.577274e-02\n",
       " 0.038500  4.524550e-01  5.347148e-01  1.283021e-02\n",
       " 0.040031  4.362303e-01  5.294653e-01  3.430439e-02\n",
       " 0.041563  4.153033e-01  5.448984e-01  3.979829e-02\n",
       " 0.043095  3.936662e-01  5.633287e-01  4.300516e-02\n",
       " 0.044627  3.723347e-01  5.803107e-01  4.735463e-02\n",
       " 0.046159  3.509457e-01  5.974357e-01  5.161863e-02\n",
       " 0.047690  3.295472e-01  6.145098e-01  5.594291e-02\n",
       " 0.049222  3.080671e-01  6.317837e-01  6.014919e-02\n",
       " 0.050754  2.865494e-01  6.491314e-01  6.431916e-02\n",
       " 0.052286  2.651323e-01  6.659058e-01  6.896192e-02\n",
       " 0.053818  2.435810e-01  6.831708e-01  7.324813e-02\n",
       " 0.055350  2.219892e-01  7.004797e-01  7.753108e-02\n",
       " 0.056881  2.011543e-01  7.143201e-01  8.452559e-02\n",
       " 0.058413  1.787889e-01  7.348007e-01  8.641037e-02\n",
       " 0.059945  1.572224e-01  7.516249e-01  9.115276e-02\n",
       " 0.061477  1.353996e-01  7.694672e-01  9.513320e-02\n",
       " 0.063009  1.137762e-01  7.863105e-01  9.991328e-02\n",
       " 0.064541  9.236515e-02  8.020392e-01  1.055957e-01\n",
       " 0.066073  7.007579e-02  8.215682e-01  1.083560e-01\n",
       " 0.067604  4.851557e-02  8.377174e-01  1.137670e-01\n",
       " 0.069136  2.626963e-02  8.567897e-01  1.169407e-01\n",
       " 0.070668  4.415389e-03  8.739768e-01  1.216078e-01\n",
       " 0.072200  0.000000e+00  8.090790e-01  1.909210e-01\n",
       " 0.073732  0.000000e+00  7.080625e-01  2.919375e-01\n",
       " 0.075264  5.625855e-18  5.734464e-01  4.265536e-01)"
      ]
     },
     "metadata": {},
     "execution_count": 169
    }
   ],
   "source": [
    "z"
   ]
  },
  {
   "cell_type": "code",
   "execution_count": null,
   "metadata": {},
   "outputs": [],
   "source": []
  }
 ]
}