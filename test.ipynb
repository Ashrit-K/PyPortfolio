{
 "cells": [
  {
   "cell_type": "code",
   "execution_count": 17,
   "metadata": {
    "ExecuteTime": {
     "end_time": "2020-12-03T15:54:24.474289Z",
     "start_time": "2020-12-03T15:54:24.422152Z"
    }
   },
   "outputs": [
    {
     "name": "stdout",
     "output_type": "stream",
     "text": [
      "The autoreload extension is already loaded. To reload it, use:\n",
      "  %reload_ext autoreload\n"
     ]
    }
   ],
   "source": [
    "import pandas as pd\n",
    "import pandas_datareader.data as pdr\n",
    "import yfinance as yf\n",
    "import datetime as dt\n",
    "from CoreFunctions import *\n",
    "from RiskReturn import *\n",
    "from PyPortfolio import *\n",
    "yf.pdr_override()\n",
    "%load_ext autoreload\n",
    "%autoreload 2"
   ]
  },
  {
   "cell_type": "code",
   "execution_count": 18,
   "metadata": {
    "ExecuteTime": {
     "end_time": "2020-12-03T15:54:25.570192Z",
     "start_time": "2020-12-03T15:54:24.480389Z"
    }
   },
   "outputs": [
    {
     "name": "stdout",
     "output_type": "stream",
     "text": [
      "[*********************100%***********************]  4 of 4 completed\n"
     ]
    }
   ],
   "source": [
    "\n",
    "start = dt.datetime(2005,1,2)\n",
    "end = dt.datetime.today()\n",
    "prices_daily = pdr.get_data_yahoo(['^GSPC','AAPL', 'IBM', '^NSEI'], start=start, end=end)\n",
    "prices_monthly = prices_daily['Adj Close'].resample('M').last()\n",
    "returns_monthly = prices_monthly.pct_change().dropna()\n"
   ]
  },
  {
   "cell_type": "code",
   "execution_count": 19,
   "metadata": {
    "ExecuteTime": {
     "end_time": "2020-12-03T15:54:25.618064Z",
     "start_time": "2020-12-03T15:54:25.572387Z"
    }
   },
   "outputs": [],
   "source": [
    "riskreturn_object = RiskReturn(return_series=returns_monthly, periodicity='M')"
   ]
  },
  {
   "cell_type": "code",
   "execution_count": 20,
   "metadata": {
    "ExecuteTime": {
     "end_time": "2020-12-03T15:54:28.019237Z",
     "start_time": "2020-12-03T15:54:25.620830Z"
    }
   },
   "outputs": [],
   "source": [
    "%timeit\n",
    "portfolio_object = PyPortfolio(return_series=returns_monthly, periodicity='M')\n"
   ]
  },
  {
   "cell_type": "code",
   "execution_count": 21,
   "metadata": {
    "ExecuteTime": {
     "end_time": "2020-12-03T15:54:28.214241Z",
     "start_time": "2020-12-03T15:54:28.020821Z"
    }
   },
   "outputs": [
    {
     "data": {
      "text/plain": [
       "[<matplotlib.lines.Line2D at 0x7ff90a2bdd90>]"
      ]
     },
     "execution_count": 21,
     "metadata": {},
     "output_type": "execute_result"
    },
    {
     "data": {
      "image/png": "[encoded data removed]",
      "text/plain": [
       "<Figure size 576x396 with 1 Axes>"
      ]
     },
     "metadata": {},
     "output_type": "display_data"
    }
   ],
   "source": [
    "plt.plot(portfolio_object.MeanVarianceOpt[0]['Portfolio Volatility'],portfolio_object.MeanVarianceOpt[0]['Portfolio Return'])"
   ]
  },
  {
   "cell_type": "code",
   "execution_count": null,
   "metadata": {},
   "outputs": [],
   "source": []
  }
 ],
 "metadata": {
  "kernelspec": {
   "display_name": "Python 3",
   "language": "python",
   "name": "python3"
  },
  "language_info": {
   "codemirror_mode": {
    "name": "ipython",
    "version": 3
   },
   "file_extension": ".py",
   "mimetype": "text/x-python",
   "name": "python",
   "nbconvert_exporter": "python",
   "pygments_lexer": "ipython3",
   "version": "3.8.5"
  },
  "varInspector": {
   "cols": {
    "lenName": 16,
    "lenType": 16,
    "lenVar": 40
   },
   "kernels_config": {
    "python": {
     "delete_cmd_postfix": "",
     "delete_cmd_prefix": "del ",
     "library": "var_list.py",
     "varRefreshCmd": "print(var_dic_list())"
    },
    "r": {
     "delete_cmd_postfix": ") ",
     "delete_cmd_prefix": "rm(",
     "library": "var_list.r",
     "varRefreshCmd": "cat(var_dic_list()) "
    }
   },
   "types_to_exclude": [
    "module",
    "function",
    "builtin_function_or_method",
    "instance",
    "_Feature"
   ],
   "window_display": false
  }
 },
 "nbformat": 4,
 "nbformat_minor": 2
}
