{
 "cells": [
  {
   "cell_type": "code",
   "execution_count": 94,
   "metadata": {
    "ExecuteTime": {
     "end_time": "2020-12-03T15:54:24.474289Z",
     "start_time": "2020-12-03T15:54:24.422152Z"
    }
   },
   "outputs": [
    {
     "output_type": "stream",
     "name": "stdout",
     "text": [
      "The autoreload extension is already loaded. To reload it, use:\n  %reload_ext autoreload\n"
     ]
    }
   ],
   "source": [
    "import pandas as pd\n",
    "import pandas_datareader.data as pdr\n",
    "import yfinance as yf\n",
    "import datetime as dt\n",
    "from CoreFunctions import *\n",
    "from RiskReturn import *\n",
    "from PyPortfolio import *\n",
    "from tqdm.auto import tqdm\n",
    "yf.pdr_override()\n",
    "%load_ext autoreload\n",
    "%autoreload 2"
   ]
  },
  {
   "cell_type": "code",
   "execution_count": 95,
   "metadata": {
    "ExecuteTime": {
     "end_time": "2020-12-03T15:54:25.570192Z",
     "start_time": "2020-12-03T15:54:24.480389Z"
    }
   },
   "outputs": [
    {
     "output_type": "stream",
     "name": "stdout",
     "text": [
      "[*********************100%***********************]  3 of 3 completed\n"
     ]
    }
   ],
   "source": [
    "\n",
    "start = dt.datetime(2005,1,2)\n",
    "end = dt.datetime.today()\n",
    "prices_daily = pdr.get_data_yahoo(['^GSPC','^FTSE', '^NSEI'], start=start, end=end)\n",
    "prices_monthly = prices_daily['Adj Close'].resample('M').last()\n",
    "returns_monthly = prices_monthly.pct_change().dropna()\n"
   ]
  },
  {
   "cell_type": "code",
   "execution_count": 96,
   "metadata": {
    "ExecuteTime": {
     "end_time": "2020-12-03T15:54:25.618064Z",
     "start_time": "2020-12-03T15:54:25.572387Z"
    }
   },
   "outputs": [],
   "source": [
    "riskreturn_object = RiskReturn(return_series=returns_monthly, periodicity='M')"
   ]
  },
  {
   "cell_type": "code",
   "execution_count": 97,
   "metadata": {
    "ExecuteTime": {
     "end_time": "2020-12-03T15:54:28.019237Z",
     "start_time": "2020-12-03T15:54:25.620830Z"
    }
   },
   "outputs": [],
   "source": [
    "\n",
    "portfolio_object = PyPortfolio(return_series=returns_monthly, periodicity='M')\n"
   ]
  },
  {
   "cell_type": "code",
   "execution_count": 98,
   "metadata": {},
   "outputs": [],
   "source": [
    "a = global_minimum_variance(return_series=riskreturn_object.get_return_series(), periodicity='M')"
   ]
  },
  {
   "cell_type": "code",
   "execution_count": 99,
   "metadata": {},
   "outputs": [
    {
     "output_type": "execute_result",
     "data": {
      "text/plain": [
       "^FTSE    0.785866\n",
       "^GSPC    0.729454\n",
       "^NSEI    0.909762\n",
       "dtype: float64"
      ]
     },
     "metadata": {},
     "execution_count": 99
    }
   ],
   "source": [
    "semi_deviation_ratio(return_series=riskreturn_object.get_return_series(), periodicity='M')"
   ]
  },
  {
   "cell_type": "code",
   "execution_count": 100,
   "metadata": {},
   "outputs": [
    {
     "output_type": "execute_result",
     "data": {
      "text/plain": [
       "(True, array([0.00000000e+00, 2.77555756e-17, 1.00000000e+00]))"
      ]
     },
     "metadata": {},
     "execution_count": 100
    }
   ],
   "source": [
    "maximum_semideviation_ratio(return_series=riskreturn_object.get_return_series(), periodicity='M')"
   ]
  },
  {
   "cell_type": "code",
   "execution_count": 109,
   "metadata": {},
   "outputs": [
    {
     "output_type": "stream",
     "name": "stderr",
     "text": [
      "  0%|          | 0/5000 [00:00<?, ?it/s]\n"
     ]
    },
    {
     "output_type": "error",
     "ename": "NameError",
     "evalue": "name 'maximum_sharpe_ratio' is not defined",
     "traceback": [
      "\u001b[0;31m---------------------------------------------------------------------------\u001b[0m",
      "\u001b[0;31mNameError\u001b[0m                                 Traceback (most recent call last)",
      "\u001b[0;32m<ipython-input-109-0899e2231c4d>\u001b[0m in \u001b[0;36m<module>\u001b[0;34m\u001b[0m\n\u001b[1;32m      4\u001b[0m \u001b[0;34m\u001b[0m\u001b[0m\n\u001b[1;32m      5\u001b[0m     \u001b[0mrets\u001b[0m \u001b[0;34m=\u001b[0m \u001b[0mreturns_monthly\u001b[0m\u001b[0;34m.\u001b[0m\u001b[0msample\u001b[0m\u001b[0;34m(\u001b[0m\u001b[0;36m36\u001b[0m\u001b[0;34m,\u001b[0m \u001b[0mreplace\u001b[0m\u001b[0;34m=\u001b[0m\u001b[0;32mTrue\u001b[0m\u001b[0;34m)\u001b[0m\u001b[0;34m\u001b[0m\u001b[0;34m\u001b[0m\u001b[0m\n\u001b[0;32m----> 6\u001b[0;31m     \u001b[0mgmv\u001b[0m\u001b[0;34m=\u001b[0m \u001b[0mmaximum_sharpe_ratio\u001b[0m\u001b[0;34m(\u001b[0m\u001b[0mrets\u001b[0m\u001b[0;34m,\u001b[0m \u001b[0;34m'M'\u001b[0m\u001b[0;34m)\u001b[0m\u001b[0;34m\u001b[0m\u001b[0;34m\u001b[0m\u001b[0m\n\u001b[0m\u001b[1;32m      7\u001b[0m     \u001b[0mgmv_weights\u001b[0m\u001b[0;34m.\u001b[0m\u001b[0mappend\u001b[0m\u001b[0;34m(\u001b[0m\u001b[0mgmv\u001b[0m\u001b[0;34m[\u001b[0m\u001b[0;36m1\u001b[0m\u001b[0;34m]\u001b[0m\u001b[0;34m)\u001b[0m\u001b[0;34m\u001b[0m\u001b[0;34m\u001b[0m\u001b[0m\n",
      "\u001b[0;31mNameError\u001b[0m: name 'maximum_sharpe_ratio' is not defined"
     ]
    }
   ],
   "source": [
    "gmv_weights = []\n",
    "\n",
    "for resampled_returns in tqdm(range(5000)):\n",
    "\n",
    "    rets = returns_monthly.sample(36, replace=True)\n",
    "    gmv= maximum_sharpe_weights(rets, 'M')\n",
    "    gmv_weights.append(gmv[1])\n"
   ]
  },
  {
   "cell_type": "code",
   "execution_count": 103,
   "metadata": {},
   "outputs": [
    {
     "output_type": "stream",
     "text": [
      "\u001b[0;31mSignature:\u001b[0m\n",
      "\u001b[0mdf\u001b[0m\u001b[0;34m.\u001b[0m\u001b[0mhist\u001b[0m\u001b[0;34m(\u001b[0m\u001b[0;34m\u001b[0m\n",
      "\u001b[0;34m\u001b[0m    \u001b[0mcolumn\u001b[0m\u001b[0;34m=\u001b[0m\u001b[0;32mNone\u001b[0m\u001b[0;34m,\u001b[0m\u001b[0;34m\u001b[0m\n",
      "\u001b[0;34m\u001b[0m    \u001b[0mby\u001b[0m\u001b[0;34m=\u001b[0m\u001b[0;32mNone\u001b[0m\u001b[0;34m,\u001b[0m\u001b[0;34m\u001b[0m\n",
      "\u001b[0;34m\u001b[0m    \u001b[0mgrid\u001b[0m\u001b[0;34m=\u001b[0m\u001b[0;32mTrue\u001b[0m\u001b[0;34m,\u001b[0m\u001b[0;34m\u001b[0m\n",
      "\u001b[0;34m\u001b[0m    \u001b[0mxlabelsize\u001b[0m\u001b[0;34m=\u001b[0m\u001b[0;32mNone\u001b[0m\u001b[0;34m,\u001b[0m\u001b[0;34m\u001b[0m\n",
      "\u001b[0;34m\u001b[0m    \u001b[0mxrot\u001b[0m\u001b[0;34m=\u001b[0m\u001b[0;32mNone\u001b[0m\u001b[0;34m,\u001b[0m\u001b[0;34m\u001b[0m\n",
      "\u001b[0;34m\u001b[0m    \u001b[0mylabelsize\u001b[0m\u001b[0;34m=\u001b[0m\u001b[0;32mNone\u001b[0m\u001b[0;34m,\u001b[0m\u001b[0;34m\u001b[0m\n",
      "\u001b[0;34m\u001b[0m    \u001b[0myrot\u001b[0m\u001b[0;34m=\u001b[0m\u001b[0;32mNone\u001b[0m\u001b[0;34m,\u001b[0m\u001b[0;34m\u001b[0m\n",
      "\u001b[0;34m\u001b[0m    \u001b[0max\u001b[0m\u001b[0;34m=\u001b[0m\u001b[0;32mNone\u001b[0m\u001b[0;34m,\u001b[0m\u001b[0;34m\u001b[0m\n",
      "\u001b[0;34m\u001b[0m    \u001b[0msharex\u001b[0m\u001b[0;34m=\u001b[0m\u001b[0;32mFalse\u001b[0m\u001b[0;34m,\u001b[0m\u001b[0;34m\u001b[0m\n",
      "\u001b[0;34m\u001b[0m    \u001b[0msharey\u001b[0m\u001b[0;34m=\u001b[0m\u001b[0;32mFalse\u001b[0m\u001b[0;34m,\u001b[0m\u001b[0;34m\u001b[0m\n",
      "\u001b[0;34m\u001b[0m    \u001b[0mfigsize\u001b[0m\u001b[0;34m=\u001b[0m\u001b[0;32mNone\u001b[0m\u001b[0;34m,\u001b[0m\u001b[0;34m\u001b[0m\n",
      "\u001b[0;34m\u001b[0m    \u001b[0mlayout\u001b[0m\u001b[0;34m=\u001b[0m\u001b[0;32mNone\u001b[0m\u001b[0;34m,\u001b[0m\u001b[0;34m\u001b[0m\n",
      "\u001b[0;34m\u001b[0m    \u001b[0mbins\u001b[0m\u001b[0;34m=\u001b[0m\u001b[0;36m10\u001b[0m\u001b[0;34m,\u001b[0m\u001b[0;34m\u001b[0m\n",
      "\u001b[0;34m\u001b[0m    \u001b[0mbackend\u001b[0m\u001b[0;34m=\u001b[0m\u001b[0;32mNone\u001b[0m\u001b[0;34m,\u001b[0m\u001b[0;34m\u001b[0m\n",
      "\u001b[0;34m\u001b[0m    \u001b[0;34m**\u001b[0m\u001b[0mkwargs\u001b[0m\u001b[0;34m,\u001b[0m\u001b[0;34m\u001b[0m\n",
      "\u001b[0;34m\u001b[0m\u001b[0;34m)\u001b[0m\u001b[0;34m\u001b[0m\u001b[0;34m\u001b[0m\u001b[0m\n",
      "\u001b[0;31mDocstring:\u001b[0m\n",
      "Make a histogram of the DataFrame's.\n",
      "\n",
      "A `histogram`_ is a representation of the distribution of data.\n",
      "This function calls :meth:`matplotlib.pyplot.hist`, on each series in\n",
      "the DataFrame, resulting in one histogram per column.\n",
      "\n",
      ".. _histogram: https://en.wikipedia.org/wiki/Histogram\n",
      "\n",
      "Parameters\n",
      "----------\n",
      "data : DataFrame\n",
      "    The pandas object holding the data.\n",
      "column : str or sequence\n",
      "    If passed, will be used to limit data to a subset of columns.\n",
      "by : object, optional\n",
      "    If passed, then used to form histograms for separate groups.\n",
      "grid : bool, default True\n",
      "    Whether to show axis grid lines.\n",
      "xlabelsize : int, default None\n",
      "    If specified changes the x-axis label size.\n",
      "xrot : float, default None\n",
      "    Rotation of x axis labels. For example, a value of 90 displays the\n",
      "    x labels rotated 90 degrees clockwise.\n",
      "ylabelsize : int, default None\n",
      "    If specified changes the y-axis label size.\n",
      "yrot : float, default None\n",
      "    Rotation of y axis labels. For example, a value of 90 displays the\n",
      "    y labels rotated 90 degrees clockwise.\n",
      "ax : Matplotlib axes object, default None\n",
      "    The axes to plot the histogram on.\n",
      "sharex : bool, default True if ax is None else False\n",
      "    In case subplots=True, share x axis and set some x axis labels to\n",
      "    invisible; defaults to True if ax is None otherwise False if an ax\n",
      "    is passed in.\n",
      "    Note that passing in both an ax and sharex=True will alter all x axis\n",
      "    labels for all subplots in a figure.\n",
      "sharey : bool, default False\n",
      "    In case subplots=True, share y axis and set some y axis labels to\n",
      "    invisible.\n",
      "figsize : tuple\n",
      "    The size in inches of the figure to create. Uses the value in\n",
      "    `matplotlib.rcParams` by default.\n",
      "layout : tuple, optional\n",
      "    Tuple of (rows, columns) for the layout of the histograms.\n",
      "bins : int or sequence, default 10\n",
      "    Number of histogram bins to be used. If an integer is given, bins + 1\n",
      "    bin edges are calculated and returned. If bins is a sequence, gives\n",
      "    bin edges, including left edge of first bin and right edge of last\n",
      "    bin. In this case, bins is returned unmodified.\n",
      "backend : str, default None\n",
      "    Backend to use instead of the backend specified in the option\n",
      "    ``plotting.backend``. For instance, 'matplotlib'. Alternatively, to\n",
      "    specify the ``plotting.backend`` for the whole session, set\n",
      "    ``pd.options.plotting.backend``.\n",
      "\n",
      "    .. versionadded:: 1.0.0\n",
      "\n",
      "**kwargs\n",
      "    All other plotting keyword arguments to be passed to\n",
      "    :meth:`matplotlib.pyplot.hist`.\n",
      "\n",
      "Returns\n",
      "-------\n",
      "matplotlib.AxesSubplot or numpy.ndarray of them\n",
      "\n",
      "See Also\n",
      "--------\n",
      "matplotlib.pyplot.hist : Plot a histogram using matplotlib.\n",
      "\n",
      "Examples\n",
      "--------\n",
      "\n",
      ".. plot::\n",
      "    :context: close-figs\n",
      "\n",
      "    This example draws a histogram based on the length and width of\n",
      "    some animals, displayed in three bins\n",
      "\n",
      "    >>> df = pd.DataFrame({\n",
      "    ...     'length': [1.5, 0.5, 1.2, 0.9, 3],\n",
      "    ...     'width': [0.7, 0.2, 0.15, 0.2, 1.1]\n",
      "    ...     }, index=['pig', 'rabbit', 'duck', 'chicken', 'horse'])\n",
      "    >>> hist = df.hist(bins=3)\n",
      "\u001b[0;31mFile:\u001b[0m      /Library/Frameworks/Python.framework/Versions/3.8/lib/python3.8/site-packages/pandas/plotting/_core.py\n",
      "\u001b[0;31mType:\u001b[0m      method\n"
     ],
     "name": "stdout"
    }
   ],
   "source": [
    "df = pd.DataFrame(data=gmv_weights, columns = returns_monthly.columns)\n",
    "df.hist?"
   ]
  },
  {
   "cell_type": "code",
   "execution_count": 108,
   "metadata": {},
   "outputs": [
    {
     "output_type": "execute_result",
     "data": {
      "text/plain": [
       "array([[<AxesSubplot:title={'center':'^FTSE'}>,\n",
       "        <AxesSubplot:title={'center':'^GSPC'}>],\n",
       "       [<AxesSubplot:title={'center':'^NSEI'}>, <AxesSubplot:>]],\n",
       "      dtype=object)"
      ]
     },
     "metadata": {},
     "execution_count": 108
    },
    {
     "output_type": "display_data",
     "data": {
      "text/plain": "<Figure size 576x396 with 4 Axes>",
      "image/svg+xml": "<?xml version=\"1.0\" encoding=\"utf-8\" standalone=\"no\"?>\n<!DOCTYPE svg PUBLIC \"-//W3C//DTD SVG 1.1//EN\"\n  \"http://www.w3.org/Graphics/SVG/1.1/DTD/svg11.dtd\">\n<!-- Created with matplotlib (https://matplotlib.org/) -->\n<svg height=\"344.114688pt\" version=\"1.1\" viewBox=\"0 0 490.04375 344.114688\" width=\"490.04375pt\" xmlns=\"http://www.w3.org/2000/svg\" xmlns:xlink=\"http://www.w3.org/1999/xlink\">\n <metadata>\n  <rdf:RDF xmlns:cc=\"http://creativecommons.org/ns#\" xmlns:dc=\"http://purl.org/dc/elements/1.1/\" xmlns:rdf=\"http://www.w3.org/1999/02/22-rdf-syntax-ns#\">\n   <cc:Work>\n    <dc:type rdf:resource=\"http://purl.org/dc/dcmitype/StillImage\"/>\n    <dc:date>2020-12-07T13:23:09.726256</dc:date>\n    <dc:format>image/svg+xml</dc:format>\n    <dc:creator>\n     <cc:Agent>\n      <dc:title>Matplotlib v3.3.0, https://matplotlib.org/</dc:title>\n     </cc:Agent>\n    </dc:creator>\n   </cc:Work>\n  </rdf:RDF>\n </metadata>\n <defs>\n  <style type=\"text/css\">*{stroke-linecap:butt;stroke-linejoin:round;}</style>\n </defs>\n <g id=\"figure_1\">\n  <g id=\"patch_1\">\n   <path d=\"M 0 344.114688 \nL 490.04375 344.114688 \nL 490.04375 0 \nL 0 0 \nz\n\" style=\"fill:#ffffff;\"/>\n  </g>\n  <g id=\"axes_1\">\n   <g id=\"patch_2\">\n    <path d=\"M 36.44375 151.780679 \nL 230.530707 151.780679 \nL 230.530707 21.789375 \nL 36.44375 21.789375 \nz\n\" style=\"fill:#eaeaf2;\"/>\n   </g>\n   <g id=\"matplotlib.axis_1\">\n    <g id=\"xtick_1\">\n     <g id=\"line2d_1\">\n      <path clip-path=\"url(#p1575d1d399)\" d=\"M 45.265884 151.780679 \nL 45.265884 21.789375 \n\" style=\"fill:none;stroke:#ffffff;stroke-linecap:round;\"/>\n     </g>\n     <g id=\"line2d_2\"/>\n     <g id=\"text_1\">\n      <!-- 0.0 -->\n      <g style=\"fill:#262626;\" transform=\"translate(38.315884 165.938492)scale(0.1 -0.1)\">\n       <defs>\n        <path d=\"M 4.15625 35.296875 \nQ 4.15625 48 6.765625 55.734375 \nQ 9.375 63.484375 14.515625 67.671875 \nQ 19.671875 71.875 27.484375 71.875 \nQ 33.25 71.875 37.59375 69.546875 \nQ 41.9375 67.234375 44.765625 62.859375 \nQ 47.609375 58.5 49.21875 52.21875 \nQ 50.828125 45.953125 50.828125 35.296875 \nQ 50.828125 22.703125 48.234375 14.96875 \nQ 45.65625 7.234375 40.5 3 \nQ 35.359375 -1.21875 27.484375 -1.21875 \nQ 17.140625 -1.21875 11.234375 6.203125 \nQ 4.15625 15.140625 4.15625 35.296875 \nz\nM 13.1875 35.296875 \nQ 13.1875 17.671875 17.3125 11.828125 \nQ 21.4375 6 27.484375 6 \nQ 33.546875 6 37.671875 11.859375 \nQ 41.796875 17.71875 41.796875 35.296875 \nQ 41.796875 52.984375 37.671875 58.78125 \nQ 33.546875 64.59375 27.390625 64.59375 \nQ 21.34375 64.59375 17.71875 59.46875 \nQ 13.1875 52.9375 13.1875 35.296875 \nz\n\" id=\"ArialMT-48\"/>\n        <path d=\"M 9.078125 0 \nL 9.078125 10.015625 \nL 19.09375 10.015625 \nL 19.09375 0 \nz\n\" id=\"ArialMT-46\"/>\n       </defs>\n       <use xlink:href=\"#ArialMT-48\"/>\n       <use x=\"55.615234\" xlink:href=\"#ArialMT-46\"/>\n       <use x=\"83.398438\" xlink:href=\"#ArialMT-48\"/>\n      </g>\n     </g>\n    </g>\n    <g id=\"xtick_2\">\n     <g id=\"line2d_3\">\n      <path clip-path=\"url(#p1575d1d399)\" d=\"M 80.554422 151.780679 \nL 80.554422 21.789375 \n\" style=\"fill:none;stroke:#ffffff;stroke-linecap:round;\"/>\n     </g>\n     <g id=\"line2d_4\"/>\n     <g id=\"text_2\">\n      <!-- 0.2 -->\n      <g style=\"fill:#262626;\" transform=\"translate(73.604422 165.938492)scale(0.1 -0.1)\">\n       <defs>\n        <path d=\"M 50.34375 8.453125 \nL 50.34375 0 \nL 3.03125 0 \nQ 2.9375 3.171875 4.046875 6.109375 \nQ 5.859375 10.9375 9.828125 15.625 \nQ 13.8125 20.3125 21.34375 26.46875 \nQ 33.015625 36.03125 37.109375 41.625 \nQ 41.21875 47.21875 41.21875 52.203125 \nQ 41.21875 57.421875 37.46875 61 \nQ 33.734375 64.59375 27.734375 64.59375 \nQ 21.390625 64.59375 17.578125 60.78125 \nQ 13.765625 56.984375 13.71875 50.25 \nL 4.6875 51.171875 \nQ 5.609375 61.28125 11.65625 66.578125 \nQ 17.71875 71.875 27.9375 71.875 \nQ 38.234375 71.875 44.234375 66.15625 \nQ 50.25 60.453125 50.25 52 \nQ 50.25 47.703125 48.484375 43.546875 \nQ 46.734375 39.40625 42.65625 34.8125 \nQ 38.578125 30.21875 29.109375 22.21875 \nQ 21.1875 15.578125 18.9375 13.203125 \nQ 16.703125 10.84375 15.234375 8.453125 \nz\n\" id=\"ArialMT-50\"/>\n       </defs>\n       <use xlink:href=\"#ArialMT-48\"/>\n       <use x=\"55.615234\" xlink:href=\"#ArialMT-46\"/>\n       <use x=\"83.398438\" xlink:href=\"#ArialMT-50\"/>\n      </g>\n     </g>\n    </g>\n    <g id=\"xtick_3\">\n     <g id=\"line2d_5\">\n      <path clip-path=\"url(#p1575d1d399)\" d=\"M 115.842959 151.780679 \nL 115.842959 21.789375 \n\" style=\"fill:none;stroke:#ffffff;stroke-linecap:round;\"/>\n     </g>\n     <g id=\"line2d_6\"/>\n     <g id=\"text_3\">\n      <!-- 0.4 -->\n      <g style=\"fill:#262626;\" transform=\"translate(108.892959 165.938492)scale(0.1 -0.1)\">\n       <defs>\n        <path d=\"M 32.328125 0 \nL 32.328125 17.140625 \nL 1.265625 17.140625 \nL 1.265625 25.203125 \nL 33.9375 71.578125 \nL 41.109375 71.578125 \nL 41.109375 25.203125 \nL 50.78125 25.203125 \nL 50.78125 17.140625 \nL 41.109375 17.140625 \nL 41.109375 0 \nz\nM 32.328125 25.203125 \nL 32.328125 57.46875 \nL 9.90625 25.203125 \nz\n\" id=\"ArialMT-52\"/>\n       </defs>\n       <use xlink:href=\"#ArialMT-48\"/>\n       <use x=\"55.615234\" xlink:href=\"#ArialMT-46\"/>\n       <use x=\"83.398438\" xlink:href=\"#ArialMT-52\"/>\n      </g>\n     </g>\n    </g>\n    <g id=\"xtick_4\">\n     <g id=\"line2d_7\">\n      <path clip-path=\"url(#p1575d1d399)\" d=\"M 151.131497 151.780679 \nL 151.131497 21.789375 \n\" style=\"fill:none;stroke:#ffffff;stroke-linecap:round;\"/>\n     </g>\n     <g id=\"line2d_8\"/>\n     <g id=\"text_4\">\n      <!-- 0.6 -->\n      <g style=\"fill:#262626;\" transform=\"translate(144.181497 165.938492)scale(0.1 -0.1)\">\n       <defs>\n        <path d=\"M 49.75 54.046875 \nL 41.015625 53.375 \nQ 39.84375 58.546875 37.703125 60.890625 \nQ 34.125 64.65625 28.90625 64.65625 \nQ 24.703125 64.65625 21.53125 62.3125 \nQ 17.390625 59.28125 14.984375 53.46875 \nQ 12.59375 47.65625 12.5 36.921875 \nQ 15.671875 41.75 20.265625 44.09375 \nQ 24.859375 46.4375 29.890625 46.4375 \nQ 38.671875 46.4375 44.84375 39.96875 \nQ 51.03125 33.5 51.03125 23.25 \nQ 51.03125 16.5 48.125 10.71875 \nQ 45.21875 4.9375 40.140625 1.859375 \nQ 35.0625 -1.21875 28.609375 -1.21875 \nQ 17.625 -1.21875 10.6875 6.859375 \nQ 3.765625 14.9375 3.765625 33.5 \nQ 3.765625 54.25 11.421875 63.671875 \nQ 18.109375 71.875 29.4375 71.875 \nQ 37.890625 71.875 43.28125 67.140625 \nQ 48.6875 62.40625 49.75 54.046875 \nz\nM 13.875 23.1875 \nQ 13.875 18.65625 15.796875 14.5 \nQ 17.71875 10.359375 21.1875 8.171875 \nQ 24.65625 6 28.46875 6 \nQ 34.03125 6 38.03125 10.484375 \nQ 42.046875 14.984375 42.046875 22.703125 \nQ 42.046875 30.125 38.078125 34.390625 \nQ 34.125 38.671875 28.125 38.671875 \nQ 22.171875 38.671875 18.015625 34.390625 \nQ 13.875 30.125 13.875 23.1875 \nz\n\" id=\"ArialMT-54\"/>\n       </defs>\n       <use xlink:href=\"#ArialMT-48\"/>\n       <use x=\"55.615234\" xlink:href=\"#ArialMT-46\"/>\n       <use x=\"83.398438\" xlink:href=\"#ArialMT-54\"/>\n      </g>\n     </g>\n    </g>\n    <g id=\"xtick_5\">\n     <g id=\"line2d_9\">\n      <path clip-path=\"url(#p1575d1d399)\" d=\"M 186.420035 151.780679 \nL 186.420035 21.789375 \n\" style=\"fill:none;stroke:#ffffff;stroke-linecap:round;\"/>\n     </g>\n     <g id=\"line2d_10\"/>\n     <g id=\"text_5\">\n      <!-- 0.8 -->\n      <g style=\"fill:#262626;\" transform=\"translate(179.470035 165.938492)scale(0.1 -0.1)\">\n       <defs>\n        <path d=\"M 17.671875 38.8125 \nQ 12.203125 40.828125 9.5625 44.53125 \nQ 6.9375 48.25 6.9375 53.421875 \nQ 6.9375 61.234375 12.546875 66.546875 \nQ 18.171875 71.875 27.484375 71.875 \nQ 36.859375 71.875 42.578125 66.421875 \nQ 48.296875 60.984375 48.296875 53.171875 \nQ 48.296875 48.1875 45.671875 44.5 \nQ 43.0625 40.828125 37.75 38.8125 \nQ 44.34375 36.671875 47.78125 31.875 \nQ 51.21875 27.09375 51.21875 20.453125 \nQ 51.21875 11.28125 44.71875 5.03125 \nQ 38.234375 -1.21875 27.640625 -1.21875 \nQ 17.046875 -1.21875 10.546875 5.046875 \nQ 4.046875 11.328125 4.046875 20.703125 \nQ 4.046875 27.6875 7.59375 32.390625 \nQ 11.140625 37.109375 17.671875 38.8125 \nz\nM 15.921875 53.71875 \nQ 15.921875 48.640625 19.1875 45.40625 \nQ 22.46875 42.1875 27.6875 42.1875 \nQ 32.765625 42.1875 36.015625 45.375 \nQ 39.265625 48.578125 39.265625 53.21875 \nQ 39.265625 58.0625 35.90625 61.359375 \nQ 32.5625 64.65625 27.59375 64.65625 \nQ 22.5625 64.65625 19.234375 61.421875 \nQ 15.921875 58.203125 15.921875 53.71875 \nz\nM 13.09375 20.65625 \nQ 13.09375 16.890625 14.875 13.375 \nQ 16.65625 9.859375 20.171875 7.921875 \nQ 23.6875 6 27.734375 6 \nQ 34.03125 6 38.125 10.046875 \nQ 42.234375 14.109375 42.234375 20.359375 \nQ 42.234375 26.703125 38.015625 30.859375 \nQ 33.796875 35.015625 27.4375 35.015625 \nQ 21.234375 35.015625 17.15625 30.90625 \nQ 13.09375 26.8125 13.09375 20.65625 \nz\n\" id=\"ArialMT-56\"/>\n       </defs>\n       <use xlink:href=\"#ArialMT-48\"/>\n       <use x=\"55.615234\" xlink:href=\"#ArialMT-46\"/>\n       <use x=\"83.398438\" xlink:href=\"#ArialMT-56\"/>\n      </g>\n     </g>\n    </g>\n    <g id=\"xtick_6\">\n     <g id=\"line2d_11\">\n      <path clip-path=\"url(#p1575d1d399)\" d=\"M 221.708572 151.780679 \nL 221.708572 21.789375 \n\" style=\"fill:none;stroke:#ffffff;stroke-linecap:round;\"/>\n     </g>\n     <g id=\"line2d_12\"/>\n     <g id=\"text_6\">\n      <!-- 1.0 -->\n      <g style=\"fill:#262626;\" transform=\"translate(214.758572 165.938492)scale(0.1 -0.1)\">\n       <defs>\n        <path d=\"M 37.25 0 \nL 28.46875 0 \nL 28.46875 56 \nQ 25.296875 52.984375 20.140625 49.953125 \nQ 14.984375 46.921875 10.890625 45.40625 \nL 10.890625 53.90625 \nQ 18.265625 57.375 23.78125 62.296875 \nQ 29.296875 67.234375 31.59375 71.875 \nL 37.25 71.875 \nz\n\" id=\"ArialMT-49\"/>\n       </defs>\n       <use xlink:href=\"#ArialMT-49\"/>\n       <use x=\"55.615234\" xlink:href=\"#ArialMT-46\"/>\n       <use x=\"83.398438\" xlink:href=\"#ArialMT-48\"/>\n      </g>\n     </g>\n    </g>\n   </g>\n   <g id=\"matplotlib.axis_2\">\n    <g id=\"ytick_1\">\n     <g id=\"line2d_13\">\n      <path clip-path=\"url(#p1575d1d399)\" d=\"M 36.44375 151.780679 \nL 230.530707 151.780679 \n\" style=\"fill:none;stroke:#ffffff;stroke-linecap:round;\"/>\n     </g>\n     <g id=\"line2d_14\"/>\n     <g id=\"text_7\">\n      <!-- 0 -->\n      <g style=\"fill:#262626;\" transform=\"translate(23.882813 155.359586)scale(0.1 -0.1)\">\n       <use xlink:href=\"#ArialMT-48\"/>\n      </g>\n     </g>\n    </g>\n    <g id=\"ytick_2\">\n     <g id=\"line2d_15\">\n      <path clip-path=\"url(#p1575d1d399)\" d=\"M 36.44375 117.685047 \nL 230.530707 117.685047 \n\" style=\"fill:none;stroke:#ffffff;stroke-linecap:round;\"/>\n     </g>\n     <g id=\"line2d_16\"/>\n     <g id=\"text_8\">\n      <!-- 1000 -->\n      <g style=\"fill:#262626;\" transform=\"translate(7.2 121.263953)scale(0.1 -0.1)\">\n       <use xlink:href=\"#ArialMT-49\"/>\n       <use x=\"55.615234\" xlink:href=\"#ArialMT-48\"/>\n       <use x=\"111.230469\" xlink:href=\"#ArialMT-48\"/>\n       <use x=\"166.845703\" xlink:href=\"#ArialMT-48\"/>\n      </g>\n     </g>\n    </g>\n    <g id=\"ytick_3\">\n     <g id=\"line2d_17\">\n      <path clip-path=\"url(#p1575d1d399)\" d=\"M 36.44375 83.589414 \nL 230.530707 83.589414 \n\" style=\"fill:none;stroke:#ffffff;stroke-linecap:round;\"/>\n     </g>\n     <g id=\"line2d_18\"/>\n     <g id=\"text_9\">\n      <!-- 2000 -->\n      <g style=\"fill:#262626;\" transform=\"translate(7.2 87.16832)scale(0.1 -0.1)\">\n       <use xlink:href=\"#ArialMT-50\"/>\n       <use x=\"55.615234\" xlink:href=\"#ArialMT-48\"/>\n       <use x=\"111.230469\" xlink:href=\"#ArialMT-48\"/>\n       <use x=\"166.845703\" xlink:href=\"#ArialMT-48\"/>\n      </g>\n     </g>\n    </g>\n    <g id=\"ytick_4\">\n     <g id=\"line2d_19\">\n      <path clip-path=\"url(#p1575d1d399)\" d=\"M 36.44375 49.493781 \nL 230.530707 49.493781 \n\" style=\"fill:none;stroke:#ffffff;stroke-linecap:round;\"/>\n     </g>\n     <g id=\"line2d_20\"/>\n     <g id=\"text_10\">\n      <!-- 3000 -->\n      <g style=\"fill:#262626;\" transform=\"translate(7.2 53.072688)scale(0.1 -0.1)\">\n       <defs>\n        <path d=\"M 4.203125 18.890625 \nL 12.984375 20.0625 \nQ 14.5 12.59375 18.140625 9.296875 \nQ 21.78125 6 27 6 \nQ 33.203125 6 37.46875 10.296875 \nQ 41.75 14.59375 41.75 20.953125 \nQ 41.75 27 37.796875 30.921875 \nQ 33.84375 34.859375 27.734375 34.859375 \nQ 25.25 34.859375 21.53125 33.890625 \nL 22.515625 41.609375 \nQ 23.390625 41.5 23.921875 41.5 \nQ 29.546875 41.5 34.03125 44.421875 \nQ 38.53125 47.359375 38.53125 53.46875 \nQ 38.53125 58.296875 35.25 61.46875 \nQ 31.984375 64.65625 26.8125 64.65625 \nQ 21.6875 64.65625 18.265625 61.421875 \nQ 14.84375 58.203125 13.875 51.765625 \nL 5.078125 53.328125 \nQ 6.6875 62.15625 12.390625 67.015625 \nQ 18.109375 71.875 26.609375 71.875 \nQ 32.46875 71.875 37.390625 69.359375 \nQ 42.328125 66.84375 44.9375 62.5 \nQ 47.5625 58.15625 47.5625 53.265625 \nQ 47.5625 48.640625 45.0625 44.828125 \nQ 42.578125 41.015625 37.703125 38.765625 \nQ 44.046875 37.3125 47.5625 32.6875 \nQ 51.078125 28.078125 51.078125 21.140625 \nQ 51.078125 11.765625 44.234375 5.25 \nQ 37.40625 -1.265625 26.953125 -1.265625 \nQ 17.53125 -1.265625 11.296875 4.34375 \nQ 5.078125 9.96875 4.203125 18.890625 \nz\n\" id=\"ArialMT-51\"/>\n       </defs>\n       <use xlink:href=\"#ArialMT-51\"/>\n       <use x=\"55.615234\" xlink:href=\"#ArialMT-48\"/>\n       <use x=\"111.230469\" xlink:href=\"#ArialMT-48\"/>\n       <use x=\"166.845703\" xlink:href=\"#ArialMT-48\"/>\n      </g>\n     </g>\n    </g>\n   </g>\n   <g id=\"patch_3\">\n    <path clip-path=\"url(#p1575d1d399)\" d=\"M 45.265884 151.780679 \nL 62.910153 151.780679 \nL 62.910153 38.412701 \nL 45.265884 38.412701 \nz\n\" style=\"fill:#4c72b0;\"/>\n   </g>\n   <g id=\"patch_4\">\n    <path clip-path=\"url(#p1575d1d399)\" d=\"M 62.910153 151.780679 \nL 80.554422 151.780679 \nL 80.554422 148.677977 \nL 62.910153 148.677977 \nz\n\" style=\"fill:#4c72b0;\"/>\n   </g>\n   <g id=\"patch_5\">\n    <path clip-path=\"url(#p1575d1d399)\" d=\"M 80.554422 151.780679 \nL 98.198691 151.780679 \nL 98.198691 148.57569 \nL 80.554422 148.57569 \nz\n\" style=\"fill:#4c72b0;\"/>\n   </g>\n   <g id=\"patch_6\">\n    <path clip-path=\"url(#p1575d1d399)\" d=\"M 98.198691 151.780679 \nL 115.842959 151.780679 \nL 115.842959 149.223507 \nL 98.198691 149.223507 \nz\n\" style=\"fill:#4c72b0;\"/>\n   </g>\n   <g id=\"patch_7\">\n    <path clip-path=\"url(#p1575d1d399)\" d=\"M 115.842959 151.780679 \nL 133.487228 151.780679 \nL 133.487228 148.302925 \nL 115.842959 148.302925 \nz\n\" style=\"fill:#4c72b0;\"/>\n   </g>\n   <g id=\"patch_8\">\n    <path clip-path=\"url(#p1575d1d399)\" d=\"M 133.487228 151.780679 \nL 151.131497 151.780679 \nL 151.131497 149.189411 \nL 133.487228 149.189411 \nz\n\" style=\"fill:#4c72b0;\"/>\n   </g>\n   <g id=\"patch_9\">\n    <path clip-path=\"url(#p1575d1d399)\" d=\"M 151.131497 151.780679 \nL 168.775766 151.780679 \nL 168.775766 148.507499 \nL 151.131497 148.507499 \nz\n\" style=\"fill:#4c72b0;\"/>\n   </g>\n   <g id=\"patch_10\">\n    <path clip-path=\"url(#p1575d1d399)\" d=\"M 168.775766 151.780679 \nL 186.420035 151.780679 \nL 186.420035 148.609786 \nL 168.775766 148.609786 \nz\n\" style=\"fill:#4c72b0;\"/>\n   </g>\n   <g id=\"patch_11\">\n    <path clip-path=\"url(#p1575d1d399)\" d=\"M 186.420035 151.780679 \nL 204.064303 151.780679 \nL 204.064303 148.916646 \nL 186.420035 148.916646 \nz\n\" style=\"fill:#4c72b0;\"/>\n   </g>\n   <g id=\"patch_12\">\n    <path clip-path=\"url(#p1575d1d399)\" d=\"M 204.064303 151.780679 \nL 221.708572 151.780679 \nL 221.708572 118.912489 \nL 204.064303 118.912489 \nz\n\" style=\"fill:#4c72b0;\"/>\n   </g>\n   <g id=\"patch_13\">\n    <path d=\"M 36.44375 151.780679 \nL 36.44375 21.789375 \n\" style=\"fill:none;\"/>\n   </g>\n   <g id=\"patch_14\">\n    <path d=\"M 230.530707 151.780679 \nL 230.530707 21.789375 \n\" style=\"fill:none;\"/>\n   </g>\n   <g id=\"patch_15\">\n    <path d=\"M 36.44375 151.780679 \nL 230.530707 151.780679 \n\" style=\"fill:none;\"/>\n   </g>\n   <g id=\"patch_16\">\n    <path d=\"M 36.44375 21.789375 \nL 230.530707 21.789375 \n\" style=\"fill:none;\"/>\n   </g>\n   <g id=\"text_11\">\n    <!-- ^FTSE -->\n    <g style=\"fill:#262626;\" transform=\"translate(115.338166 15.789375)scale(0.12 -0.12)\">\n     <defs>\n      <path d=\"M 11.671875 33.6875 \nL 2.640625 33.6875 \nL 19.875 72.796875 \nL 26.953125 72.796875 \nL 44.28125 33.6875 \nL 35.453125 33.6875 \nL 23.390625 62.84375 \nz\n\" id=\"ArialMT-94\"/>\n      <path d=\"M 8.203125 0 \nL 8.203125 71.578125 \nL 56.5 71.578125 \nL 56.5 63.140625 \nL 17.671875 63.140625 \nL 17.671875 40.96875 \nL 51.265625 40.96875 \nL 51.265625 32.515625 \nL 17.671875 32.515625 \nL 17.671875 0 \nz\n\" id=\"ArialMT-70\"/>\n      <path d=\"M 25.921875 0 \nL 25.921875 63.140625 \nL 2.34375 63.140625 \nL 2.34375 71.578125 \nL 59.078125 71.578125 \nL 59.078125 63.140625 \nL 35.40625 63.140625 \nL 35.40625 0 \nz\n\" id=\"ArialMT-84\"/>\n      <path d=\"M 4.5 23 \nL 13.421875 23.78125 \nQ 14.0625 18.40625 16.375 14.96875 \nQ 18.703125 11.53125 23.578125 9.40625 \nQ 28.46875 7.28125 34.578125 7.28125 \nQ 39.984375 7.28125 44.140625 8.890625 \nQ 48.296875 10.5 50.3125 13.296875 \nQ 52.34375 16.109375 52.34375 19.4375 \nQ 52.34375 22.796875 50.390625 25.3125 \nQ 48.4375 27.828125 43.953125 29.546875 \nQ 41.0625 30.671875 31.203125 33.03125 \nQ 21.34375 35.40625 17.390625 37.5 \nQ 12.25 40.1875 9.734375 44.15625 \nQ 7.234375 48.140625 7.234375 53.078125 \nQ 7.234375 58.5 10.296875 63.203125 \nQ 13.375 67.921875 19.28125 70.359375 \nQ 25.203125 72.796875 32.421875 72.796875 \nQ 40.375 72.796875 46.453125 70.234375 \nQ 52.546875 67.671875 55.8125 62.6875 \nQ 59.078125 57.71875 59.328125 51.421875 \nL 50.25 50.734375 \nQ 49.515625 57.515625 45.28125 60.984375 \nQ 41.0625 64.453125 32.8125 64.453125 \nQ 24.21875 64.453125 20.28125 61.296875 \nQ 16.359375 58.15625 16.359375 53.71875 \nQ 16.359375 49.859375 19.140625 47.359375 \nQ 21.875 44.875 33.421875 42.265625 \nQ 44.96875 39.65625 49.265625 37.703125 \nQ 55.515625 34.8125 58.484375 30.390625 \nQ 61.46875 25.984375 61.46875 20.21875 \nQ 61.46875 14.5 58.203125 9.4375 \nQ 54.9375 4.390625 48.796875 1.578125 \nQ 42.671875 -1.21875 35.015625 -1.21875 \nQ 25.296875 -1.21875 18.71875 1.609375 \nQ 12.15625 4.4375 8.421875 10.125 \nQ 4.6875 15.828125 4.5 23 \nz\n\" id=\"ArialMT-83\"/>\n      <path d=\"M 7.90625 0 \nL 7.90625 71.578125 \nL 59.671875 71.578125 \nL 59.671875 63.140625 \nL 17.390625 63.140625 \nL 17.390625 41.21875 \nL 56.984375 41.21875 \nL 56.984375 32.8125 \nL 17.390625 32.8125 \nL 17.390625 8.453125 \nL 61.328125 8.453125 \nL 61.328125 0 \nz\n\" id=\"ArialMT-69\"/>\n     </defs>\n     <use xlink:href=\"#ArialMT-94\"/>\n     <use x=\"46.923828\" xlink:href=\"#ArialMT-70\"/>\n     <use x=\"108.007812\" xlink:href=\"#ArialMT-84\"/>\n     <use x=\"169.091797\" xlink:href=\"#ArialMT-83\"/>\n     <use x=\"235.791016\" xlink:href=\"#ArialMT-69\"/>\n    </g>\n   </g>\n  </g>\n  <g id=\"axes_2\">\n   <g id=\"patch_17\">\n    <path d=\"M 288.756793 151.780679 \nL 482.84375 151.780679 \nL 482.84375 21.789375 \nL 288.756793 21.789375 \nz\n\" style=\"fill:#eaeaf2;\"/>\n   </g>\n   <g id=\"matplotlib.axis_3\">\n    <g id=\"xtick_7\">\n     <g id=\"line2d_21\">\n      <path clip-path=\"url(#p0c449b08ca)\" d=\"M 297.578928 151.780679 \nL 297.578928 21.789375 \n\" style=\"fill:none;stroke:#ffffff;stroke-linecap:round;\"/>\n     </g>\n     <g id=\"line2d_22\"/>\n     <g id=\"text_12\">\n      <!-- 0.0 -->\n      <g style=\"fill:#262626;\" transform=\"translate(290.628928 165.938492)scale(0.1 -0.1)\">\n       <use xlink:href=\"#ArialMT-48\"/>\n       <use x=\"55.615234\" xlink:href=\"#ArialMT-46\"/>\n       <use x=\"83.398438\" xlink:href=\"#ArialMT-48\"/>\n      </g>\n     </g>\n    </g>\n    <g id=\"xtick_8\">\n     <g id=\"line2d_23\">\n      <path clip-path=\"url(#p0c449b08ca)\" d=\"M 332.867465 151.780679 \nL 332.867465 21.789375 \n\" style=\"fill:none;stroke:#ffffff;stroke-linecap:round;\"/>\n     </g>\n     <g id=\"line2d_24\"/>\n     <g id=\"text_13\">\n      <!-- 0.2 -->\n      <g style=\"fill:#262626;\" transform=\"translate(325.917465 165.938492)scale(0.1 -0.1)\">\n       <use xlink:href=\"#ArialMT-48\"/>\n       <use x=\"55.615234\" xlink:href=\"#ArialMT-46\"/>\n       <use x=\"83.398438\" xlink:href=\"#ArialMT-50\"/>\n      </g>\n     </g>\n    </g>\n    <g id=\"xtick_9\">\n     <g id=\"line2d_25\">\n      <path clip-path=\"url(#p0c449b08ca)\" d=\"M 368.156003 151.780679 \nL 368.156003 21.789375 \n\" style=\"fill:none;stroke:#ffffff;stroke-linecap:round;\"/>\n     </g>\n     <g id=\"line2d_26\"/>\n     <g id=\"text_14\">\n      <!-- 0.4 -->\n      <g style=\"fill:#262626;\" transform=\"translate(361.206003 165.938492)scale(0.1 -0.1)\">\n       <use xlink:href=\"#ArialMT-48\"/>\n       <use x=\"55.615234\" xlink:href=\"#ArialMT-46\"/>\n       <use x=\"83.398438\" xlink:href=\"#ArialMT-52\"/>\n      </g>\n     </g>\n    </g>\n    <g id=\"xtick_10\">\n     <g id=\"line2d_27\">\n      <path clip-path=\"url(#p0c449b08ca)\" d=\"M 403.444541 151.780679 \nL 403.444541 21.789375 \n\" style=\"fill:none;stroke:#ffffff;stroke-linecap:round;\"/>\n     </g>\n     <g id=\"line2d_28\"/>\n     <g id=\"text_15\">\n      <!-- 0.6 -->\n      <g style=\"fill:#262626;\" transform=\"translate(396.494541 165.938492)scale(0.1 -0.1)\">\n       <use xlink:href=\"#ArialMT-48\"/>\n       <use x=\"55.615234\" xlink:href=\"#ArialMT-46\"/>\n       <use x=\"83.398438\" xlink:href=\"#ArialMT-54\"/>\n      </g>\n     </g>\n    </g>\n    <g id=\"xtick_11\">\n     <g id=\"line2d_29\">\n      <path clip-path=\"url(#p0c449b08ca)\" d=\"M 438.733078 151.780679 \nL 438.733078 21.789375 \n\" style=\"fill:none;stroke:#ffffff;stroke-linecap:round;\"/>\n     </g>\n     <g id=\"line2d_30\"/>\n     <g id=\"text_16\">\n      <!-- 0.8 -->\n      <g style=\"fill:#262626;\" transform=\"translate(431.783078 165.938492)scale(0.1 -0.1)\">\n       <use xlink:href=\"#ArialMT-48\"/>\n       <use x=\"55.615234\" xlink:href=\"#ArialMT-46\"/>\n       <use x=\"83.398438\" xlink:href=\"#ArialMT-56\"/>\n      </g>\n     </g>\n    </g>\n    <g id=\"xtick_12\">\n     <g id=\"line2d_31\">\n      <path clip-path=\"url(#p0c449b08ca)\" d=\"M 474.021616 151.780679 \nL 474.021616 21.789375 \n\" style=\"fill:none;stroke:#ffffff;stroke-linecap:round;\"/>\n     </g>\n     <g id=\"line2d_32\"/>\n     <g id=\"text_17\">\n      <!-- 1.0 -->\n      <g style=\"fill:#262626;\" transform=\"translate(467.071616 165.938492)scale(0.1 -0.1)\">\n       <use xlink:href=\"#ArialMT-49\"/>\n       <use x=\"55.615234\" xlink:href=\"#ArialMT-46\"/>\n       <use x=\"83.398438\" xlink:href=\"#ArialMT-48\"/>\n      </g>\n     </g>\n    </g>\n   </g>\n   <g id=\"matplotlib.axis_4\">\n    <g id=\"ytick_5\">\n     <g id=\"line2d_33\">\n      <path clip-path=\"url(#p0c449b08ca)\" d=\"M 288.756793 151.780679 \nL 482.84375 151.780679 \n\" style=\"fill:none;stroke:#ffffff;stroke-linecap:round;\"/>\n     </g>\n     <g id=\"line2d_34\"/>\n    </g>\n    <g id=\"ytick_6\">\n     <g id=\"line2d_35\">\n      <path clip-path=\"url(#p0c449b08ca)\" d=\"M 288.756793 117.685047 \nL 482.84375 117.685047 \n\" style=\"fill:none;stroke:#ffffff;stroke-linecap:round;\"/>\n     </g>\n     <g id=\"line2d_36\"/>\n    </g>\n    <g id=\"ytick_7\">\n     <g id=\"line2d_37\">\n      <path clip-path=\"url(#p0c449b08ca)\" d=\"M 288.756793 83.589414 \nL 482.84375 83.589414 \n\" style=\"fill:none;stroke:#ffffff;stroke-linecap:round;\"/>\n     </g>\n     <g id=\"line2d_38\"/>\n    </g>\n    <g id=\"ytick_8\">\n     <g id=\"line2d_39\">\n      <path clip-path=\"url(#p0c449b08ca)\" d=\"M 288.756793 49.493781 \nL 482.84375 49.493781 \n\" style=\"fill:none;stroke:#ffffff;stroke-linecap:round;\"/>\n     </g>\n     <g id=\"line2d_40\"/>\n    </g>\n   </g>\n   <g id=\"patch_18\">\n    <path clip-path=\"url(#p0c449b08ca)\" d=\"M 297.578928 151.780679 \nL 315.223197 151.780679 \nL 315.223197 27.979437 \nL 297.578928 27.979437 \nz\n\" style=\"fill:#4c72b0;\"/>\n   </g>\n   <g id=\"patch_19\">\n    <path clip-path=\"url(#p0c449b08ca)\" d=\"M 315.223197 151.780679 \nL 332.867465 151.780679 \nL 332.867465 144.927457 \nL 315.223197 144.927457 \nz\n\" style=\"fill:#4c72b0;\"/>\n   </g>\n   <g id=\"patch_20\">\n    <path clip-path=\"url(#p0c449b08ca)\" d=\"M 332.867465 151.780679 \nL 350.511734 151.780679 \nL 350.511734 146.393569 \nL 332.867465 146.393569 \nz\n\" style=\"fill:#4c72b0;\"/>\n   </g>\n   <g id=\"patch_21\">\n    <path clip-path=\"url(#p0c449b08ca)\" d=\"M 350.511734 151.780679 \nL 368.156003 151.780679 \nL 368.156003 146.632239 \nL 350.511734 146.632239 \nz\n\" style=\"fill:#4c72b0;\"/>\n   </g>\n   <g id=\"patch_22\">\n    <path clip-path=\"url(#p0c449b08ca)\" d=\"M 368.156003 151.780679 \nL 385.800272 151.780679 \nL 385.800272 146.1549 \nL 368.156003 146.1549 \nz\n\" style=\"fill:#4c72b0;\"/>\n   </g>\n   <g id=\"patch_23\">\n    <path clip-path=\"url(#p0c449b08ca)\" d=\"M 385.800272 151.780679 \nL 403.444541 151.780679 \nL 403.444541 148.371116 \nL 385.800272 148.371116 \nz\n\" style=\"fill:#4c72b0;\"/>\n   </g>\n   <g id=\"patch_24\">\n    <path clip-path=\"url(#p0c449b08ca)\" d=\"M 403.444541 151.780679 \nL 421.088809 151.780679 \nL 421.088809 149.257603 \nL 403.444541 149.257603 \nz\n\" style=\"fill:#4c72b0;\"/>\n   </g>\n   <g id=\"patch_25\">\n    <path clip-path=\"url(#p0c449b08ca)\" d=\"M 421.088809 151.780679 \nL 438.733078 151.780679 \nL 438.733078 150.655523 \nL 421.088809 150.655523 \nz\n\" style=\"fill:#4c72b0;\"/>\n   </g>\n   <g id=\"patch_26\">\n    <path clip-path=\"url(#p0c449b08ca)\" d=\"M 438.733078 151.780679 \nL 456.377347 151.780679 \nL 456.377347 150.314567 \nL 438.733078 150.314567 \nz\n\" style=\"fill:#4c72b0;\"/>\n   </g>\n   <g id=\"patch_27\">\n    <path clip-path=\"url(#p0c449b08ca)\" d=\"M 456.377347 151.780679 \nL 474.021616 151.780679 \nL 474.021616 136.642218 \nL 456.377347 136.642218 \nz\n\" style=\"fill:#4c72b0;\"/>\n   </g>\n   <g id=\"patch_28\">\n    <path d=\"M 288.756793 151.780679 \nL 288.756793 21.789375 \n\" style=\"fill:none;\"/>\n   </g>\n   <g id=\"patch_29\">\n    <path d=\"M 482.84375 151.780679 \nL 482.84375 21.789375 \n\" style=\"fill:none;\"/>\n   </g>\n   <g id=\"patch_30\">\n    <path d=\"M 288.756793 151.780679 \nL 482.84375 151.780679 \n\" style=\"fill:none;\"/>\n   </g>\n   <g id=\"patch_31\">\n    <path d=\"M 288.756793 21.789375 \nL 482.84375 21.789375 \n\" style=\"fill:none;\"/>\n   </g>\n   <g id=\"text_18\">\n    <!-- ^GSPC -->\n    <g style=\"fill:#262626;\" transform=\"translate(365.980584 15.789375)scale(0.12 -0.12)\">\n     <defs>\n      <path d=\"M 41.21875 28.078125 \nL 41.21875 36.46875 \nL 71.53125 36.53125 \nL 71.53125 9.96875 \nQ 64.546875 4.390625 57.125 1.578125 \nQ 49.703125 -1.21875 41.890625 -1.21875 \nQ 31.34375 -1.21875 22.71875 3.296875 \nQ 14.109375 7.8125 9.71875 16.359375 \nQ 5.328125 24.90625 5.328125 35.453125 \nQ 5.328125 45.90625 9.6875 54.953125 \nQ 14.0625 64.015625 22.265625 68.40625 \nQ 30.46875 72.796875 41.15625 72.796875 \nQ 48.921875 72.796875 55.1875 70.28125 \nQ 61.46875 67.78125 65.03125 63.28125 \nQ 68.609375 58.796875 70.453125 51.5625 \nL 61.921875 49.21875 \nQ 60.296875 54.6875 57.90625 57.8125 \nQ 55.515625 60.9375 51.0625 62.8125 \nQ 46.625 64.703125 41.21875 64.703125 \nQ 34.71875 64.703125 29.984375 62.71875 \nQ 25.25 60.75 22.34375 57.515625 \nQ 19.4375 54.296875 17.828125 50.4375 \nQ 15.09375 43.796875 15.09375 36.03125 \nQ 15.09375 26.46875 18.390625 20.015625 \nQ 21.6875 13.578125 27.984375 10.453125 \nQ 34.28125 7.328125 41.359375 7.328125 \nQ 47.515625 7.328125 53.375 9.6875 \nQ 59.234375 12.0625 62.25 14.75 \nL 62.25 28.078125 \nz\n\" id=\"ArialMT-71\"/>\n      <path d=\"M 7.71875 0 \nL 7.71875 71.578125 \nL 34.71875 71.578125 \nQ 41.84375 71.578125 45.609375 70.90625 \nQ 50.875 70.015625 54.4375 67.546875 \nQ 58.015625 65.09375 60.1875 60.640625 \nQ 62.359375 56.203125 62.359375 50.875 \nQ 62.359375 41.75 56.546875 35.421875 \nQ 50.734375 29.109375 35.546875 29.109375 \nL 17.1875 29.109375 \nL 17.1875 0 \nz\nM 17.1875 37.546875 \nL 35.6875 37.546875 \nQ 44.875 37.546875 48.734375 40.96875 \nQ 52.59375 44.390625 52.59375 50.59375 \nQ 52.59375 55.078125 50.3125 58.265625 \nQ 48.046875 61.46875 44.34375 62.5 \nQ 41.9375 63.140625 35.5 63.140625 \nL 17.1875 63.140625 \nz\n\" id=\"ArialMT-80\"/>\n      <path d=\"M 58.796875 25.09375 \nL 68.265625 22.703125 \nQ 65.28125 11.03125 57.546875 4.90625 \nQ 49.8125 -1.21875 38.625 -1.21875 \nQ 27.046875 -1.21875 19.796875 3.484375 \nQ 12.546875 8.203125 8.765625 17.140625 \nQ 4.984375 26.078125 4.984375 36.328125 \nQ 4.984375 47.515625 9.25 55.828125 \nQ 13.53125 64.15625 21.40625 68.46875 \nQ 29.296875 72.796875 38.765625 72.796875 \nQ 49.515625 72.796875 56.828125 67.328125 \nQ 64.15625 61.859375 67.046875 51.953125 \nL 57.71875 49.75 \nQ 55.21875 57.5625 50.484375 61.125 \nQ 45.75 64.703125 38.578125 64.703125 \nQ 30.328125 64.703125 24.78125 60.734375 \nQ 19.234375 56.78125 16.984375 50.109375 \nQ 14.75 43.453125 14.75 36.375 \nQ 14.75 27.25 17.40625 20.4375 \nQ 20.0625 13.625 25.671875 10.25 \nQ 31.296875 6.890625 37.84375 6.890625 \nQ 45.796875 6.890625 51.3125 11.46875 \nQ 56.84375 16.0625 58.796875 25.09375 \nz\n\" id=\"ArialMT-67\"/>\n     </defs>\n     <use xlink:href=\"#ArialMT-94\"/>\n     <use x=\"46.923828\" xlink:href=\"#ArialMT-71\"/>\n     <use x=\"124.707031\" xlink:href=\"#ArialMT-83\"/>\n     <use x=\"191.40625\" xlink:href=\"#ArialMT-80\"/>\n     <use x=\"258.105469\" xlink:href=\"#ArialMT-67\"/>\n    </g>\n   </g>\n  </g>\n  <g id=\"axes_3\">\n   <g id=\"patch_32\">\n    <path d=\"M 36.44375 320.769375 \nL 230.530707 320.769375 \nL 230.530707 190.778071 \nL 36.44375 190.778071 \nz\n\" style=\"fill:#eaeaf2;\"/>\n   </g>\n   <g id=\"matplotlib.axis_5\">\n    <g id=\"xtick_13\">\n     <g id=\"line2d_41\">\n      <path clip-path=\"url(#pf4d73d00a4)\" d=\"M 45.265884 320.769375 \nL 45.265884 190.778071 \n\" style=\"fill:none;stroke:#ffffff;stroke-linecap:round;\"/>\n     </g>\n     <g id=\"line2d_42\"/>\n     <g id=\"text_19\">\n      <!-- 0.0 -->\n      <g style=\"fill:#262626;\" transform=\"translate(38.315884 334.927188)scale(0.1 -0.1)\">\n       <use xlink:href=\"#ArialMT-48\"/>\n       <use x=\"55.615234\" xlink:href=\"#ArialMT-46\"/>\n       <use x=\"83.398438\" xlink:href=\"#ArialMT-48\"/>\n      </g>\n     </g>\n    </g>\n    <g id=\"xtick_14\">\n     <g id=\"line2d_43\">\n      <path clip-path=\"url(#pf4d73d00a4)\" d=\"M 80.554422 320.769375 \nL 80.554422 190.778071 \n\" style=\"fill:none;stroke:#ffffff;stroke-linecap:round;\"/>\n     </g>\n     <g id=\"line2d_44\"/>\n     <g id=\"text_20\">\n      <!-- 0.2 -->\n      <g style=\"fill:#262626;\" transform=\"translate(73.604422 334.927188)scale(0.1 -0.1)\">\n       <use xlink:href=\"#ArialMT-48\"/>\n       <use x=\"55.615234\" xlink:href=\"#ArialMT-46\"/>\n       <use x=\"83.398438\" xlink:href=\"#ArialMT-50\"/>\n      </g>\n     </g>\n    </g>\n    <g id=\"xtick_15\">\n     <g id=\"line2d_45\">\n      <path clip-path=\"url(#pf4d73d00a4)\" d=\"M 115.842959 320.769375 \nL 115.842959 190.778071 \n\" style=\"fill:none;stroke:#ffffff;stroke-linecap:round;\"/>\n     </g>\n     <g id=\"line2d_46\"/>\n     <g id=\"text_21\">\n      <!-- 0.4 -->\n      <g style=\"fill:#262626;\" transform=\"translate(108.892959 334.927188)scale(0.1 -0.1)\">\n       <use xlink:href=\"#ArialMT-48\"/>\n       <use x=\"55.615234\" xlink:href=\"#ArialMT-46\"/>\n       <use x=\"83.398438\" xlink:href=\"#ArialMT-52\"/>\n      </g>\n     </g>\n    </g>\n    <g id=\"xtick_16\">\n     <g id=\"line2d_47\">\n      <path clip-path=\"url(#pf4d73d00a4)\" d=\"M 151.131497 320.769375 \nL 151.131497 190.778071 \n\" style=\"fill:none;stroke:#ffffff;stroke-linecap:round;\"/>\n     </g>\n     <g id=\"line2d_48\"/>\n     <g id=\"text_22\">\n      <!-- 0.6 -->\n      <g style=\"fill:#262626;\" transform=\"translate(144.181497 334.927188)scale(0.1 -0.1)\">\n       <use xlink:href=\"#ArialMT-48\"/>\n       <use x=\"55.615234\" xlink:href=\"#ArialMT-46\"/>\n       <use x=\"83.398438\" xlink:href=\"#ArialMT-54\"/>\n      </g>\n     </g>\n    </g>\n    <g id=\"xtick_17\">\n     <g id=\"line2d_49\">\n      <path clip-path=\"url(#pf4d73d00a4)\" d=\"M 186.420035 320.769375 \nL 186.420035 190.778071 \n\" style=\"fill:none;stroke:#ffffff;stroke-linecap:round;\"/>\n     </g>\n     <g id=\"line2d_50\"/>\n     <g id=\"text_23\">\n      <!-- 0.8 -->\n      <g style=\"fill:#262626;\" transform=\"translate(179.470035 334.927188)scale(0.1 -0.1)\">\n       <use xlink:href=\"#ArialMT-48\"/>\n       <use x=\"55.615234\" xlink:href=\"#ArialMT-46\"/>\n       <use x=\"83.398438\" xlink:href=\"#ArialMT-56\"/>\n      </g>\n     </g>\n    </g>\n    <g id=\"xtick_18\">\n     <g id=\"line2d_51\">\n      <path clip-path=\"url(#pf4d73d00a4)\" d=\"M 221.708572 320.769375 \nL 221.708572 190.778071 \n\" style=\"fill:none;stroke:#ffffff;stroke-linecap:round;\"/>\n     </g>\n     <g id=\"line2d_52\"/>\n     <g id=\"text_24\">\n      <!-- 1.0 -->\n      <g style=\"fill:#262626;\" transform=\"translate(214.758572 334.927188)scale(0.1 -0.1)\">\n       <use xlink:href=\"#ArialMT-49\"/>\n       <use x=\"55.615234\" xlink:href=\"#ArialMT-46\"/>\n       <use x=\"83.398438\" xlink:href=\"#ArialMT-48\"/>\n      </g>\n     </g>\n    </g>\n   </g>\n   <g id=\"matplotlib.axis_6\">\n    <g id=\"ytick_9\">\n     <g id=\"line2d_53\">\n      <path clip-path=\"url(#pf4d73d00a4)\" d=\"M 36.44375 320.769375 \nL 230.530707 320.769375 \n\" style=\"fill:none;stroke:#ffffff;stroke-linecap:round;\"/>\n     </g>\n     <g id=\"line2d_54\"/>\n     <g id=\"text_25\">\n      <!-- 0 -->\n      <g style=\"fill:#262626;\" transform=\"translate(23.882813 324.348281)scale(0.1 -0.1)\">\n       <use xlink:href=\"#ArialMT-48\"/>\n      </g>\n     </g>\n    </g>\n    <g id=\"ytick_10\">\n     <g id=\"line2d_55\">\n      <path clip-path=\"url(#pf4d73d00a4)\" d=\"M 36.44375 286.673742 \nL 230.530707 286.673742 \n\" style=\"fill:none;stroke:#ffffff;stroke-linecap:round;\"/>\n     </g>\n     <g id=\"line2d_56\"/>\n     <g id=\"text_26\">\n      <!-- 1000 -->\n      <g style=\"fill:#262626;\" transform=\"translate(7.2 290.252649)scale(0.1 -0.1)\">\n       <use xlink:href=\"#ArialMT-49\"/>\n       <use x=\"55.615234\" xlink:href=\"#ArialMT-48\"/>\n       <use x=\"111.230469\" xlink:href=\"#ArialMT-48\"/>\n       <use x=\"166.845703\" xlink:href=\"#ArialMT-48\"/>\n      </g>\n     </g>\n    </g>\n    <g id=\"ytick_11\">\n     <g id=\"line2d_57\">\n      <path clip-path=\"url(#pf4d73d00a4)\" d=\"M 36.44375 252.57811 \nL 230.530707 252.57811 \n\" style=\"fill:none;stroke:#ffffff;stroke-linecap:round;\"/>\n     </g>\n     <g id=\"line2d_58\"/>\n     <g id=\"text_27\">\n      <!-- 2000 -->\n      <g style=\"fill:#262626;\" transform=\"translate(7.2 256.157016)scale(0.1 -0.1)\">\n       <use xlink:href=\"#ArialMT-50\"/>\n       <use x=\"55.615234\" xlink:href=\"#ArialMT-48\"/>\n       <use x=\"111.230469\" xlink:href=\"#ArialMT-48\"/>\n       <use x=\"166.845703\" xlink:href=\"#ArialMT-48\"/>\n      </g>\n     </g>\n    </g>\n    <g id=\"ytick_12\">\n     <g id=\"line2d_59\">\n      <path clip-path=\"url(#pf4d73d00a4)\" d=\"M 36.44375 218.482477 \nL 230.530707 218.482477 \n\" style=\"fill:none;stroke:#ffffff;stroke-linecap:round;\"/>\n     </g>\n     <g id=\"line2d_60\"/>\n     <g id=\"text_28\">\n      <!-- 3000 -->\n      <g style=\"fill:#262626;\" transform=\"translate(7.2 222.061383)scale(0.1 -0.1)\">\n       <use xlink:href=\"#ArialMT-51\"/>\n       <use x=\"55.615234\" xlink:href=\"#ArialMT-48\"/>\n       <use x=\"111.230469\" xlink:href=\"#ArialMT-48\"/>\n       <use x=\"166.845703\" xlink:href=\"#ArialMT-48\"/>\n      </g>\n     </g>\n    </g>\n   </g>\n   <g id=\"patch_33\">\n    <path clip-path=\"url(#pf4d73d00a4)\" d=\"M 45.265884 320.769375 \nL 62.910153 320.769375 \nL 62.910153 267.17104 \nL 45.265884 267.17104 \nz\n\" style=\"fill:#4c72b0;\"/>\n   </g>\n   <g id=\"patch_34\">\n    <path clip-path=\"url(#pf4d73d00a4)\" d=\"M 62.910153 320.769375 \nL 80.554422 320.769375 \nL 80.554422 317.428003 \nL 62.910153 317.428003 \nz\n\" style=\"fill:#4c72b0;\"/>\n   </g>\n   <g id=\"patch_35\">\n    <path clip-path=\"url(#pf4d73d00a4)\" d=\"M 80.554422 320.769375 \nL 98.198691 320.769375 \nL 98.198691 317.189334 \nL 80.554422 317.189334 \nz\n\" style=\"fill:#4c72b0;\"/>\n   </g>\n   <g id=\"patch_36\">\n    <path clip-path=\"url(#pf4d73d00a4)\" d=\"M 98.198691 320.769375 \nL 115.842959 320.769375 \nL 115.842959 315.177691 \nL 98.198691 315.177691 \nz\n\" style=\"fill:#4c72b0;\"/>\n   </g>\n   <g id=\"patch_37\">\n    <path clip-path=\"url(#pf4d73d00a4)\" d=\"M 115.842959 320.769375 \nL 133.487228 320.769375 \nL 133.487228 316.064178 \nL 115.842959 316.064178 \nz\n\" style=\"fill:#4c72b0;\"/>\n   </g>\n   <g id=\"patch_38\">\n    <path clip-path=\"url(#pf4d73d00a4)\" d=\"M 133.487228 320.769375 \nL 151.131497 320.769375 \nL 151.131497 313.302431 \nL 133.487228 313.302431 \nz\n\" style=\"fill:#4c72b0;\"/>\n   </g>\n   <g id=\"patch_39\">\n    <path clip-path=\"url(#pf4d73d00a4)\" d=\"M 151.131497 320.769375 \nL 168.775766 320.769375 \nL 168.775766 315.348169 \nL 151.131497 315.348169 \nz\n\" style=\"fill:#4c72b0;\"/>\n   </g>\n   <g id=\"patch_40\">\n    <path clip-path=\"url(#pf4d73d00a4)\" d=\"M 168.775766 320.769375 \nL 186.420035 320.769375 \nL 186.420035 316.302847 \nL 168.775766 316.302847 \nz\n\" style=\"fill:#4c72b0;\"/>\n   </g>\n   <g id=\"patch_41\">\n    <path clip-path=\"url(#pf4d73d00a4)\" d=\"M 186.420035 320.769375 \nL 204.064303 320.769375 \nL 204.064303 314.461683 \nL 186.420035 314.461683 \nz\n\" style=\"fill:#4c72b0;\"/>\n   </g>\n   <g id=\"patch_42\">\n    <path clip-path=\"url(#pf4d73d00a4)\" d=\"M 204.064303 320.769375 \nL 221.708572 320.769375 \nL 221.708572 244.77021 \nL 204.064303 244.77021 \nz\n\" style=\"fill:#4c72b0;\"/>\n   </g>\n   <g id=\"patch_43\">\n    <path d=\"M 36.44375 320.769375 \nL 36.44375 190.778071 \n\" style=\"fill:none;\"/>\n   </g>\n   <g id=\"patch_44\">\n    <path d=\"M 230.530707 320.769375 \nL 230.530707 190.778071 \n\" style=\"fill:none;\"/>\n   </g>\n   <g id=\"patch_45\">\n    <path d=\"M 36.44375 320.769375 \nL 230.530707 320.769375 \n\" style=\"fill:none;\"/>\n   </g>\n   <g id=\"patch_46\">\n    <path d=\"M 36.44375 190.778071 \nL 230.530707 190.778071 \n\" style=\"fill:none;\"/>\n   </g>\n   <g id=\"text_29\">\n    <!-- ^NSEI -->\n    <g style=\"fill:#262626;\" transform=\"translate(116.667541 184.778071)scale(0.12 -0.12)\">\n     <defs>\n      <path d=\"M 7.625 0 \nL 7.625 71.578125 \nL 17.328125 71.578125 \nL 54.9375 15.375 \nL 54.9375 71.578125 \nL 64.015625 71.578125 \nL 64.015625 0 \nL 54.296875 0 \nL 16.703125 56.25 \nL 16.703125 0 \nz\n\" id=\"ArialMT-78\"/>\n      <path d=\"M 9.328125 0 \nL 9.328125 71.578125 \nL 18.796875 71.578125 \nL 18.796875 0 \nz\n\" id=\"ArialMT-73\"/>\n     </defs>\n     <use xlink:href=\"#ArialMT-94\"/>\n     <use x=\"46.923828\" xlink:href=\"#ArialMT-78\"/>\n     <use x=\"119.140625\" xlink:href=\"#ArialMT-83\"/>\n     <use x=\"185.839844\" xlink:href=\"#ArialMT-69\"/>\n     <use x=\"252.539062\" xlink:href=\"#ArialMT-73\"/>\n    </g>\n   </g>\n  </g>\n </g>\n <defs>\n  <clipPath id=\"p1575d1d399\">\n   <rect height=\"129.991304\" width=\"194.086957\" x=\"36.44375\" y=\"21.789375\"/>\n  </clipPath>\n  <clipPath id=\"p0c449b08ca\">\n   <rect height=\"129.991304\" width=\"194.086957\" x=\"288.756793\" y=\"21.789375\"/>\n  </clipPath>\n  <clipPath id=\"pf4d73d00a4\">\n   <rect height=\"129.991304\" width=\"194.086957\" x=\"36.44375\" y=\"190.778071\"/>\n  </clipPath>\n </defs>\n</svg>\n",
      "image/png": "[encoded data removed]"
     },
     "metadata": {}
    }
   ],
   "source": [
    "df.hist(sharey=True)"
   ]
  }
 ],
 "metadata": {
  "kernelspec": {
   "display_name": "Python 3",
   "language": "python",
   "name": "python3"
  },
  "language_info": {
   "codemirror_mode": {
    "name": "ipython",
    "version": 3
   },
   "file_extension": ".py",
   "mimetype": "text/x-python",
   "name": "python",
   "nbconvert_exporter": "python",
   "pygments_lexer": "ipython3",
   "version": "3.8.5-final"
  },
  "varInspector": {
   "cols": {
    "lenName": 16,
    "lenType": 16,
    "lenVar": 40
   },
   "kernels_config": {
    "python": {
     "delete_cmd_postfix": "",
     "delete_cmd_prefix": "del ",
     "library": "var_list.py",
     "varRefreshCmd": "print(var_dic_list())"
    },
    "r": {
     "delete_cmd_postfix": ") ",
     "delete_cmd_prefix": "rm(",
     "library": "var_list.r",
     "varRefreshCmd": "cat(var_dic_list()) "
    }
   },
   "types_to_exclude": [
    "module",
    "function",
    "builtin_function_or_method",
    "instance",
    "_Feature"
   ],
   "window_display": false
  }
 },
 "nbformat": 4,
 "nbformat_minor": 2
}